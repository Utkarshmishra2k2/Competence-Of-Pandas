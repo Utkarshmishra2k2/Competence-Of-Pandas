{
  "nbformat": 4,
  "nbformat_minor": 0,
  "metadata": {
    "colab": {
      "provenance": [],
      "collapsed_sections": [],
      "authorship_tag": "ABX9TyOZ3fiYa2Q6W0tpxi0Va0lr",
      "include_colab_link": true
    },
    "kernelspec": {
      "name": "python3",
      "display_name": "Python 3"
    },
    "language_info": {
      "name": "python"
    }
  },
  "cells": [
    {
      "cell_type": "markdown",
      "metadata": {
        "id": "view-in-github",
        "colab_type": "text"
      },
      "source": [
        "<a href=\"https://colab.research.google.com/github/Utkarshmishra2k2/Competence-Of-Pandas/blob/main/Pandas%20Library.ipynb\" target=\"_parent\"><img src=\"https://colab.research.google.com/assets/colab-badge.svg\" alt=\"Open In Colab\"/></a>"
      ]
    },
    {
      "cell_type": "markdown",
      "source": [
        "Pandas"
      ],
      "metadata": {
        "id": "OyczuMLXXseZ"
      }
    },
    {
      "cell_type": "code",
      "source": [
        "import pandas as pd\n",
        "import numpy as np"
      ],
      "metadata": {
        "id": "SUyrOSXeXbfK"
      },
      "execution_count": null,
      "outputs": []
    },
    {
      "cell_type": "code",
      "source": [
        "Series=pd.Series([0, 1, 1, 2, 3, 5, 8, 13, 21, 34, 55, 89, 144])    "
      ],
      "metadata": {
        "id": "ZExWjGXxbei-"
      },
      "execution_count": null,
      "outputs": []
    },
    {
      "cell_type": "code",
      "source": [
        "print(Series)   "
      ],
      "metadata": {
        "id": "xhI0WnRtfieT",
        "colab": {
          "base_uri": "https://localhost:8080/"
        },
        "outputId": "a14ce829-c0d5-429e-eb98-98e367c61b54"
      },
      "execution_count": null,
      "outputs": [
        {
          "output_type": "stream",
          "name": "stdout",
          "text": [
            "0       0\n",
            "1       1\n",
            "2       1\n",
            "3       2\n",
            "4       3\n",
            "5       5\n",
            "6       8\n",
            "7      13\n",
            "8      21\n",
            "9      34\n",
            "10     55\n",
            "11     89\n",
            "12    144\n",
            "dtype: int64\n"
          ]
        }
      ]
    },
    {
      "cell_type": "code",
      "source": [
        "Series=pd.Series([0.0, 1, 1, 2, 3, 5, 8, 13, 21, 34, 55, 89, 144])   \n",
        "print(Series)   "
      ],
      "metadata": {
        "id": "9RY0dmCYfw9z",
        "colab": {
          "base_uri": "https://localhost:8080/"
        },
        "outputId": "c8bdb8db-8397-404a-a777-4eb3888b190b"
      },
      "execution_count": null,
      "outputs": [
        {
          "output_type": "stream",
          "name": "stdout",
          "text": [
            "0       0.0\n",
            "1       1.0\n",
            "2       1.0\n",
            "3       2.0\n",
            "4       3.0\n",
            "5       5.0\n",
            "6       8.0\n",
            "7      13.0\n",
            "8      21.0\n",
            "9      34.0\n",
            "10     55.0\n",
            "11     89.0\n",
            "12    144.0\n",
            "dtype: float64\n"
          ]
        }
      ]
    },
    {
      "cell_type": "code",
      "source": [
        "Series.values    \n",
        "Series.index     "
      ],
      "metadata": {
        "id": "_VSa3Cj2gT1h",
        "colab": {
          "base_uri": "https://localhost:8080/"
        },
        "outputId": "49ee5c3c-e35d-4963-9f66-c78a8d296bf8"
      },
      "execution_count": null,
      "outputs": [
        {
          "output_type": "execute_result",
          "data": {
            "text/plain": [
              "RangeIndex(start=0, stop=13, step=1)"
            ]
          },
          "metadata": {},
          "execution_count": 5
        }
      ]
    },
    {
      "cell_type": "code",
      "source": [
        "zip?"
      ],
      "metadata": {
        "id": "EMeKC3lMgoPh"
      },
      "execution_count": null,
      "outputs": []
    },
    {
      "cell_type": "code",
      "source": [
        "for Item in zip(Series.values,Series.index):      \n",
        "    print(Item)"
      ],
      "metadata": {
        "id": "FlqAnvvchLqE",
        "colab": {
          "base_uri": "https://localhost:8080/"
        },
        "outputId": "79e4e195-fe0e-484b-a695-24ce0697e2e5"
      },
      "execution_count": null,
      "outputs": [
        {
          "output_type": "stream",
          "name": "stdout",
          "text": [
            "(0.0, 0)\n",
            "(1.0, 1)\n",
            "(1.0, 2)\n",
            "(2.0, 3)\n",
            "(3.0, 4)\n",
            "(5.0, 5)\n",
            "(8.0, 6)\n",
            "(13.0, 7)\n",
            "(21.0, 8)\n",
            "(34.0, 9)\n",
            "(55.0, 10)\n",
            "(89.0, 11)\n",
            "(144.0, 12)\n"
          ]
        }
      ]
    },
    {
      "cell_type": "code",
      "source": [
        "Series[10]    "
      ],
      "metadata": {
        "id": "Cr_dM4apheuG",
        "colab": {
          "base_uri": "https://localhost:8080/"
        },
        "outputId": "a2736462-5107-4c5c-f9e5-bea8facfe0b8"
      },
      "execution_count": null,
      "outputs": [
        {
          "output_type": "execute_result",
          "data": {
            "text/plain": [
              "55.0"
            ]
          },
          "metadata": {},
          "execution_count": 8
        }
      ]
    },
    {
      "cell_type": "code",
      "source": [
        "Series[5:10]   "
      ],
      "metadata": {
        "id": "BKWtiRZbiJOq",
        "colab": {
          "base_uri": "https://localhost:8080/"
        },
        "outputId": "84bd2cd3-8ea8-4e55-c2ff-74caa2d28416"
      },
      "execution_count": null,
      "outputs": [
        {
          "output_type": "execute_result",
          "data": {
            "text/plain": [
              "5     5.0\n",
              "6     8.0\n",
              "7    13.0\n",
              "8    21.0\n",
              "9    34.0\n",
              "dtype: float64"
            ]
          },
          "metadata": {},
          "execution_count": 9
        }
      ]
    },
    {
      "cell_type": "code",
      "source": [
        "Earth=pd.Series([5.9736,12742,40041,5.515],index=[\"Mass\",\"Diameter\",\"Circumference\",\"Density\"])   "
      ],
      "metadata": {
        "id": "OkN4m8sCiwI7"
      },
      "execution_count": null,
      "outputs": []
    },
    {
      "cell_type": "code",
      "source": [
        "Earth"
      ],
      "metadata": {
        "id": "gFu3NOWCtcMh",
        "colab": {
          "base_uri": "https://localhost:8080/"
        },
        "outputId": "6d6f3d80-7d8e-4b7a-a5fa-85d854338e46"
      },
      "execution_count": null,
      "outputs": [
        {
          "output_type": "execute_result",
          "data": {
            "text/plain": [
              "Mass                 5.9736\n",
              "Diameter         12742.0000\n",
              "Circumference    40041.0000\n",
              "Density              5.5150\n",
              "dtype: float64"
            ]
          },
          "metadata": {},
          "execution_count": 11
        }
      ]
    },
    {
      "cell_type": "code",
      "source": [
        "Array17=np.random.randint(25,125,76)   \n",
        "Array18=np.arange(1,77)    "
      ],
      "metadata": {
        "id": "bEjdLXMpt_It"
      },
      "execution_count": null,
      "outputs": []
    },
    {
      "cell_type": "code",
      "source": [
        "Array17"
      ],
      "metadata": {
        "id": "NabVrMo0w78P",
        "colab": {
          "base_uri": "https://localhost:8080/"
        },
        "outputId": "8572a734-95bd-4db3-cef0-70de865ab315"
      },
      "execution_count": null,
      "outputs": [
        {
          "output_type": "execute_result",
          "data": {
            "text/plain": [
              "array([ 28, 121,  38,  90,  86,  87,  95, 102,  98, 117,  95,  69, 101,\n",
              "       105,  65,  70,  37,  63,  26, 121, 110, 106,  69,  39,  40,  72,\n",
              "        36,  61, 120,  38,  25,  96,  27, 121,  81,  84, 108,  75,  80,\n",
              "        74,  84,  91,  36, 111,  62,  85, 106,  93,  48,  45,  53,  77,\n",
              "        30,  90,  72,  75,  41, 103,  64, 103,  59, 121,  57, 115,  59,\n",
              "        92,  92, 123,  77,  57,  96,  48,  55,  55,  80,  78])"
            ]
          },
          "metadata": {},
          "execution_count": 13
        }
      ]
    },
    {
      "cell_type": "code",
      "source": [
        "Array18"
      ],
      "metadata": {
        "id": "0BUwGUGtw7kk",
        "colab": {
          "base_uri": "https://localhost:8080/"
        },
        "outputId": "80f2ce40-b270-4f70-fe6f-ea6620a6c0a1"
      },
      "execution_count": null,
      "outputs": [
        {
          "output_type": "execute_result",
          "data": {
            "text/plain": [
              "array([ 1,  2,  3,  4,  5,  6,  7,  8,  9, 10, 11, 12, 13, 14, 15, 16, 17,\n",
              "       18, 19, 20, 21, 22, 23, 24, 25, 26, 27, 28, 29, 30, 31, 32, 33, 34,\n",
              "       35, 36, 37, 38, 39, 40, 41, 42, 43, 44, 45, 46, 47, 48, 49, 50, 51,\n",
              "       52, 53, 54, 55, 56, 57, 58, 59, 60, 61, 62, 63, 64, 65, 66, 67, 68,\n",
              "       69, 70, 71, 72, 73, 74, 75, 76])"
            ]
          },
          "metadata": {},
          "execution_count": 14
        }
      ]
    },
    {
      "cell_type": "code",
      "source": [
        "Series01=pd.Series(Array17,index=Array18)    \n",
        "Series01"
      ],
      "metadata": {
        "id": "_rKvKoIuwsrQ",
        "colab": {
          "base_uri": "https://localhost:8080/"
        },
        "outputId": "48e71390-7eb7-4f14-8854-2838c9f47c4f"
      },
      "execution_count": null,
      "outputs": [
        {
          "output_type": "execute_result",
          "data": {
            "text/plain": [
              "1      28\n",
              "2     121\n",
              "3      38\n",
              "4      90\n",
              "5      86\n",
              "     ... \n",
              "72     48\n",
              "73     55\n",
              "74     55\n",
              "75     80\n",
              "76     78\n",
              "Length: 76, dtype: int64"
            ]
          },
          "metadata": {},
          "execution_count": 15
        }
      ]
    },
    {
      "cell_type": "code",
      "source": [
        "EarthDictionary={\n",
        "    \"Mass\" : 5.9736,\n",
        "    \"Diameter\": 12742,\n",
        "    \"Circumference\": 40041,\n",
        "    \"Density\": 5.515\n",
        "    }"
      ],
      "metadata": {
        "id": "maYNPbnvw6Go"
      },
      "execution_count": null,
      "outputs": []
    },
    {
      "cell_type": "code",
      "source": [
        "EarthDictionary"
      ],
      "metadata": {
        "id": "7wS-peoazITY",
        "colab": {
          "base_uri": "https://localhost:8080/"
        },
        "outputId": "7e20faf0-d13a-4e65-8c74-4aa3e81a3855"
      },
      "execution_count": null,
      "outputs": [
        {
          "output_type": "execute_result",
          "data": {
            "text/plain": [
              "{'Mass': 5.9736, 'Diameter': 12742, 'Circumference': 40041, 'Density': 5.515}"
            ]
          },
          "metadata": {},
          "execution_count": 17
        }
      ]
    },
    {
      "cell_type": "code",
      "source": [
        "Series02=pd.Series(EarthDictionary)     \n",
        "Series02"
      ],
      "metadata": {
        "id": "l2ihQ_fszp0n",
        "colab": {
          "base_uri": "https://localhost:8080/"
        },
        "outputId": "347cbff9-d334-4d66-c141-31982668c775"
      },
      "execution_count": null,
      "outputs": [
        {
          "output_type": "execute_result",
          "data": {
            "text/plain": [
              "Mass                 5.9736\n",
              "Diameter         12742.0000\n",
              "Circumference    40041.0000\n",
              "Density              5.5150\n",
              "dtype: float64"
            ]
          },
          "metadata": {},
          "execution_count": 18
        }
      ]
    },
    {
      "cell_type": "code",
      "source": [
        "Series03=pd.Series(EarthDictionary,index=[\"Mass\",\"Density\"])    \n",
        "Series03"
      ],
      "metadata": {
        "id": "KpNdLIEsz5gb",
        "colab": {
          "base_uri": "https://localhost:8080/"
        },
        "outputId": "a8499fbf-425f-475c-8721-256ab77fa282"
      },
      "execution_count": null,
      "outputs": [
        {
          "output_type": "execute_result",
          "data": {
            "text/plain": [
              "Mass       5.9736\n",
              "Density    5.5150\n",
              "dtype: float64"
            ]
          },
          "metadata": {},
          "execution_count": 19
        }
      ]
    },
    {
      "cell_type": "markdown",
      "source": [
        "iloc & loc"
      ],
      "metadata": {
        "id": "JJRGTtPs7REQ"
      }
    },
    {
      "cell_type": "code",
      "source": [
        "Series04=pd.Series([0, 1, 1, 2, 3, 5, 8, 13, 21, 34, 55, 89, 144],index=[np.arange(1,14)])    "
      ],
      "metadata": {
        "id": "OWsXsFnO0rh8"
      },
      "execution_count": null,
      "outputs": []
    },
    {
      "cell_type": "code",
      "source": [
        "Series04"
      ],
      "metadata": {
        "id": "dLyS3T4v71_w",
        "colab": {
          "base_uri": "https://localhost:8080/"
        },
        "outputId": "9c97eafa-69a3-4ddd-ca21-373683c9cc9a"
      },
      "execution_count": null,
      "outputs": [
        {
          "output_type": "execute_result",
          "data": {
            "text/plain": [
              "1       0\n",
              "2       1\n",
              "3       1\n",
              "4       2\n",
              "5       3\n",
              "6       5\n",
              "7       8\n",
              "8      13\n",
              "9      21\n",
              "10     34\n",
              "11     55\n",
              "12     89\n",
              "13    144\n",
              "dtype: int64"
            ]
          },
          "metadata": {},
          "execution_count": 21
        }
      ]
    },
    {
      "cell_type": "code",
      "source": [
        "Series04.loc[7]    "
      ],
      "metadata": {
        "id": "9KQxZq-e8HVe",
        "colab": {
          "base_uri": "https://localhost:8080/"
        },
        "outputId": "6baf0f50-3f7e-4ad8-e371-24fc4e836714"
      },
      "execution_count": null,
      "outputs": [
        {
          "output_type": "execute_result",
          "data": {
            "text/plain": [
              "7    8\n",
              "dtype: int64"
            ]
          },
          "metadata": {},
          "execution_count": 22
        }
      ]
    },
    {
      "cell_type": "code",
      "source": [
        "Series04.iloc[7]     "
      ],
      "metadata": {
        "id": "TyUq4rEn8J_9",
        "colab": {
          "base_uri": "https://localhost:8080/"
        },
        "outputId": "e776755e-56bf-4fae-fbfb-99e0de63e62c"
      },
      "execution_count": null,
      "outputs": [
        {
          "output_type": "execute_result",
          "data": {
            "text/plain": [
              "13"
            ]
          },
          "metadata": {},
          "execution_count": 23
        }
      ]
    },
    {
      "cell_type": "markdown",
      "source": [
        "Simple Operations "
      ],
      "metadata": {
        "id": "27sHrUuBsu00"
      }
    },
    {
      "cell_type": "code",
      "source": [
        "FamilyBirthDate=pd.Series([3,3,14,1],index=[\"Avinash\",\"Neetu\",\"Utkarsh\",\"Shivansh\"])  \n",
        "FamilyBirthDate"
      ],
      "metadata": {
        "id": "cmC6ubOz8Zfp",
        "colab": {
          "base_uri": "https://localhost:8080/"
        },
        "outputId": "99f85955-2021-4f63-d33d-9a8f09fb8a57"
      },
      "execution_count": null,
      "outputs": [
        {
          "output_type": "execute_result",
          "data": {
            "text/plain": [
              "Avinash      3\n",
              "Neetu        3\n",
              "Utkarsh     14\n",
              "Shivansh     1\n",
              "dtype: int64"
            ]
          },
          "metadata": {},
          "execution_count": 24
        }
      ]
    },
    {
      "cell_type": "code",
      "source": [
        "FamilyBirthDate.loc[\"Utkarsh\"]  "
      ],
      "metadata": {
        "id": "qEG2GgZntNUR",
        "colab": {
          "base_uri": "https://localhost:8080/"
        },
        "outputId": "48c1fdc5-b0d6-423d-cf76-4b9f9e629562"
      },
      "execution_count": null,
      "outputs": [
        {
          "output_type": "execute_result",
          "data": {
            "text/plain": [
              "14"
            ]
          },
          "metadata": {},
          "execution_count": 25
        }
      ]
    },
    {
      "cell_type": "code",
      "source": [
        "FamilyBirthDate.iloc[2] "
      ],
      "metadata": {
        "id": "_GnuG5Wit4Hk",
        "colab": {
          "base_uri": "https://localhost:8080/"
        },
        "outputId": "7beb59ca-3eb7-4357-9a25-a42058fe9d1c"
      },
      "execution_count": null,
      "outputs": [
        {
          "output_type": "execute_result",
          "data": {
            "text/plain": [
              "14"
            ]
          },
          "metadata": {},
          "execution_count": 26
        }
      ]
    },
    {
      "cell_type": "code",
      "source": [
        "FamilyBirthDate.loc[\"Neetu\":\"Shivansh\"] "
      ],
      "metadata": {
        "id": "T89bW5H9vGvv",
        "colab": {
          "base_uri": "https://localhost:8080/"
        },
        "outputId": "3005bec8-b5f6-49a8-81da-bb2982c2525d"
      },
      "execution_count": null,
      "outputs": [
        {
          "output_type": "execute_result",
          "data": {
            "text/plain": [
              "Neetu        3\n",
              "Utkarsh     14\n",
              "Shivansh     1\n",
              "dtype: int64"
            ]
          },
          "metadata": {},
          "execution_count": 27
        }
      ]
    },
    {
      "cell_type": "code",
      "source": [
        "FamilyBirthDate.iloc[1:3]   "
      ],
      "metadata": {
        "id": "g0T7tdRhvREg",
        "colab": {
          "base_uri": "https://localhost:8080/"
        },
        "outputId": "db126962-cd33-4b5d-a18e-ada65ab64ff9"
      },
      "execution_count": null,
      "outputs": [
        {
          "output_type": "execute_result",
          "data": {
            "text/plain": [
              "Neetu       3\n",
              "Utkarsh    14\n",
              "dtype: int64"
            ]
          },
          "metadata": {},
          "execution_count": 28
        }
      ]
    },
    {
      "cell_type": "code",
      "source": [
        "FamilyBirthDate<10 "
      ],
      "metadata": {
        "id": "V1HMsSoyvet3",
        "colab": {
          "base_uri": "https://localhost:8080/"
        },
        "outputId": "04a4acd2-b520-40d5-8406-10ce58c1af0b"
      },
      "execution_count": null,
      "outputs": [
        {
          "output_type": "execute_result",
          "data": {
            "text/plain": [
              "Avinash      True\n",
              "Neetu        True\n",
              "Utkarsh     False\n",
              "Shivansh     True\n",
              "dtype: bool"
            ]
          },
          "metadata": {},
          "execution_count": 29
        }
      ]
    },
    {
      "cell_type": "code",
      "source": [
        "FamilyBirthDate[FamilyBirthDate<6] "
      ],
      "metadata": {
        "id": "4LmWICJdwJ5d",
        "colab": {
          "base_uri": "https://localhost:8080/"
        },
        "outputId": "8f85747e-4893-4889-e62a-16583b6ffc3e"
      },
      "execution_count": null,
      "outputs": [
        {
          "output_type": "execute_result",
          "data": {
            "text/plain": [
              "Avinash     3\n",
              "Neetu       3\n",
              "Shivansh    1\n",
              "dtype: int64"
            ]
          },
          "metadata": {},
          "execution_count": 30
        }
      ]
    },
    {
      "cell_type": "code",
      "source": [
        "FamilyBirthDate[(FamilyBirthDate>2) & (FamilyBirthDate<10)]   \n"
      ],
      "metadata": {
        "id": "-X28G_sAwu7F",
        "colab": {
          "base_uri": "https://localhost:8080/"
        },
        "outputId": "da42d55a-cb77-4ac3-c914-6db8cb5e7f63"
      },
      "execution_count": null,
      "outputs": [
        {
          "output_type": "execute_result",
          "data": {
            "text/plain": [
              "Avinash    3\n",
              "Neetu      3\n",
              "dtype: int64"
            ]
          },
          "metadata": {},
          "execution_count": 31
        }
      ]
    },
    {
      "cell_type": "code",
      "source": [
        "((FamilyBirthDate*186)/78)+1412  "
      ],
      "metadata": {
        "id": "j-lQepw7xGOc",
        "colab": {
          "base_uri": "https://localhost:8080/"
        },
        "outputId": "586839c2-88e6-4795-a45c-18b48980bd3f"
      },
      "execution_count": null,
      "outputs": [
        {
          "output_type": "execute_result",
          "data": {
            "text/plain": [
              "Avinash     1419.153846\n",
              "Neetu       1419.153846\n",
              "Utkarsh     1445.384615\n",
              "Shivansh    1414.384615\n",
              "dtype: float64"
            ]
          },
          "metadata": {},
          "execution_count": 32
        }
      ]
    },
    {
      "cell_type": "code",
      "source": [
        "np.mean(FamilyBirthDate) "
      ],
      "metadata": {
        "id": "vMVZpSTIxx5V",
        "colab": {
          "base_uri": "https://localhost:8080/"
        },
        "outputId": "7cd1573e-ae9d-4467-ec46-91407def9b7f"
      },
      "execution_count": null,
      "outputs": [
        {
          "output_type": "execute_result",
          "data": {
            "text/plain": [
              "5.25"
            ]
          },
          "metadata": {},
          "execution_count": 33
        }
      ]
    },
    {
      "cell_type": "code",
      "source": [
        "np.median(FamilyBirthDate)"
      ],
      "metadata": {
        "id": "iGVTrHidyLdN",
        "colab": {
          "base_uri": "https://localhost:8080/"
        },
        "outputId": "3550245c-8b69-4ecf-f6a1-d3270ca9923d"
      },
      "execution_count": null,
      "outputs": [
        {
          "output_type": "execute_result",
          "data": {
            "text/plain": [
              "3.0"
            ]
          },
          "metadata": {},
          "execution_count": 34
        }
      ]
    },
    {
      "cell_type": "code",
      "source": [
        "np.amax(FamilyBirthDate)    "
      ],
      "metadata": {
        "id": "0zqeGPOTyYPP",
        "colab": {
          "base_uri": "https://localhost:8080/"
        },
        "outputId": "4236b3c5-2af4-41ad-8abc-c4d472d00b35"
      },
      "execution_count": null,
      "outputs": [
        {
          "output_type": "execute_result",
          "data": {
            "text/plain": [
              "14"
            ]
          },
          "metadata": {},
          "execution_count": 35
        }
      ]
    },
    {
      "cell_type": "code",
      "source": [
        "np.amin(FamilyBirthDate)     "
      ],
      "metadata": {
        "id": "30GDfRQFz61h",
        "colab": {
          "base_uri": "https://localhost:8080/"
        },
        "outputId": "efce99dc-e1df-49f5-c240-bcd17293987e"
      },
      "execution_count": null,
      "outputs": [
        {
          "output_type": "execute_result",
          "data": {
            "text/plain": [
              "1"
            ]
          },
          "metadata": {},
          "execution_count": 36
        }
      ]
    },
    {
      "cell_type": "code",
      "source": [
        "FamilyBirthDate*FamilyBirthDate "
      ],
      "metadata": {
        "id": "7bIgurhf0II_",
        "colab": {
          "base_uri": "https://localhost:8080/"
        },
        "outputId": "7b170537-cb01-45dc-9f65-18dd49fa844b"
      },
      "execution_count": null,
      "outputs": [
        {
          "output_type": "execute_result",
          "data": {
            "text/plain": [
              "Avinash       9\n",
              "Neetu         9\n",
              "Utkarsh     196\n",
              "Shivansh      1\n",
              "dtype: int64"
            ]
          },
          "metadata": {},
          "execution_count": 37
        }
      ]
    },
    {
      "cell_type": "code",
      "source": [
        "HighBirth=FamilyBirthDate[FamilyBirthDate>10]   "
      ],
      "metadata": {
        "id": "BWAV2GfE0bqr"
      },
      "execution_count": null,
      "outputs": []
    },
    {
      "cell_type": "code",
      "source": [
        "FamilyBirthDateTest=HighBirth+FamilyBirthDate    \n",
        "FamilyBirthDateTest"
      ],
      "metadata": {
        "id": "GlwiPKql1IiQ",
        "colab": {
          "base_uri": "https://localhost:8080/"
        },
        "outputId": "8802230a-7cde-4187-ea17-8dc6341c4801"
      },
      "execution_count": null,
      "outputs": [
        {
          "output_type": "execute_result",
          "data": {
            "text/plain": [
              "Avinash      NaN\n",
              "Neetu        NaN\n",
              "Shivansh     NaN\n",
              "Utkarsh     28.0\n",
              "dtype: float64"
            ]
          },
          "metadata": {},
          "execution_count": 39
        }
      ]
    },
    {
      "cell_type": "code",
      "source": [
        "pd.isnull(FamilyBirthDateTest)    "
      ],
      "metadata": {
        "id": "Y0d8AxU61c5K",
        "colab": {
          "base_uri": "https://localhost:8080/"
        },
        "outputId": "8b1b9b6f-a5cc-49f3-bd7c-400f8481fe97"
      },
      "execution_count": null,
      "outputs": [
        {
          "output_type": "execute_result",
          "data": {
            "text/plain": [
              "Avinash      True\n",
              "Neetu        True\n",
              "Shivansh     True\n",
              "Utkarsh     False\n",
              "dtype: bool"
            ]
          },
          "metadata": {},
          "execution_count": 40
        }
      ]
    },
    {
      "cell_type": "code",
      "source": [
        "FamilyBirthDateTest[~pd.isnull(FamilyBirthDateTest)]    #Here I Printed The Only That Value Which Has Not Any Null Values\n",
        "#Here Take Note On \"~\" Symbols "
      ],
      "metadata": {
        "id": "M1zZiRBx2MAW",
        "colab": {
          "base_uri": "https://localhost:8080/"
        },
        "outputId": "571dbb88-9b7e-4ffb-a861-fc71a9938868"
      },
      "execution_count": null,
      "outputs": [
        {
          "output_type": "execute_result",
          "data": {
            "text/plain": [
              "Utkarsh    28.0\n",
              "dtype: float64"
            ]
          },
          "metadata": {},
          "execution_count": 41
        }
      ]
    },
    {
      "cell_type": "code",
      "source": [
        "FamilyBirthDate[\"Abhishek\"]=29   \n",
        "FamilyBirthDate"
      ],
      "metadata": {
        "id": "8EUL2V622tgW",
        "colab": {
          "base_uri": "https://localhost:8080/"
        },
        "outputId": "f553ed25-ddc3-4f89-b78a-56bda5d164ec"
      },
      "execution_count": null,
      "outputs": [
        {
          "output_type": "execute_result",
          "data": {
            "text/plain": [
              "Avinash      3\n",
              "Neetu        3\n",
              "Utkarsh     14\n",
              "Shivansh     1\n",
              "Abhishek    29\n",
              "dtype: int64"
            ]
          },
          "metadata": {},
          "execution_count": 42
        }
      ]
    },
    {
      "cell_type": "code",
      "source": [
        "FamilyBirthDate.drop([\"Abhishek\"]) "
      ],
      "metadata": {
        "id": "06_jBcQU30e5",
        "colab": {
          "base_uri": "https://localhost:8080/"
        },
        "outputId": "ab0f101a-6d8d-42a3-e1e7-1d21c6076975"
      },
      "execution_count": null,
      "outputs": [
        {
          "output_type": "execute_result",
          "data": {
            "text/plain": [
              "Avinash      3\n",
              "Neetu        3\n",
              "Utkarsh     14\n",
              "Shivansh     1\n",
              "dtype: int64"
            ]
          },
          "metadata": {},
          "execution_count": 43
        }
      ]
    },
    {
      "cell_type": "markdown",
      "source": [
        "Callect The Number Of Diameter Of These Planetes And Strore It AS Series Object.Then Compute The Density"
      ],
      "metadata": {
        "id": "udT4KW8t49X5"
      }
    },
    {
      "cell_type": "code",
      "source": [
        "PlanteMass=pd.Series([0.330,4.87,5.97,0.073,0.642,1898,568,86.8,102,0.0130],index=[\"MERCURY\",\"VENUS\",\"EARTH\",\"MOON\",\"MARS\",\"JUPITER\",\"SATURN\",\"URANUS\",\"NEPTUNE\",\"PLUTO\"])\n",
        "PlanteDiameter=pd.Series([4879,12104,12756,3475,6792,142984,120536,51118,49528,2376],index=[\"MERCURY\",\"VENUS\",\"EARTH\",\"MOON\",\"MARS\",\"JUPITER\",\"SATURN\",\"URANUS\",\"NEPTUNE\",\"PLUTO\"])"
      ],
      "metadata": {
        "id": "QVWVLNUd6NJ2"
      },
      "execution_count": null,
      "outputs": []
    },
    {
      "cell_type": "code",
      "source": [
        "PlanteMass"
      ],
      "metadata": {
        "id": "CpGxKy_e9R-y",
        "colab": {
          "base_uri": "https://localhost:8080/"
        },
        "outputId": "6ef39dfd-7253-4e91-e204-9889c806eedb"
      },
      "execution_count": null,
      "outputs": [
        {
          "output_type": "execute_result",
          "data": {
            "text/plain": [
              "MERCURY       0.330\n",
              "VENUS         4.870\n",
              "EARTH         5.970\n",
              "MOON          0.073\n",
              "MARS          0.642\n",
              "JUPITER    1898.000\n",
              "SATURN      568.000\n",
              "URANUS       86.800\n",
              "NEPTUNE     102.000\n",
              "PLUTO         0.013\n",
              "dtype: float64"
            ]
          },
          "metadata": {},
          "execution_count": 45
        }
      ]
    },
    {
      "cell_type": "code",
      "source": [
        "PlanteDiameter"
      ],
      "metadata": {
        "id": "8ZxYGACgBHps",
        "colab": {
          "base_uri": "https://localhost:8080/"
        },
        "outputId": "df9dbde0-e100-421e-bb1b-691487051dd8"
      },
      "execution_count": null,
      "outputs": [
        {
          "output_type": "execute_result",
          "data": {
            "text/plain": [
              "MERCURY      4879\n",
              "VENUS       12104\n",
              "EARTH       12756\n",
              "MOON         3475\n",
              "MARS         6792\n",
              "JUPITER    142984\n",
              "SATURN     120536\n",
              "URANUS      51118\n",
              "NEPTUNE     49528\n",
              "PLUTO        2376\n",
              "dtype: int64"
            ]
          },
          "metadata": {},
          "execution_count": 46
        }
      ]
    },
    {
      "cell_type": "code",
      "source": [
        "PlanteDensity=pd.Series([])   "
      ],
      "metadata": {
        "id": "HuId-yiaBOjp",
        "colab": {
          "base_uri": "https://localhost:8080/"
        },
        "outputId": "c642c66a-6c03-4a0e-faf9-3f7ee8ea1539"
      },
      "execution_count": null,
      "outputs": [
        {
          "output_type": "stream",
          "name": "stderr",
          "text": [
            "/usr/local/lib/python3.7/dist-packages/ipykernel_launcher.py:1: DeprecationWarning: The default dtype for empty Series will be 'object' instead of 'float64' in a future version. Specify a dtype explicitly to silence this warning.\n",
            "  \"\"\"Entry point for launching an IPython kernel.\n"
          ]
        }
      ]
    },
    {
      "cell_type": "code",
      "source": [
        "PlanteDensity   "
      ],
      "metadata": {
        "id": "dUC4GNaGBaW4",
        "colab": {
          "base_uri": "https://localhost:8080/"
        },
        "outputId": "5118c665-743c-4c7b-c29e-4225bc004dea"
      },
      "execution_count": null,
      "outputs": [
        {
          "output_type": "execute_result",
          "data": {
            "text/plain": [
              "Series([], dtype: float64)"
            ]
          },
          "metadata": {},
          "execution_count": 48
        }
      ]
    },
    {
      "cell_type": "markdown",
      "source": [
        "Find Planet Density"
      ],
      "metadata": {
        "id": "QAMKFcj5Vwd4"
      }
    },
    {
      "cell_type": "code",
      "source": [
        "for PlanteList in PlanteMass.index:     \n",
        "    PlanteDensity[PlanteList]=PlanteMass[PlanteList]/(np.pi*PlanteDiameter[PlanteList]*PlanteDiameter[PlanteList]*PlanteDiameter[PlanteList]/6)   "
      ],
      "metadata": {
        "id": "Q-hRyitaBeeF"
      },
      "execution_count": null,
      "outputs": []
    },
    {
      "cell_type": "code",
      "source": [
        "PlanteDensity   "
      ],
      "metadata": {
        "id": "TcO7LkXbC85P",
        "colab": {
          "base_uri": "https://localhost:8080/"
        },
        "outputId": "997a2f41-0de8-476e-e5c3-fc35b0dcd956"
      },
      "execution_count": null,
      "outputs": [
        {
          "output_type": "execute_result",
          "data": {
            "text/plain": [
              "MERCURY    5.426538e-12\n",
              "VENUS      5.244977e-12\n",
              "EARTH      5.493286e-12\n",
              "MOON       3.322460e-12\n",
              "MARS       3.913302e-12\n",
              "JUPITER    1.240039e-12\n",
              "SATURN     6.194402e-13\n",
              "URANUS     1.241079e-12\n",
              "NEPTUNE    1.603427e-12\n",
              "PLUTO      1.850996e-12\n",
              "dtype: float64"
            ]
          },
          "metadata": {},
          "execution_count": 50
        }
      ]
    },
    {
      "cell_type": "code",
      "source": [
        "#Here I'm Doing By Panda's Method\n",
        "PlanteDensity = PlanteMass / (np.pi * np.power(PlanteDiameter,3) / 6)     "
      ],
      "metadata": {
        "id": "d0kF9_uBDALG"
      },
      "execution_count": null,
      "outputs": []
    },
    {
      "cell_type": "code",
      "source": [
        "PlanteMass[\"UtkarshPlan\"]=45"
      ],
      "metadata": {
        "id": "C9sqeackGo3p"
      },
      "execution_count": null,
      "outputs": []
    },
    {
      "cell_type": "code",
      "source": [
        "#Here I'm Doing By Panda's Method\n",
        "PlanteDensity = PlanteMass / (np.pi * np.power(PlanteDiameter,3) / 6)      #Here I Entered The Formula By Using NumPy's Library (i.e np.pi,np.power)\n",
        "PlanteDensity"
      ],
      "metadata": {
        "id": "CoPXYQw6ISQO",
        "colab": {
          "base_uri": "https://localhost:8080/"
        },
        "outputId": "edde9b96-3033-4330-b3c2-159f2c107957"
      },
      "execution_count": null,
      "outputs": [
        {
          "output_type": "execute_result",
          "data": {
            "text/plain": [
              "EARTH          5.493286e-12\n",
              "JUPITER        1.240039e-12\n",
              "MARS           3.913302e-12\n",
              "MERCURY        5.426538e-12\n",
              "MOON           3.322460e-12\n",
              "NEPTUNE        1.603427e-12\n",
              "PLUTO          1.850996e-12\n",
              "SATURN         6.194402e-13\n",
              "URANUS         1.241079e-12\n",
              "UtkarshPlan             NaN\n",
              "VENUS          5.244977e-12\n",
              "dtype: float64"
            ]
          },
          "metadata": {},
          "execution_count": 53
        }
      ]
    },
    {
      "cell_type": "markdown",
      "source": [
        "Given This Planet Density Serirs Replace All Valuse NaN's with The Mean Desity"
      ],
      "metadata": {
        "id": "AvRyZ4M8IlSS"
      }
    },
    {
      "cell_type": "code",
      "source": [
        "#Here I Doing By Iterative Way\n",
        "PlanteDensityMean=np.mean(PlanteDensity)   \n",
        "for Elements in PlanteDensity.index:      \n",
        "    if pd.isnull(PlanteDensity[Elements]):     \n",
        "        PlanteDensity[Elements]=PlanteDensityMean   \n",
        "\n",
        "\n",
        "PlanteDensity     "
      ],
      "metadata": {
        "id": "FsHFNFfDIVvh",
        "colab": {
          "base_uri": "https://localhost:8080/"
        },
        "outputId": "180e6bfb-e2d9-4836-b6c9-bb2fcfda0226"
      },
      "execution_count": null,
      "outputs": [
        {
          "output_type": "execute_result",
          "data": {
            "text/plain": [
              "EARTH          5.493286e-12\n",
              "JUPITER        1.240039e-12\n",
              "MARS           3.913302e-12\n",
              "MERCURY        5.426538e-12\n",
              "MOON           3.322460e-12\n",
              "NEPTUNE        1.603427e-12\n",
              "PLUTO          1.850996e-12\n",
              "SATURN         6.194402e-13\n",
              "URANUS         1.241079e-12\n",
              "UtkarshPlan    2.995554e-12\n",
              "VENUS          5.244977e-12\n",
              "dtype: float64"
            ]
          },
          "metadata": {},
          "execution_count": 54
        }
      ]
    },
    {
      "cell_type": "code",
      "source": [
        "#Here I'm Doing By Panda's\n",
        "PlanteDensity[pd.isnull(PlanteDensity)]  "
      ],
      "metadata": {
        "id": "O6dRtD9qVU5o",
        "colab": {
          "base_uri": "https://localhost:8080/"
        },
        "outputId": "858f4b1c-9fdf-46d6-8fbb-9166241bd6a1"
      },
      "execution_count": null,
      "outputs": [
        {
          "output_type": "execute_result",
          "data": {
            "text/plain": [
              "Series([], dtype: float64)"
            ]
          },
          "metadata": {},
          "execution_count": 55
        }
      ]
    },
    {
      "cell_type": "code",
      "source": [
        "PlanteDensity[pd.isnull(PlanteDensity)]=np.mean(PlanteDensity)      "
      ],
      "metadata": {
        "id": "uYT5pGwuVU05"
      },
      "execution_count": null,
      "outputs": []
    },
    {
      "cell_type": "code",
      "source": [
        "PlanteDensity"
      ],
      "metadata": {
        "id": "DFjPtxUYWl3A",
        "colab": {
          "base_uri": "https://localhost:8080/"
        },
        "outputId": "beebc2a8-c0be-42ad-ac22-249a7c590e48"
      },
      "execution_count": null,
      "outputs": [
        {
          "output_type": "execute_result",
          "data": {
            "text/plain": [
              "EARTH          5.493286e-12\n",
              "JUPITER        1.240039e-12\n",
              "MARS           3.913302e-12\n",
              "MERCURY        5.426538e-12\n",
              "MOON           3.322460e-12\n",
              "NEPTUNE        1.603427e-12\n",
              "PLUTO          1.850996e-12\n",
              "SATURN         6.194402e-13\n",
              "URANUS         1.241079e-12\n",
              "UtkarshPlan    2.995554e-12\n",
              "VENUS          5.244977e-12\n",
              "dtype: float64"
            ]
          },
          "metadata": {},
          "execution_count": 57
        }
      ]
    },
    {
      "cell_type": "markdown",
      "source": [
        "Series Vs Dictionary-\n",
        "- Check If Some Key Is Prsent\n",
        "- Summing Values\n",
        "- Computing Standard Deviation "
      ],
      "metadata": {
        "id": "KcN7U8YwJZ5_"
      }
    },
    {
      "cell_type": "code",
      "source": [
        "Dictionary01={} \n",
        "N=10000\n",
        "for D in range(N):  \n",
        "    Dictionary01[D]=D%12  "
      ],
      "metadata": {
        "id": "_j7C9b_mJqp_"
      },
      "execution_count": null,
      "outputs": []
    },
    {
      "cell_type": "code",
      "source": [
        "Series05=pd.Series(Dictionary01)    "
      ],
      "metadata": {
        "id": "8h-yNmSYflnl"
      },
      "execution_count": null,
      "outputs": []
    },
    {
      "cell_type": "code",
      "source": [
        "M=1102545    "
      ],
      "metadata": {
        "id": "M3QbcSzIf17X"
      },
      "execution_count": null,
      "outputs": []
    },
    {
      "cell_type": "code",
      "source": [
        "Array19=np.random.randint(0,N,M)  "
      ],
      "metadata": {
        "id": "1KaAW9qHgB3X"
      },
      "execution_count": null,
      "outputs": []
    },
    {
      "cell_type": "markdown",
      "source": [
        "Magic Command's "
      ],
      "metadata": {
        "id": "SAGi3yIpYIPr"
      }
    },
    {
      "cell_type": "code",
      "source": [
        "%%time?"
      ],
      "metadata": {
        "id": "xjXDgvjt4bEl"
      },
      "execution_count": null,
      "outputs": []
    },
    {
      "cell_type": "code",
      "source": [
        "%%timeit?"
      ],
      "metadata": {
        "id": "9w_TKPuQ6Bt3"
      },
      "execution_count": null,
      "outputs": []
    },
    {
      "cell_type": "code",
      "source": [
        "%%timeit\n",
        "for Items in Array19:  \n",
        "    Items in Dictionary01  "
      ],
      "metadata": {
        "id": "voBeAIjpgT6M",
        "colab": {
          "base_uri": "https://localhost:8080/"
        },
        "outputId": "df4b929c-cc9d-4f6c-b93d-d5cceb9f1786"
      },
      "execution_count": null,
      "outputs": [
        {
          "output_type": "stream",
          "name": "stdout",
          "text": [
            "619 ms ± 271 ms per loop (mean ± std. dev. of 7 runs, 1 loop each)\n"
          ]
        }
      ]
    },
    {
      "cell_type": "code",
      "source": [
        "%%timeit\n",
        "for Item in Array19:      \n",
        "    Item in Series05     "
      ],
      "metadata": {
        "id": "IAQTeni96dhB",
        "colab": {
          "base_uri": "https://localhost:8080/"
        },
        "outputId": "20e7527f-c870-482b-fe98-2dc07dafebaf"
      },
      "execution_count": null,
      "outputs": [
        {
          "output_type": "stream",
          "name": "stdout",
          "text": [
            "2.73 s ± 364 ms per loop (mean ± std. dev. of 7 runs, 1 loop each)\n"
          ]
        }
      ]
    },
    {
      "cell_type": "code",
      "source": [
        "%%timeit\n",
        "sum(Dictionary01.values())"
      ],
      "metadata": {
        "id": "ZaNQm08U6EzH",
        "colab": {
          "base_uri": "https://localhost:8080/"
        },
        "outputId": "5e89631d-969b-4113-dbe9-a8679b640cc2"
      },
      "execution_count": null,
      "outputs": [
        {
          "output_type": "stream",
          "name": "stdout",
          "text": [
            "112 µs ± 975 ns per loop (mean ± std. dev. of 7 runs, 10000 loops each)\n"
          ]
        }
      ]
    },
    {
      "cell_type": "code",
      "source": [
        "%%timeit\n",
        "np.sum(Series05)"
      ],
      "metadata": {
        "id": "2PPnGmYB7iCe",
        "colab": {
          "base_uri": "https://localhost:8080/"
        },
        "outputId": "21fc9c75-1aec-48b9-d13d-2d31ea65b04c"
      },
      "execution_count": null,
      "outputs": [
        {
          "output_type": "stream",
          "name": "stdout",
          "text": [
            "60.1 µs ± 1.21 µs per loop (mean ± std. dev. of 7 runs, 10000 loops each)\n"
          ]
        }
      ]
    },
    {
      "cell_type": "markdown",
      "source": [
        "Case Study(Gold)"
      ],
      "metadata": {
        "id": "qqmzGXfjGISG"
      }
    },
    {
      "cell_type": "code",
      "source": [
        "FileGold=pd.read_csv(\"https://raw.githubusercontent.com/UM1412/Data-Set/main/Pandas01-Gold.csv\",index_col=0).iloc[:,0] "
      ],
      "metadata": {
        "id": "XcBSg69XHoH9"
      },
      "execution_count": null,
      "outputs": []
    },
    {
      "cell_type": "code",
      "source": [
        "FileGold    "
      ],
      "metadata": {
        "id": "5VcSNjPTIH5p",
        "colab": {
          "base_uri": "https://localhost:8080/"
        },
        "outputId": "0ca7de87-22b9-499b-fa46-499202c0d1ea"
      },
      "execution_count": null,
      "outputs": [
        {
          "output_type": "execute_result",
          "data": {
            "text/plain": [
              "Date\n",
              "31-01-2000     436.803799\n",
              "29-02-2000     461.251271\n",
              "31-03-2000     440.281956\n",
              "28-04-2000     430.542352\n",
              "31-05-2000     426.822702\n",
              "                 ...     \n",
              "30-07-2021    4751.369280\n",
              "31-08-2021    4668.087952\n",
              "30-09-2021    4613.220134\n",
              "29-10-2021    4699.733953\n",
              "30-11-2021    4782.726122\n",
              "Name: Price, Length: 263, dtype: float64"
            ]
          },
          "metadata": {},
          "execution_count": 69
        }
      ]
    },
    {
      "cell_type": "code",
      "source": [
        "FileGold.head(30)     "
      ],
      "metadata": {
        "id": "CQDvwj2vIphP",
        "colab": {
          "base_uri": "https://localhost:8080/"
        },
        "outputId": "944e4b8f-a0f6-41b1-83cd-fbbc36590769"
      },
      "execution_count": null,
      "outputs": [
        {
          "output_type": "execute_result",
          "data": {
            "text/plain": [
              "Date\n",
              "31-01-2000    436.803799\n",
              "29-02-2000    461.251271\n",
              "31-03-2000    440.281956\n",
              "28-04-2000    430.542352\n",
              "31-05-2000    426.822702\n",
              "30-06-2000    450.327184\n",
              "31-07-2000    444.751562\n",
              "31-08-2000    442.241782\n",
              "29-09-2000    442.966828\n",
              "31-10-2000    441.319357\n",
              "30-11-2000    438.876114\n",
              "29-12-2000    447.650216\n",
              "31-01-2001    435.714863\n",
              "28-02-2001    429.688231\n",
              "30-03-2001    432.471134\n",
              "30-04-2001    429.476185\n",
              "31-05-2001    450.720824\n",
              "29-06-2001    447.944070\n",
              "31-07-2001    444.767735\n",
              "31-08-2001    452.752482\n",
              "28-09-2001    476.254989\n",
              "31-10-2001    479.361897\n",
              "30-11-2001    467.527364\n",
              "31-12-2001    465.798910\n",
              "31-01-2002    479.603690\n",
              "28-02-2002    507.185143\n",
              "29-03-2002    505.312672\n",
              "30-04-2002    522.033979\n",
              "31-05-2002    543.226452\n",
              "28-06-2002    554.307289\n",
              "Name: Price, dtype: float64"
            ]
          },
          "metadata": {},
          "execution_count": 70
        }
      ]
    },
    {
      "cell_type": "code",
      "source": [
        "FileGold.tail(30)     "
      ],
      "metadata": {
        "id": "3M8bwY-RKmrq",
        "colab": {
          "base_uri": "https://localhost:8080/"
        },
        "outputId": "4095442a-8a30-4c8e-b798-21f56af1952a"
      },
      "execution_count": null,
      "outputs": [
        {
          "output_type": "execute_result",
          "data": {
            "text/plain": [
              "Date\n",
              "28-06-2019    3328.189488\n",
              "31-07-2019    3427.557932\n",
              "30-08-2019    3759.307081\n",
              "30-09-2019    3804.978663\n",
              "31-10-2019    3746.351086\n",
              "29-11-2019    3706.261010\n",
              "31-12-2019    3704.791284\n",
              "31-01-2020    3924.584490\n",
              "28-02-2020    4028.273994\n",
              "31-03-2020    4182.518746\n",
              "30-04-2020    4522.639126\n",
              "29-05-2020    4580.651433\n",
              "30-06-2020    4628.437278\n",
              "31-07-2020    4874.176261\n",
              "31-08-2020    5186.027076\n",
              "30-09-2020    4984.190610\n",
              "30-10-2020    4925.715984\n",
              "30-11-2020    4882.848378\n",
              "31-12-2020    4822.395086\n",
              "29-01-2021    4814.221884\n",
              "26-02-2021    4642.647719\n",
              "31-03-2021    4412.343315\n",
              "30-04-2021    4633.739050\n",
              "31-05-2021    4784.721290\n",
              "30-06-2021    4759.513064\n",
              "30-07-2021    4751.369280\n",
              "31-08-2021    4668.087952\n",
              "30-09-2021    4613.220134\n",
              "29-10-2021    4699.733953\n",
              "30-11-2021    4782.726122\n",
              "Name: Price, dtype: float64"
            ]
          },
          "metadata": {},
          "execution_count": 71
        }
      ]
    },
    {
      "cell_type": "code",
      "source": [
        "np.mean(FileGold)     "
      ],
      "metadata": {
        "id": "3ZzFAnpeK62v",
        "colab": {
          "base_uri": "https://localhost:8080/"
        },
        "outputId": "00c295cc-7fd9-490a-fb74-9aa3e0bd2a9a"
      },
      "execution_count": null,
      "outputs": [
        {
          "output_type": "execute_result",
          "data": {
            "text/plain": [
              "2079.638672951331"
            ]
          },
          "metadata": {},
          "execution_count": 72
        }
      ]
    },
    {
      "cell_type": "code",
      "source": [
        "np.median(FileGold)     "
      ],
      "metadata": {
        "id": "dWWpMlkXLZaw",
        "colab": {
          "base_uri": "https://localhost:8080/"
        },
        "outputId": "8101d919-e132-47fb-a2d6-be4744ad40aa"
      },
      "execution_count": null,
      "outputs": [
        {
          "output_type": "execute_result",
          "data": {
            "text/plain": [
              "2175.026844"
            ]
          },
          "metadata": {},
          "execution_count": 73
        }
      ]
    },
    {
      "cell_type": "code",
      "source": [
        "np.std(FileGold)    "
      ],
      "metadata": {
        "id": "LX6sOTX0LjzY",
        "colab": {
          "base_uri": "https://localhost:8080/"
        },
        "outputId": "a82901e0-3228-4594-a4eb-471915e50f8d"
      },
      "execution_count": null,
      "outputs": [
        {
          "output_type": "execute_result",
          "data": {
            "text/plain": [
              "1304.1722252053971"
            ]
          },
          "metadata": {},
          "execution_count": 74
        }
      ]
    },
    {
      "cell_type": "code",
      "source": [
        "np.var(FileGold)     "
      ],
      "metadata": {
        "id": "-oo2X9pBL0j-",
        "colab": {
          "base_uri": "https://localhost:8080/"
        },
        "outputId": "3a3e1430-6d00-4bdc-d583-612fcf711b66"
      },
      "execution_count": null,
      "outputs": [
        {
          "output_type": "execute_result",
          "data": {
            "text/plain": [
              "1700865.1929971972"
            ]
          },
          "metadata": {},
          "execution_count": 75
        }
      ]
    },
    {
      "cell_type": "markdown",
      "source": [
        "What Fraction Of Days did The Gold Close Higher Than The Previous Days"
      ],
      "metadata": {
        "id": "BdKITI10MDf0"
      }
    },
    {
      "cell_type": "code",
      "source": [
        " np.sum((FileGold.values[1:]-FileGold.values[:-1])>0)/len(FileGold)"
      ],
      "metadata": {
        "id": "6E6tNUj2NgcA",
        "colab": {
          "base_uri": "https://localhost:8080/"
        },
        "outputId": "076d83c6-d33c-4095-ef97-b7aee664a581"
      },
      "execution_count": null,
      "outputs": [
        {
          "output_type": "execute_result",
          "data": {
            "text/plain": [
              "0.5703422053231939"
            ]
          },
          "metadata": {},
          "execution_count": 76
        }
      ]
    },
    {
      "cell_type": "markdown",
      "source": [
        "\n",
        "\n",
        "\n",
        "1.   Compute Moving Average Of Last 4 Days\n",
        "2.   Subset The data To Include Only Data For Mondays\n",
        "\n"
      ],
      "metadata": {
        "id": "dsYBncdOQNXa"
      }
    },
    {
      "cell_type": "code",
      "source": [
        "pd.Timestamp?"
      ],
      "metadata": {
        "id": "L05fEwqhO-xT"
      },
      "execution_count": null,
      "outputs": []
    },
    {
      "cell_type": "code",
      "source": [
        "pd.Timestamp(FileGold.index[0])       "
      ],
      "metadata": {
        "id": "Io-bysywSzeG",
        "colab": {
          "base_uri": "https://localhost:8080/"
        },
        "outputId": "0555ee35-0033-4c94-ae99-ee2aad186d7c"
      },
      "execution_count": null,
      "outputs": [
        {
          "output_type": "execute_result",
          "data": {
            "text/plain": [
              "Timestamp('2000-01-31 00:00:00')"
            ]
          },
          "metadata": {},
          "execution_count": 78
        }
      ]
    },
    {
      "cell_type": "code",
      "source": [
        "NewIndex=map(pd.Timestamp,FileGold.index)"
      ],
      "metadata": {
        "id": "Tev4gc3mTE8o"
      },
      "execution_count": null,
      "outputs": []
    },
    {
      "cell_type": "code",
      "source": [
        "FileGold01=pd.Series(FileGold,index=NewIndex)"
      ],
      "metadata": {
        "id": "d5RzxgvGTTk_"
      },
      "execution_count": null,
      "outputs": []
    },
    {
      "cell_type": "code",
      "source": [
        "FileGold01"
      ],
      "metadata": {
        "id": "mr3zk5xLUgOe",
        "colab": {
          "base_uri": "https://localhost:8080/"
        },
        "outputId": "8c9b7802-1a14-4b82-d9b7-2d276a4344ea"
      },
      "execution_count": null,
      "outputs": [
        {
          "output_type": "execute_result",
          "data": {
            "text/plain": [
              "2000-01-31   NaN\n",
              "2000-02-29   NaN\n",
              "2000-03-31   NaN\n",
              "2000-04-28   NaN\n",
              "2000-05-31   NaN\n",
              "              ..\n",
              "2021-07-30   NaN\n",
              "2021-08-31   NaN\n",
              "2021-09-30   NaN\n",
              "2021-10-29   NaN\n",
              "2021-11-30   NaN\n",
              "Name: Price, Length: 263, dtype: float64"
            ]
          },
          "metadata": {},
          "execution_count": 81
        }
      ]
    },
    {
      "cell_type": "code",
      "source": [
        "FileGold01.rolling(\"1d\").mean()"
      ],
      "metadata": {
        "id": "9rr34jlwUixX",
        "colab": {
          "base_uri": "https://localhost:8080/"
        },
        "outputId": "993a8db7-8148-40db-8833-f3310dc8233f"
      },
      "execution_count": null,
      "outputs": [
        {
          "output_type": "execute_result",
          "data": {
            "text/plain": [
              "2000-01-31   NaN\n",
              "2000-02-29   NaN\n",
              "2000-03-31   NaN\n",
              "2000-04-28   NaN\n",
              "2000-05-31   NaN\n",
              "              ..\n",
              "2021-07-30   NaN\n",
              "2021-08-31   NaN\n",
              "2021-09-30   NaN\n",
              "2021-10-29   NaN\n",
              "2021-11-30   NaN\n",
              "Name: Price, Length: 263, dtype: float64"
            ]
          },
          "metadata": {},
          "execution_count": 82
        }
      ]
    },
    {
      "cell_type": "markdown",
      "source": [
        "Data Frame Object "
      ],
      "metadata": {
        "id": "zjqYA6NoqJ-g"
      }
    },
    {
      "cell_type": "code",
      "source": [
        "Array20=np.random.randint(78,778,(5,5))   \n",
        "Array20"
      ],
      "metadata": {
        "id": "JYmj540Aqj0e",
        "colab": {
          "base_uri": "https://localhost:8080/"
        },
        "outputId": "12e685f7-a7b4-4c61-ac2d-d21b11f3aa2a"
      },
      "execution_count": null,
      "outputs": [
        {
          "output_type": "execute_result",
          "data": {
            "text/plain": [
              "array([[196, 179, 104, 178, 357],\n",
              "       [672, 721, 587, 139, 776],\n",
              "       [703, 537, 689, 533, 348],\n",
              "       [722, 217, 217, 217, 724],\n",
              "       [499, 647, 518, 265, 184]])"
            ]
          },
          "metadata": {},
          "execution_count": 83
        }
      ]
    },
    {
      "cell_type": "code",
      "source": [
        "df01=pd.DataFrame(Array20)       \n",
        "df01\n"
      ],
      "metadata": {
        "id": "4hQOZZVPreGT",
        "colab": {
          "base_uri": "https://localhost:8080/",
          "height": 206
        },
        "outputId": "5c73248c-66ee-4d13-c38f-12859274e1a1"
      },
      "execution_count": null,
      "outputs": [
        {
          "output_type": "execute_result",
          "data": {
            "text/plain": [
              "     0    1    2    3    4\n",
              "0  196  179  104  178  357\n",
              "1  672  721  587  139  776\n",
              "2  703  537  689  533  348\n",
              "3  722  217  217  217  724\n",
              "4  499  647  518  265  184"
            ],
            "text/html": [
              "\n",
              "  <div id=\"df-487e3231-3128-4a68-9e7e-ef0b8deae60f\">\n",
              "    <div class=\"colab-df-container\">\n",
              "      <div>\n",
              "<style scoped>\n",
              "    .dataframe tbody tr th:only-of-type {\n",
              "        vertical-align: middle;\n",
              "    }\n",
              "\n",
              "    .dataframe tbody tr th {\n",
              "        vertical-align: top;\n",
              "    }\n",
              "\n",
              "    .dataframe thead th {\n",
              "        text-align: right;\n",
              "    }\n",
              "</style>\n",
              "<table border=\"1\" class=\"dataframe\">\n",
              "  <thead>\n",
              "    <tr style=\"text-align: right;\">\n",
              "      <th></th>\n",
              "      <th>0</th>\n",
              "      <th>1</th>\n",
              "      <th>2</th>\n",
              "      <th>3</th>\n",
              "      <th>4</th>\n",
              "    </tr>\n",
              "  </thead>\n",
              "  <tbody>\n",
              "    <tr>\n",
              "      <th>0</th>\n",
              "      <td>196</td>\n",
              "      <td>179</td>\n",
              "      <td>104</td>\n",
              "      <td>178</td>\n",
              "      <td>357</td>\n",
              "    </tr>\n",
              "    <tr>\n",
              "      <th>1</th>\n",
              "      <td>672</td>\n",
              "      <td>721</td>\n",
              "      <td>587</td>\n",
              "      <td>139</td>\n",
              "      <td>776</td>\n",
              "    </tr>\n",
              "    <tr>\n",
              "      <th>2</th>\n",
              "      <td>703</td>\n",
              "      <td>537</td>\n",
              "      <td>689</td>\n",
              "      <td>533</td>\n",
              "      <td>348</td>\n",
              "    </tr>\n",
              "    <tr>\n",
              "      <th>3</th>\n",
              "      <td>722</td>\n",
              "      <td>217</td>\n",
              "      <td>217</td>\n",
              "      <td>217</td>\n",
              "      <td>724</td>\n",
              "    </tr>\n",
              "    <tr>\n",
              "      <th>4</th>\n",
              "      <td>499</td>\n",
              "      <td>647</td>\n",
              "      <td>518</td>\n",
              "      <td>265</td>\n",
              "      <td>184</td>\n",
              "    </tr>\n",
              "  </tbody>\n",
              "</table>\n",
              "</div>\n",
              "      <button class=\"colab-df-convert\" onclick=\"convertToInteractive('df-487e3231-3128-4a68-9e7e-ef0b8deae60f')\"\n",
              "              title=\"Convert this dataframe to an interactive table.\"\n",
              "              style=\"display:none;\">\n",
              "        \n",
              "  <svg xmlns=\"http://www.w3.org/2000/svg\" height=\"24px\"viewBox=\"0 0 24 24\"\n",
              "       width=\"24px\">\n",
              "    <path d=\"M0 0h24v24H0V0z\" fill=\"none\"/>\n",
              "    <path d=\"M18.56 5.44l.94 2.06.94-2.06 2.06-.94-2.06-.94-.94-2.06-.94 2.06-2.06.94zm-11 1L8.5 8.5l.94-2.06 2.06-.94-2.06-.94L8.5 2.5l-.94 2.06-2.06.94zm10 10l.94 2.06.94-2.06 2.06-.94-2.06-.94-.94-2.06-.94 2.06-2.06.94z\"/><path d=\"M17.41 7.96l-1.37-1.37c-.4-.4-.92-.59-1.43-.59-.52 0-1.04.2-1.43.59L10.3 9.45l-7.72 7.72c-.78.78-.78 2.05 0 2.83L4 21.41c.39.39.9.59 1.41.59.51 0 1.02-.2 1.41-.59l7.78-7.78 2.81-2.81c.8-.78.8-2.07 0-2.86zM5.41 20L4 18.59l7.72-7.72 1.47 1.35L5.41 20z\"/>\n",
              "  </svg>\n",
              "      </button>\n",
              "      \n",
              "  <style>\n",
              "    .colab-df-container {\n",
              "      display:flex;\n",
              "      flex-wrap:wrap;\n",
              "      gap: 12px;\n",
              "    }\n",
              "\n",
              "    .colab-df-convert {\n",
              "      background-color: #E8F0FE;\n",
              "      border: none;\n",
              "      border-radius: 50%;\n",
              "      cursor: pointer;\n",
              "      display: none;\n",
              "      fill: #1967D2;\n",
              "      height: 32px;\n",
              "      padding: 0 0 0 0;\n",
              "      width: 32px;\n",
              "    }\n",
              "\n",
              "    .colab-df-convert:hover {\n",
              "      background-color: #E2EBFA;\n",
              "      box-shadow: 0px 1px 2px rgba(60, 64, 67, 0.3), 0px 1px 3px 1px rgba(60, 64, 67, 0.15);\n",
              "      fill: #174EA6;\n",
              "    }\n",
              "\n",
              "    [theme=dark] .colab-df-convert {\n",
              "      background-color: #3B4455;\n",
              "      fill: #D2E3FC;\n",
              "    }\n",
              "\n",
              "    [theme=dark] .colab-df-convert:hover {\n",
              "      background-color: #434B5C;\n",
              "      box-shadow: 0px 1px 3px 1px rgba(0, 0, 0, 0.15);\n",
              "      filter: drop-shadow(0px 1px 2px rgba(0, 0, 0, 0.3));\n",
              "      fill: #FFFFFF;\n",
              "    }\n",
              "  </style>\n",
              "\n",
              "      <script>\n",
              "        const buttonEl =\n",
              "          document.querySelector('#df-487e3231-3128-4a68-9e7e-ef0b8deae60f button.colab-df-convert');\n",
              "        buttonEl.style.display =\n",
              "          google.colab.kernel.accessAllowed ? 'block' : 'none';\n",
              "\n",
              "        async function convertToInteractive(key) {\n",
              "          const element = document.querySelector('#df-487e3231-3128-4a68-9e7e-ef0b8deae60f');\n",
              "          const dataTable =\n",
              "            await google.colab.kernel.invokeFunction('convertToInteractive',\n",
              "                                                     [key], {});\n",
              "          if (!dataTable) return;\n",
              "\n",
              "          const docLinkHtml = 'Like what you see? Visit the ' +\n",
              "            '<a target=\"_blank\" href=https://colab.research.google.com/notebooks/data_table.ipynb>data table notebook</a>'\n",
              "            + ' to learn more about interactive tables.';\n",
              "          element.innerHTML = '';\n",
              "          dataTable['output_type'] = 'display_data';\n",
              "          await google.colab.output.renderOutput(dataTable, element);\n",
              "          const docLink = document.createElement('div');\n",
              "          docLink.innerHTML = docLinkHtml;\n",
              "          element.appendChild(docLink);\n",
              "        }\n",
              "      </script>\n",
              "    </div>\n",
              "  </div>\n",
              "  "
            ]
          },
          "metadata": {},
          "execution_count": 84
        }
      ]
    },
    {
      "cell_type": "code",
      "source": [
        "df01.values        "
      ],
      "metadata": {
        "id": "A7GOHhZ0sGhy",
        "colab": {
          "base_uri": "https://localhost:8080/"
        },
        "outputId": "4f6adb1a-5dc7-405e-cf1b-4ed29ce03955"
      },
      "execution_count": null,
      "outputs": [
        {
          "output_type": "execute_result",
          "data": {
            "text/plain": [
              "array([[196, 179, 104, 178, 357],\n",
              "       [672, 721, 587, 139, 776],\n",
              "       [703, 537, 689, 533, 348],\n",
              "       [722, 217, 217, 217, 724],\n",
              "       [499, 647, 518, 265, 184]])"
            ]
          },
          "metadata": {},
          "execution_count": 85
        }
      ]
    },
    {
      "cell_type": "code",
      "source": [
        "df01.index        "
      ],
      "metadata": {
        "id": "ai6l5BPks7Bg",
        "colab": {
          "base_uri": "https://localhost:8080/"
        },
        "outputId": "74229454-357e-40a7-d385-6265661380de"
      },
      "execution_count": null,
      "outputs": [
        {
          "output_type": "execute_result",
          "data": {
            "text/plain": [
              "RangeIndex(start=0, stop=5, step=1)"
            ]
          },
          "metadata": {},
          "execution_count": 86
        }
      ]
    },
    {
      "cell_type": "code",
      "source": [
        "df01.columns     "
      ],
      "metadata": {
        "id": "O-zvDbI5tiCd",
        "colab": {
          "base_uri": "https://localhost:8080/"
        },
        "outputId": "9364f65a-fd91-4f7a-957b-61ee4845de21"
      },
      "execution_count": null,
      "outputs": [
        {
          "output_type": "execute_result",
          "data": {
            "text/plain": [
              "RangeIndex(start=0, stop=5, step=1)"
            ]
          },
          "metadata": {},
          "execution_count": 87
        }
      ]
    },
    {
      "cell_type": "code",
      "source": [
        "\n",
        "for R in df01.index:  \n",
        "    print (R)        "
      ],
      "metadata": {
        "id": "ZlfCdg2TtuMB",
        "colab": {
          "base_uri": "https://localhost:8080/"
        },
        "outputId": "a58f7067-bb64-4480-e89c-33bd565248b6"
      },
      "execution_count": null,
      "outputs": [
        {
          "output_type": "stream",
          "name": "stdout",
          "text": [
            "0\n",
            "1\n",
            "2\n",
            "3\n",
            "4\n"
          ]
        }
      ]
    },
    {
      "cell_type": "code",
      "source": [
        "#Here I Can Access Columns Number\n",
        "for R in df01.columns:   \n",
        "    print (R)       "
      ],
      "metadata": {
        "id": "GYZbYmkbvbbN",
        "colab": {
          "base_uri": "https://localhost:8080/"
        },
        "outputId": "c5307895-a089-4bc2-84aa-21934a642125"
      },
      "execution_count": null,
      "outputs": [
        {
          "output_type": "stream",
          "name": "stdout",
          "text": [
            "0\n",
            "1\n",
            "2\n",
            "3\n",
            "4\n"
          ]
        }
      ]
    },
    {
      "cell_type": "code",
      "source": [
        "df01.index=[\"R01\",\"R02\",\"R03\",\"R04\",\"R05\"]       \n",
        "df01.columns=[\"C01\",\"C02\",\"C03\",\"C04\",\"C05\"]       "
      ],
      "metadata": {
        "id": "thbYd44jvm1t"
      },
      "execution_count": null,
      "outputs": []
    },
    {
      "cell_type": "code",
      "source": [
        "df01"
      ],
      "metadata": {
        "id": "m-cywjy4yGDG",
        "colab": {
          "base_uri": "https://localhost:8080/",
          "height": 206
        },
        "outputId": "322ca34c-7621-40ed-9717-2b40ba041c99"
      },
      "execution_count": null,
      "outputs": [
        {
          "output_type": "execute_result",
          "data": {
            "text/plain": [
              "     C01  C02  C03  C04  C05\n",
              "R01  196  179  104  178  357\n",
              "R02  672  721  587  139  776\n",
              "R03  703  537  689  533  348\n",
              "R04  722  217  217  217  724\n",
              "R05  499  647  518  265  184"
            ],
            "text/html": [
              "\n",
              "  <div id=\"df-326bc0f2-195f-4fd0-afb8-a9e5ba219b47\">\n",
              "    <div class=\"colab-df-container\">\n",
              "      <div>\n",
              "<style scoped>\n",
              "    .dataframe tbody tr th:only-of-type {\n",
              "        vertical-align: middle;\n",
              "    }\n",
              "\n",
              "    .dataframe tbody tr th {\n",
              "        vertical-align: top;\n",
              "    }\n",
              "\n",
              "    .dataframe thead th {\n",
              "        text-align: right;\n",
              "    }\n",
              "</style>\n",
              "<table border=\"1\" class=\"dataframe\">\n",
              "  <thead>\n",
              "    <tr style=\"text-align: right;\">\n",
              "      <th></th>\n",
              "      <th>C01</th>\n",
              "      <th>C02</th>\n",
              "      <th>C03</th>\n",
              "      <th>C04</th>\n",
              "      <th>C05</th>\n",
              "    </tr>\n",
              "  </thead>\n",
              "  <tbody>\n",
              "    <tr>\n",
              "      <th>R01</th>\n",
              "      <td>196</td>\n",
              "      <td>179</td>\n",
              "      <td>104</td>\n",
              "      <td>178</td>\n",
              "      <td>357</td>\n",
              "    </tr>\n",
              "    <tr>\n",
              "      <th>R02</th>\n",
              "      <td>672</td>\n",
              "      <td>721</td>\n",
              "      <td>587</td>\n",
              "      <td>139</td>\n",
              "      <td>776</td>\n",
              "    </tr>\n",
              "    <tr>\n",
              "      <th>R03</th>\n",
              "      <td>703</td>\n",
              "      <td>537</td>\n",
              "      <td>689</td>\n",
              "      <td>533</td>\n",
              "      <td>348</td>\n",
              "    </tr>\n",
              "    <tr>\n",
              "      <th>R04</th>\n",
              "      <td>722</td>\n",
              "      <td>217</td>\n",
              "      <td>217</td>\n",
              "      <td>217</td>\n",
              "      <td>724</td>\n",
              "    </tr>\n",
              "    <tr>\n",
              "      <th>R05</th>\n",
              "      <td>499</td>\n",
              "      <td>647</td>\n",
              "      <td>518</td>\n",
              "      <td>265</td>\n",
              "      <td>184</td>\n",
              "    </tr>\n",
              "  </tbody>\n",
              "</table>\n",
              "</div>\n",
              "      <button class=\"colab-df-convert\" onclick=\"convertToInteractive('df-326bc0f2-195f-4fd0-afb8-a9e5ba219b47')\"\n",
              "              title=\"Convert this dataframe to an interactive table.\"\n",
              "              style=\"display:none;\">\n",
              "        \n",
              "  <svg xmlns=\"http://www.w3.org/2000/svg\" height=\"24px\"viewBox=\"0 0 24 24\"\n",
              "       width=\"24px\">\n",
              "    <path d=\"M0 0h24v24H0V0z\" fill=\"none\"/>\n",
              "    <path d=\"M18.56 5.44l.94 2.06.94-2.06 2.06-.94-2.06-.94-.94-2.06-.94 2.06-2.06.94zm-11 1L8.5 8.5l.94-2.06 2.06-.94-2.06-.94L8.5 2.5l-.94 2.06-2.06.94zm10 10l.94 2.06.94-2.06 2.06-.94-2.06-.94-.94-2.06-.94 2.06-2.06.94z\"/><path d=\"M17.41 7.96l-1.37-1.37c-.4-.4-.92-.59-1.43-.59-.52 0-1.04.2-1.43.59L10.3 9.45l-7.72 7.72c-.78.78-.78 2.05 0 2.83L4 21.41c.39.39.9.59 1.41.59.51 0 1.02-.2 1.41-.59l7.78-7.78 2.81-2.81c.8-.78.8-2.07 0-2.86zM5.41 20L4 18.59l7.72-7.72 1.47 1.35L5.41 20z\"/>\n",
              "  </svg>\n",
              "      </button>\n",
              "      \n",
              "  <style>\n",
              "    .colab-df-container {\n",
              "      display:flex;\n",
              "      flex-wrap:wrap;\n",
              "      gap: 12px;\n",
              "    }\n",
              "\n",
              "    .colab-df-convert {\n",
              "      background-color: #E8F0FE;\n",
              "      border: none;\n",
              "      border-radius: 50%;\n",
              "      cursor: pointer;\n",
              "      display: none;\n",
              "      fill: #1967D2;\n",
              "      height: 32px;\n",
              "      padding: 0 0 0 0;\n",
              "      width: 32px;\n",
              "    }\n",
              "\n",
              "    .colab-df-convert:hover {\n",
              "      background-color: #E2EBFA;\n",
              "      box-shadow: 0px 1px 2px rgba(60, 64, 67, 0.3), 0px 1px 3px 1px rgba(60, 64, 67, 0.15);\n",
              "      fill: #174EA6;\n",
              "    }\n",
              "\n",
              "    [theme=dark] .colab-df-convert {\n",
              "      background-color: #3B4455;\n",
              "      fill: #D2E3FC;\n",
              "    }\n",
              "\n",
              "    [theme=dark] .colab-df-convert:hover {\n",
              "      background-color: #434B5C;\n",
              "      box-shadow: 0px 1px 3px 1px rgba(0, 0, 0, 0.15);\n",
              "      filter: drop-shadow(0px 1px 2px rgba(0, 0, 0, 0.3));\n",
              "      fill: #FFFFFF;\n",
              "    }\n",
              "  </style>\n",
              "\n",
              "      <script>\n",
              "        const buttonEl =\n",
              "          document.querySelector('#df-326bc0f2-195f-4fd0-afb8-a9e5ba219b47 button.colab-df-convert');\n",
              "        buttonEl.style.display =\n",
              "          google.colab.kernel.accessAllowed ? 'block' : 'none';\n",
              "\n",
              "        async function convertToInteractive(key) {\n",
              "          const element = document.querySelector('#df-326bc0f2-195f-4fd0-afb8-a9e5ba219b47');\n",
              "          const dataTable =\n",
              "            await google.colab.kernel.invokeFunction('convertToInteractive',\n",
              "                                                     [key], {});\n",
              "          if (!dataTable) return;\n",
              "\n",
              "          const docLinkHtml = 'Like what you see? Visit the ' +\n",
              "            '<a target=\"_blank\" href=https://colab.research.google.com/notebooks/data_table.ipynb>data table notebook</a>'\n",
              "            + ' to learn more about interactive tables.';\n",
              "          element.innerHTML = '';\n",
              "          dataTable['output_type'] = 'display_data';\n",
              "          await google.colab.output.renderOutput(dataTable, element);\n",
              "          const docLink = document.createElement('div');\n",
              "          docLink.innerHTML = docLinkHtml;\n",
              "          element.appendChild(docLink);\n",
              "        }\n",
              "      </script>\n",
              "    </div>\n",
              "  </div>\n",
              "  "
            ]
          },
          "metadata": {},
          "execution_count": 91
        }
      ]
    },
    {
      "cell_type": "code",
      "source": [
        "df01.loc[\"R02\":\"R04\",\"C02\":\"C05\"]   "
      ],
      "metadata": {
        "id": "d5unbL27yMH9",
        "colab": {
          "base_uri": "https://localhost:8080/",
          "height": 143
        },
        "outputId": "52fc754e-3828-4694-ca2f-21d66e002f57"
      },
      "execution_count": null,
      "outputs": [
        {
          "output_type": "execute_result",
          "data": {
            "text/plain": [
              "     C02  C03  C04  C05\n",
              "R02  721  587  139  776\n",
              "R03  537  689  533  348\n",
              "R04  217  217  217  724"
            ],
            "text/html": [
              "\n",
              "  <div id=\"df-c20539d3-9090-47e8-81b2-4007efc59b8b\">\n",
              "    <div class=\"colab-df-container\">\n",
              "      <div>\n",
              "<style scoped>\n",
              "    .dataframe tbody tr th:only-of-type {\n",
              "        vertical-align: middle;\n",
              "    }\n",
              "\n",
              "    .dataframe tbody tr th {\n",
              "        vertical-align: top;\n",
              "    }\n",
              "\n",
              "    .dataframe thead th {\n",
              "        text-align: right;\n",
              "    }\n",
              "</style>\n",
              "<table border=\"1\" class=\"dataframe\">\n",
              "  <thead>\n",
              "    <tr style=\"text-align: right;\">\n",
              "      <th></th>\n",
              "      <th>C02</th>\n",
              "      <th>C03</th>\n",
              "      <th>C04</th>\n",
              "      <th>C05</th>\n",
              "    </tr>\n",
              "  </thead>\n",
              "  <tbody>\n",
              "    <tr>\n",
              "      <th>R02</th>\n",
              "      <td>721</td>\n",
              "      <td>587</td>\n",
              "      <td>139</td>\n",
              "      <td>776</td>\n",
              "    </tr>\n",
              "    <tr>\n",
              "      <th>R03</th>\n",
              "      <td>537</td>\n",
              "      <td>689</td>\n",
              "      <td>533</td>\n",
              "      <td>348</td>\n",
              "    </tr>\n",
              "    <tr>\n",
              "      <th>R04</th>\n",
              "      <td>217</td>\n",
              "      <td>217</td>\n",
              "      <td>217</td>\n",
              "      <td>724</td>\n",
              "    </tr>\n",
              "  </tbody>\n",
              "</table>\n",
              "</div>\n",
              "      <button class=\"colab-df-convert\" onclick=\"convertToInteractive('df-c20539d3-9090-47e8-81b2-4007efc59b8b')\"\n",
              "              title=\"Convert this dataframe to an interactive table.\"\n",
              "              style=\"display:none;\">\n",
              "        \n",
              "  <svg xmlns=\"http://www.w3.org/2000/svg\" height=\"24px\"viewBox=\"0 0 24 24\"\n",
              "       width=\"24px\">\n",
              "    <path d=\"M0 0h24v24H0V0z\" fill=\"none\"/>\n",
              "    <path d=\"M18.56 5.44l.94 2.06.94-2.06 2.06-.94-2.06-.94-.94-2.06-.94 2.06-2.06.94zm-11 1L8.5 8.5l.94-2.06 2.06-.94-2.06-.94L8.5 2.5l-.94 2.06-2.06.94zm10 10l.94 2.06.94-2.06 2.06-.94-2.06-.94-.94-2.06-.94 2.06-2.06.94z\"/><path d=\"M17.41 7.96l-1.37-1.37c-.4-.4-.92-.59-1.43-.59-.52 0-1.04.2-1.43.59L10.3 9.45l-7.72 7.72c-.78.78-.78 2.05 0 2.83L4 21.41c.39.39.9.59 1.41.59.51 0 1.02-.2 1.41-.59l7.78-7.78 2.81-2.81c.8-.78.8-2.07 0-2.86zM5.41 20L4 18.59l7.72-7.72 1.47 1.35L5.41 20z\"/>\n",
              "  </svg>\n",
              "      </button>\n",
              "      \n",
              "  <style>\n",
              "    .colab-df-container {\n",
              "      display:flex;\n",
              "      flex-wrap:wrap;\n",
              "      gap: 12px;\n",
              "    }\n",
              "\n",
              "    .colab-df-convert {\n",
              "      background-color: #E8F0FE;\n",
              "      border: none;\n",
              "      border-radius: 50%;\n",
              "      cursor: pointer;\n",
              "      display: none;\n",
              "      fill: #1967D2;\n",
              "      height: 32px;\n",
              "      padding: 0 0 0 0;\n",
              "      width: 32px;\n",
              "    }\n",
              "\n",
              "    .colab-df-convert:hover {\n",
              "      background-color: #E2EBFA;\n",
              "      box-shadow: 0px 1px 2px rgba(60, 64, 67, 0.3), 0px 1px 3px 1px rgba(60, 64, 67, 0.15);\n",
              "      fill: #174EA6;\n",
              "    }\n",
              "\n",
              "    [theme=dark] .colab-df-convert {\n",
              "      background-color: #3B4455;\n",
              "      fill: #D2E3FC;\n",
              "    }\n",
              "\n",
              "    [theme=dark] .colab-df-convert:hover {\n",
              "      background-color: #434B5C;\n",
              "      box-shadow: 0px 1px 3px 1px rgba(0, 0, 0, 0.15);\n",
              "      filter: drop-shadow(0px 1px 2px rgba(0, 0, 0, 0.3));\n",
              "      fill: #FFFFFF;\n",
              "    }\n",
              "  </style>\n",
              "\n",
              "      <script>\n",
              "        const buttonEl =\n",
              "          document.querySelector('#df-c20539d3-9090-47e8-81b2-4007efc59b8b button.colab-df-convert');\n",
              "        buttonEl.style.display =\n",
              "          google.colab.kernel.accessAllowed ? 'block' : 'none';\n",
              "\n",
              "        async function convertToInteractive(key) {\n",
              "          const element = document.querySelector('#df-c20539d3-9090-47e8-81b2-4007efc59b8b');\n",
              "          const dataTable =\n",
              "            await google.colab.kernel.invokeFunction('convertToInteractive',\n",
              "                                                     [key], {});\n",
              "          if (!dataTable) return;\n",
              "\n",
              "          const docLinkHtml = 'Like what you see? Visit the ' +\n",
              "            '<a target=\"_blank\" href=https://colab.research.google.com/notebooks/data_table.ipynb>data table notebook</a>'\n",
              "            + ' to learn more about interactive tables.';\n",
              "          element.innerHTML = '';\n",
              "          dataTable['output_type'] = 'display_data';\n",
              "          await google.colab.output.renderOutput(dataTable, element);\n",
              "          const docLink = document.createElement('div');\n",
              "          docLink.innerHTML = docLinkHtml;\n",
              "          element.appendChild(docLink);\n",
              "        }\n",
              "      </script>\n",
              "    </div>\n",
              "  </div>\n",
              "  "
            ]
          },
          "metadata": {},
          "execution_count": 92
        }
      ]
    },
    {
      "cell_type": "code",
      "source": [
        "type(df01.loc[\"R02\":\"R04\",\"C02\":\"C05\"])   "
      ],
      "metadata": {
        "id": "CPUmazhjjX2s",
        "colab": {
          "base_uri": "https://localhost:8080/"
        },
        "outputId": "1063fcc8-4782-41fa-c274-dde673b6416a"
      },
      "execution_count": null,
      "outputs": [
        {
          "output_type": "execute_result",
          "data": {
            "text/plain": [
              "pandas.core.frame.DataFrame"
            ]
          },
          "metadata": {},
          "execution_count": 93
        }
      ]
    },
    {
      "cell_type": "code",
      "source": [
        "df01.iloc[1:4,1:5]  "
      ],
      "metadata": {
        "id": "z3HoxwbWiBLh",
        "colab": {
          "base_uri": "https://localhost:8080/",
          "height": 143
        },
        "outputId": "4f33d5a7-e5c8-484b-bfaa-d57834c43c04"
      },
      "execution_count": null,
      "outputs": [
        {
          "output_type": "execute_result",
          "data": {
            "text/plain": [
              "     C02  C03  C04  C05\n",
              "R02  721  587  139  776\n",
              "R03  537  689  533  348\n",
              "R04  217  217  217  724"
            ],
            "text/html": [
              "\n",
              "  <div id=\"df-b0604b54-b373-445f-8241-90d174174dbd\">\n",
              "    <div class=\"colab-df-container\">\n",
              "      <div>\n",
              "<style scoped>\n",
              "    .dataframe tbody tr th:only-of-type {\n",
              "        vertical-align: middle;\n",
              "    }\n",
              "\n",
              "    .dataframe tbody tr th {\n",
              "        vertical-align: top;\n",
              "    }\n",
              "\n",
              "    .dataframe thead th {\n",
              "        text-align: right;\n",
              "    }\n",
              "</style>\n",
              "<table border=\"1\" class=\"dataframe\">\n",
              "  <thead>\n",
              "    <tr style=\"text-align: right;\">\n",
              "      <th></th>\n",
              "      <th>C02</th>\n",
              "      <th>C03</th>\n",
              "      <th>C04</th>\n",
              "      <th>C05</th>\n",
              "    </tr>\n",
              "  </thead>\n",
              "  <tbody>\n",
              "    <tr>\n",
              "      <th>R02</th>\n",
              "      <td>721</td>\n",
              "      <td>587</td>\n",
              "      <td>139</td>\n",
              "      <td>776</td>\n",
              "    </tr>\n",
              "    <tr>\n",
              "      <th>R03</th>\n",
              "      <td>537</td>\n",
              "      <td>689</td>\n",
              "      <td>533</td>\n",
              "      <td>348</td>\n",
              "    </tr>\n",
              "    <tr>\n",
              "      <th>R04</th>\n",
              "      <td>217</td>\n",
              "      <td>217</td>\n",
              "      <td>217</td>\n",
              "      <td>724</td>\n",
              "    </tr>\n",
              "  </tbody>\n",
              "</table>\n",
              "</div>\n",
              "      <button class=\"colab-df-convert\" onclick=\"convertToInteractive('df-b0604b54-b373-445f-8241-90d174174dbd')\"\n",
              "              title=\"Convert this dataframe to an interactive table.\"\n",
              "              style=\"display:none;\">\n",
              "        \n",
              "  <svg xmlns=\"http://www.w3.org/2000/svg\" height=\"24px\"viewBox=\"0 0 24 24\"\n",
              "       width=\"24px\">\n",
              "    <path d=\"M0 0h24v24H0V0z\" fill=\"none\"/>\n",
              "    <path d=\"M18.56 5.44l.94 2.06.94-2.06 2.06-.94-2.06-.94-.94-2.06-.94 2.06-2.06.94zm-11 1L8.5 8.5l.94-2.06 2.06-.94-2.06-.94L8.5 2.5l-.94 2.06-2.06.94zm10 10l.94 2.06.94-2.06 2.06-.94-2.06-.94-.94-2.06-.94 2.06-2.06.94z\"/><path d=\"M17.41 7.96l-1.37-1.37c-.4-.4-.92-.59-1.43-.59-.52 0-1.04.2-1.43.59L10.3 9.45l-7.72 7.72c-.78.78-.78 2.05 0 2.83L4 21.41c.39.39.9.59 1.41.59.51 0 1.02-.2 1.41-.59l7.78-7.78 2.81-2.81c.8-.78.8-2.07 0-2.86zM5.41 20L4 18.59l7.72-7.72 1.47 1.35L5.41 20z\"/>\n",
              "  </svg>\n",
              "      </button>\n",
              "      \n",
              "  <style>\n",
              "    .colab-df-container {\n",
              "      display:flex;\n",
              "      flex-wrap:wrap;\n",
              "      gap: 12px;\n",
              "    }\n",
              "\n",
              "    .colab-df-convert {\n",
              "      background-color: #E8F0FE;\n",
              "      border: none;\n",
              "      border-radius: 50%;\n",
              "      cursor: pointer;\n",
              "      display: none;\n",
              "      fill: #1967D2;\n",
              "      height: 32px;\n",
              "      padding: 0 0 0 0;\n",
              "      width: 32px;\n",
              "    }\n",
              "\n",
              "    .colab-df-convert:hover {\n",
              "      background-color: #E2EBFA;\n",
              "      box-shadow: 0px 1px 2px rgba(60, 64, 67, 0.3), 0px 1px 3px 1px rgba(60, 64, 67, 0.15);\n",
              "      fill: #174EA6;\n",
              "    }\n",
              "\n",
              "    [theme=dark] .colab-df-convert {\n",
              "      background-color: #3B4455;\n",
              "      fill: #D2E3FC;\n",
              "    }\n",
              "\n",
              "    [theme=dark] .colab-df-convert:hover {\n",
              "      background-color: #434B5C;\n",
              "      box-shadow: 0px 1px 3px 1px rgba(0, 0, 0, 0.15);\n",
              "      filter: drop-shadow(0px 1px 2px rgba(0, 0, 0, 0.3));\n",
              "      fill: #FFFFFF;\n",
              "    }\n",
              "  </style>\n",
              "\n",
              "      <script>\n",
              "        const buttonEl =\n",
              "          document.querySelector('#df-b0604b54-b373-445f-8241-90d174174dbd button.colab-df-convert');\n",
              "        buttonEl.style.display =\n",
              "          google.colab.kernel.accessAllowed ? 'block' : 'none';\n",
              "\n",
              "        async function convertToInteractive(key) {\n",
              "          const element = document.querySelector('#df-b0604b54-b373-445f-8241-90d174174dbd');\n",
              "          const dataTable =\n",
              "            await google.colab.kernel.invokeFunction('convertToInteractive',\n",
              "                                                     [key], {});\n",
              "          if (!dataTable) return;\n",
              "\n",
              "          const docLinkHtml = 'Like what you see? Visit the ' +\n",
              "            '<a target=\"_blank\" href=https://colab.research.google.com/notebooks/data_table.ipynb>data table notebook</a>'\n",
              "            + ' to learn more about interactive tables.';\n",
              "          element.innerHTML = '';\n",
              "          dataTable['output_type'] = 'display_data';\n",
              "          await google.colab.output.renderOutput(dataTable, element);\n",
              "          const docLink = document.createElement('div');\n",
              "          docLink.innerHTML = docLinkHtml;\n",
              "          element.appendChild(docLink);\n",
              "        }\n",
              "      </script>\n",
              "    </div>\n",
              "  </div>\n",
              "  "
            ]
          },
          "metadata": {},
          "execution_count": 94
        }
      ]
    },
    {
      "cell_type": "code",
      "source": [
        "df01.loc[:,\"C04\"]   "
      ],
      "metadata": {
        "id": "8VszkbEbiyYA",
        "colab": {
          "base_uri": "https://localhost:8080/"
        },
        "outputId": "b15d9d6e-f99b-4095-bece-8948a43d7503"
      },
      "execution_count": null,
      "outputs": [
        {
          "output_type": "execute_result",
          "data": {
            "text/plain": [
              "R01    178\n",
              "R02    139\n",
              "R03    533\n",
              "R04    217\n",
              "R05    265\n",
              "Name: C04, dtype: int64"
            ]
          },
          "metadata": {},
          "execution_count": 95
        }
      ]
    },
    {
      "cell_type": "code",
      "source": [
        "df01.iloc[3,:]  "
      ],
      "metadata": {
        "id": "JOykYcB2jso5",
        "colab": {
          "base_uri": "https://localhost:8080/"
        },
        "outputId": "197d6cf1-2ca5-40f3-e16f-37fef8b1bc9c"
      },
      "execution_count": null,
      "outputs": [
        {
          "output_type": "execute_result",
          "data": {
            "text/plain": [
              "C01    722\n",
              "C02    217\n",
              "C03    217\n",
              "C04    217\n",
              "C05    724\n",
              "Name: R04, dtype: int64"
            ]
          },
          "metadata": {},
          "execution_count": 96
        }
      ]
    },
    {
      "cell_type": "code",
      "source": [
        "type(df01.iloc[3,:])  "
      ],
      "metadata": {
        "id": "ilEYwNOfkRkb",
        "colab": {
          "base_uri": "https://localhost:8080/"
        },
        "outputId": "cf893b1c-c6e1-4cdc-c015-1e77e611480f"
      },
      "execution_count": null,
      "outputs": [
        {
          "output_type": "execute_result",
          "data": {
            "text/plain": [
              "pandas.core.series.Series"
            ]
          },
          "metadata": {},
          "execution_count": 97
        }
      ]
    },
    {
      "cell_type": "code",
      "source": [
        "df01.shape,df01.size   "
      ],
      "metadata": {
        "id": "lJvF0vaAkwIC",
        "colab": {
          "base_uri": "https://localhost:8080/"
        },
        "outputId": "24f1cec4-c3a6-4a7a-f13c-17f8422ee7ea"
      },
      "execution_count": null,
      "outputs": [
        {
          "output_type": "execute_result",
          "data": {
            "text/plain": [
              "((5, 5), 25)"
            ]
          },
          "metadata": {},
          "execution_count": 98
        }
      ]
    },
    {
      "cell_type": "code",
      "source": [
        "df0101=df01.T  \n",
        "df0101"
      ],
      "metadata": {
        "id": "XEb0c-BSlFAk",
        "colab": {
          "base_uri": "https://localhost:8080/",
          "height": 206
        },
        "outputId": "be32371e-7bd7-4738-ee82-9cd038070c4e"
      },
      "execution_count": null,
      "outputs": [
        {
          "output_type": "execute_result",
          "data": {
            "text/plain": [
              "     R01  R02  R03  R04  R05\n",
              "C01  196  672  703  722  499\n",
              "C02  179  721  537  217  647\n",
              "C03  104  587  689  217  518\n",
              "C04  178  139  533  217  265\n",
              "C05  357  776  348  724  184"
            ],
            "text/html": [
              "\n",
              "  <div id=\"df-76667f0f-ac28-4918-a6f0-4f18359b9d9e\">\n",
              "    <div class=\"colab-df-container\">\n",
              "      <div>\n",
              "<style scoped>\n",
              "    .dataframe tbody tr th:only-of-type {\n",
              "        vertical-align: middle;\n",
              "    }\n",
              "\n",
              "    .dataframe tbody tr th {\n",
              "        vertical-align: top;\n",
              "    }\n",
              "\n",
              "    .dataframe thead th {\n",
              "        text-align: right;\n",
              "    }\n",
              "</style>\n",
              "<table border=\"1\" class=\"dataframe\">\n",
              "  <thead>\n",
              "    <tr style=\"text-align: right;\">\n",
              "      <th></th>\n",
              "      <th>R01</th>\n",
              "      <th>R02</th>\n",
              "      <th>R03</th>\n",
              "      <th>R04</th>\n",
              "      <th>R05</th>\n",
              "    </tr>\n",
              "  </thead>\n",
              "  <tbody>\n",
              "    <tr>\n",
              "      <th>C01</th>\n",
              "      <td>196</td>\n",
              "      <td>672</td>\n",
              "      <td>703</td>\n",
              "      <td>722</td>\n",
              "      <td>499</td>\n",
              "    </tr>\n",
              "    <tr>\n",
              "      <th>C02</th>\n",
              "      <td>179</td>\n",
              "      <td>721</td>\n",
              "      <td>537</td>\n",
              "      <td>217</td>\n",
              "      <td>647</td>\n",
              "    </tr>\n",
              "    <tr>\n",
              "      <th>C03</th>\n",
              "      <td>104</td>\n",
              "      <td>587</td>\n",
              "      <td>689</td>\n",
              "      <td>217</td>\n",
              "      <td>518</td>\n",
              "    </tr>\n",
              "    <tr>\n",
              "      <th>C04</th>\n",
              "      <td>178</td>\n",
              "      <td>139</td>\n",
              "      <td>533</td>\n",
              "      <td>217</td>\n",
              "      <td>265</td>\n",
              "    </tr>\n",
              "    <tr>\n",
              "      <th>C05</th>\n",
              "      <td>357</td>\n",
              "      <td>776</td>\n",
              "      <td>348</td>\n",
              "      <td>724</td>\n",
              "      <td>184</td>\n",
              "    </tr>\n",
              "  </tbody>\n",
              "</table>\n",
              "</div>\n",
              "      <button class=\"colab-df-convert\" onclick=\"convertToInteractive('df-76667f0f-ac28-4918-a6f0-4f18359b9d9e')\"\n",
              "              title=\"Convert this dataframe to an interactive table.\"\n",
              "              style=\"display:none;\">\n",
              "        \n",
              "  <svg xmlns=\"http://www.w3.org/2000/svg\" height=\"24px\"viewBox=\"0 0 24 24\"\n",
              "       width=\"24px\">\n",
              "    <path d=\"M0 0h24v24H0V0z\" fill=\"none\"/>\n",
              "    <path d=\"M18.56 5.44l.94 2.06.94-2.06 2.06-.94-2.06-.94-.94-2.06-.94 2.06-2.06.94zm-11 1L8.5 8.5l.94-2.06 2.06-.94-2.06-.94L8.5 2.5l-.94 2.06-2.06.94zm10 10l.94 2.06.94-2.06 2.06-.94-2.06-.94-.94-2.06-.94 2.06-2.06.94z\"/><path d=\"M17.41 7.96l-1.37-1.37c-.4-.4-.92-.59-1.43-.59-.52 0-1.04.2-1.43.59L10.3 9.45l-7.72 7.72c-.78.78-.78 2.05 0 2.83L4 21.41c.39.39.9.59 1.41.59.51 0 1.02-.2 1.41-.59l7.78-7.78 2.81-2.81c.8-.78.8-2.07 0-2.86zM5.41 20L4 18.59l7.72-7.72 1.47 1.35L5.41 20z\"/>\n",
              "  </svg>\n",
              "      </button>\n",
              "      \n",
              "  <style>\n",
              "    .colab-df-container {\n",
              "      display:flex;\n",
              "      flex-wrap:wrap;\n",
              "      gap: 12px;\n",
              "    }\n",
              "\n",
              "    .colab-df-convert {\n",
              "      background-color: #E8F0FE;\n",
              "      border: none;\n",
              "      border-radius: 50%;\n",
              "      cursor: pointer;\n",
              "      display: none;\n",
              "      fill: #1967D2;\n",
              "      height: 32px;\n",
              "      padding: 0 0 0 0;\n",
              "      width: 32px;\n",
              "    }\n",
              "\n",
              "    .colab-df-convert:hover {\n",
              "      background-color: #E2EBFA;\n",
              "      box-shadow: 0px 1px 2px rgba(60, 64, 67, 0.3), 0px 1px 3px 1px rgba(60, 64, 67, 0.15);\n",
              "      fill: #174EA6;\n",
              "    }\n",
              "\n",
              "    [theme=dark] .colab-df-convert {\n",
              "      background-color: #3B4455;\n",
              "      fill: #D2E3FC;\n",
              "    }\n",
              "\n",
              "    [theme=dark] .colab-df-convert:hover {\n",
              "      background-color: #434B5C;\n",
              "      box-shadow: 0px 1px 3px 1px rgba(0, 0, 0, 0.15);\n",
              "      filter: drop-shadow(0px 1px 2px rgba(0, 0, 0, 0.3));\n",
              "      fill: #FFFFFF;\n",
              "    }\n",
              "  </style>\n",
              "\n",
              "      <script>\n",
              "        const buttonEl =\n",
              "          document.querySelector('#df-76667f0f-ac28-4918-a6f0-4f18359b9d9e button.colab-df-convert');\n",
              "        buttonEl.style.display =\n",
              "          google.colab.kernel.accessAllowed ? 'block' : 'none';\n",
              "\n",
              "        async function convertToInteractive(key) {\n",
              "          const element = document.querySelector('#df-76667f0f-ac28-4918-a6f0-4f18359b9d9e');\n",
              "          const dataTable =\n",
              "            await google.colab.kernel.invokeFunction('convertToInteractive',\n",
              "                                                     [key], {});\n",
              "          if (!dataTable) return;\n",
              "\n",
              "          const docLinkHtml = 'Like what you see? Visit the ' +\n",
              "            '<a target=\"_blank\" href=https://colab.research.google.com/notebooks/data_table.ipynb>data table notebook</a>'\n",
              "            + ' to learn more about interactive tables.';\n",
              "          element.innerHTML = '';\n",
              "          dataTable['output_type'] = 'display_data';\n",
              "          await google.colab.output.renderOutput(dataTable, element);\n",
              "          const docLink = document.createElement('div');\n",
              "          docLink.innerHTML = docLinkHtml;\n",
              "          element.appendChild(docLink);\n",
              "        }\n",
              "      </script>\n",
              "    </div>\n",
              "  </div>\n",
              "  "
            ]
          },
          "metadata": {},
          "execution_count": 99
        }
      ]
    },
    {
      "cell_type": "code",
      "source": [
        "df0101.shape,df0101.size   "
      ],
      "metadata": {
        "id": "t7QNePEeln0B",
        "colab": {
          "base_uri": "https://localhost:8080/"
        },
        "outputId": "45fd2ec0-6442-4e16-c8c8-6d44fa608122"
      },
      "execution_count": null,
      "outputs": [
        {
          "output_type": "execute_result",
          "data": {
            "text/plain": [
              "((5, 5), 25)"
            ]
          },
          "metadata": {},
          "execution_count": 100
        }
      ]
    },
    {
      "cell_type": "markdown",
      "source": [
        "Create Data Frame"
      ],
      "metadata": {
        "id": "tDKT-ZIyl4Zt"
      }
    },
    {
      "cell_type": "code",
      "source": [
        "def df02(a=0,b=150,nrows=3,mcols=3):                  \n",
        "    Array21=np.random.randint(a,b,(nrows,mcols))       \n",
        "    df02=pd.DataFrame(Array21)                        \n",
        "    df02.index=[\"R\"+str(x) for x in np.arange(1,nrows+1)] \n",
        "    df02.columns=[\"C\"+str(x) for x in np.arange(1,mcols+1)] \n",
        "    return df02                                       "
      ],
      "metadata": {
        "id": "Pm9KblHcmeYi"
      },
      "execution_count": null,
      "outputs": []
    },
    {
      "cell_type": "code",
      "source": [
        "df02(55,65,58,99)"
      ],
      "metadata": {
        "id": "paQU5oumnM80",
        "colab": {
          "base_uri": "https://localhost:8080/",
          "height": 1000
        },
        "outputId": "0b3bcb79-5f01-45ad-c523-714e78fa25f8"
      },
      "execution_count": null,
      "outputs": [
        {
          "output_type": "execute_result",
          "data": {
            "text/plain": [
              "     C1  C2  C3  C4  C5  C6  C7  C8  C9  C10  ...  C90  C91  C92  C93  C94  \\\n",
              "R1   57  57  64  62  64  62  57  57  55   57  ...   57   63   63   64   61   \n",
              "R2   63  61  60  60  55  58  64  57  62   57  ...   62   58   61   57   57   \n",
              "R3   63  57  63  64  58  64  64  62  62   62  ...   63   62   55   62   55   \n",
              "R4   60  56  60  57  62  58  59  60  62   57  ...   63   57   60   64   61   \n",
              "R5   60  64  60  63  58  60  62  58  59   60  ...   56   60   61   58   61   \n",
              "R6   56  55  58  62  63  58  58  63  55   63  ...   64   63   56   55   62   \n",
              "R7   58  55  57  64  62  61  55  56  55   64  ...   58   58   57   64   56   \n",
              "R8   59  61  64  60  56  59  60  58  64   56  ...   60   59   56   57   55   \n",
              "R9   56  59  56  56  56  62  58  58  63   58  ...   55   62   63   64   64   \n",
              "R10  63  56  56  64  61  56  56  58  61   63  ...   57   60   56   62   57   \n",
              "R11  64  59  59  57  62  62  60  59  61   63  ...   55   64   61   64   63   \n",
              "R12  57  60  55  62  57  55  60  56  61   57  ...   56   64   60   63   55   \n",
              "R13  61  56  64  61  62  61  59  58  62   60  ...   55   57   57   61   55   \n",
              "R14  61  63  55  58  59  60  56  62  64   64  ...   60   61   60   60   64   \n",
              "R15  55  61  60  56  63  58  64  59  57   55  ...   64   59   58   55   55   \n",
              "R16  58  56  62  62  59  62  60  63  62   56  ...   58   57   56   55   58   \n",
              "R17  58  57  56  59  60  59  61  62  63   62  ...   55   56   60   55   59   \n",
              "R18  63  57  62  56  57  62  64  62  58   56  ...   55   60   56   63   57   \n",
              "R19  57  58  61  56  63  61  58  56  55   61  ...   60   62   60   55   55   \n",
              "R20  59  64  55  56  63  56  57  63  62   64  ...   56   57   61   58   55   \n",
              "R21  58  59  62  62  55  64  61  55  60   62  ...   63   58   60   57   63   \n",
              "R22  60  59  62  58  55  63  60  64  56   59  ...   60   58   63   62   55   \n",
              "R23  63  57  59  55  56  55  57  56  56   58  ...   63   60   63   58   56   \n",
              "R24  57  57  60  56  57  59  57  57  55   57  ...   56   55   58   62   59   \n",
              "R25  61  55  55  57  64  58  59  57  56   60  ...   56   63   58   56   56   \n",
              "R26  60  64  56  58  62  55  58  58  61   56  ...   56   64   62   55   58   \n",
              "R27  62  64  61  62  55  60  59  61  63   63  ...   55   64   60   60   60   \n",
              "R28  60  57  61  61  59  55  60  64  59   60  ...   59   57   57   55   55   \n",
              "R29  58  59  62  55  62  55  62  60  61   62  ...   60   58   58   62   58   \n",
              "R30  56  58  64  59  61  62  61  61  59   63  ...   62   64   59   61   63   \n",
              "R31  60  61  58  59  56  62  64  62  64   60  ...   56   58   57   55   62   \n",
              "R32  55  59  62  58  59  61  58  61  56   57  ...   62   60   59   63   63   \n",
              "R33  59  63  57  63  64  58  64  58  55   58  ...   62   60   57   61   58   \n",
              "R34  57  55  57  55  62  57  60  56  61   55  ...   63   55   64   60   64   \n",
              "R35  59  62  59  59  60  55  61  58  59   64  ...   56   62   59   63   61   \n",
              "R36  58  58  61  60  64  58  55  62  61   58  ...   57   55   60   64   61   \n",
              "R37  63  63  64  57  60  63  55  62  63   62  ...   56   59   61   62   61   \n",
              "R38  62  60  59  57  60  61  61  57  57   57  ...   55   64   62   56   61   \n",
              "R39  64  60  57  58  55  55  57  60  59   62  ...   59   62   57   56   63   \n",
              "R40  61  58  56  59  55  59  62  60  59   58  ...   63   64   57   55   60   \n",
              "R41  58  61  62  62  58  58  62  57  60   64  ...   62   60   62   62   56   \n",
              "R42  60  63  64  57  57  59  56  58  61   64  ...   62   62   63   63   57   \n",
              "R43  58  64  59  60  56  62  57  59  58   62  ...   58   57   55   60   58   \n",
              "R44  62  55  55  62  55  59  63  62  58   58  ...   61   57   56   64   59   \n",
              "R45  64  62  62  64  62  58  60  60  59   62  ...   62   57   56   60   63   \n",
              "R46  58  55  62  63  58  57  57  56  64   55  ...   62   63   59   56   55   \n",
              "R47  58  57  63  56  55  59  56  61  58   58  ...   58   61   61   57   63   \n",
              "R48  59  64  59  61  59  63  63  64  57   62  ...   56   61   57   62   60   \n",
              "R49  57  60  58  63  64  56  60  60  56   63  ...   57   60   64   64   55   \n",
              "R50  58  56  55  56  55  62  58  59  61   62  ...   62   62   62   62   57   \n",
              "R51  62  56  55  55  60  59  60  64  61   59  ...   62   55   63   56   57   \n",
              "R52  57  56  61  60  63  62  64  60  62   60  ...   63   63   59   60   61   \n",
              "R53  57  57  57  57  59  60  55  57  59   59  ...   63   55   55   63   63   \n",
              "R54  62  61  64  62  61  61  63  60  62   61  ...   57   55   63   63   62   \n",
              "R55  59  64  62  64  56  55  59  59  59   62  ...   57   59   62   59   57   \n",
              "R56  58  56  59  56  60  58  55  59  62   62  ...   58   63   63   61   60   \n",
              "R57  63  55  62  64  55  58  59  60  55   62  ...   60   63   59   57   61   \n",
              "R58  58  59  61  57  59  61  62  57  60   56  ...   62   61   55   56   58   \n",
              "\n",
              "     C95  C96  C97  C98  C99  \n",
              "R1    57   62   62   62   63  \n",
              "R2    60   56   61   56   62  \n",
              "R3    63   55   56   64   60  \n",
              "R4    63   61   55   59   63  \n",
              "R5    58   61   62   55   64  \n",
              "R6    61   58   63   62   59  \n",
              "R7    60   60   60   56   64  \n",
              "R8    56   63   61   56   58  \n",
              "R9    62   55   56   60   62  \n",
              "R10   60   58   61   57   57  \n",
              "R11   57   62   56   61   63  \n",
              "R12   58   57   61   57   55  \n",
              "R13   56   60   58   57   64  \n",
              "R14   59   62   58   62   59  \n",
              "R15   64   61   64   59   59  \n",
              "R16   58   64   62   60   61  \n",
              "R17   55   61   64   61   62  \n",
              "R18   55   64   63   59   55  \n",
              "R19   55   55   55   58   64  \n",
              "R20   59   63   56   57   57  \n",
              "R21   64   55   64   62   64  \n",
              "R22   55   64   57   62   59  \n",
              "R23   55   64   62   61   57  \n",
              "R24   64   64   58   57   55  \n",
              "R25   63   59   57   63   64  \n",
              "R26   58   60   58   57   62  \n",
              "R27   62   59   61   58   60  \n",
              "R28   55   63   63   58   62  \n",
              "R29   58   60   57   57   63  \n",
              "R30   55   58   60   62   58  \n",
              "R31   55   58   55   62   61  \n",
              "R32   64   64   55   63   62  \n",
              "R33   55   62   64   63   64  \n",
              "R34   58   60   57   55   56  \n",
              "R35   59   62   64   58   59  \n",
              "R36   55   62   59   63   59  \n",
              "R37   63   61   59   57   57  \n",
              "R38   61   61   59   59   57  \n",
              "R39   57   58   62   55   63  \n",
              "R40   55   60   55   61   56  \n",
              "R41   57   60   64   63   63  \n",
              "R42   59   60   61   58   57  \n",
              "R43   63   58   63   58   63  \n",
              "R44   58   63   59   57   58  \n",
              "R45   57   57   57   57   64  \n",
              "R46   55   60   64   60   57  \n",
              "R47   63   63   55   55   55  \n",
              "R48   56   56   59   58   57  \n",
              "R49   62   55   57   60   56  \n",
              "R50   60   61   62   62   63  \n",
              "R51   62   61   63   62   59  \n",
              "R52   63   64   56   61   64  \n",
              "R53   63   62   63   59   55  \n",
              "R54   62   61   61   56   58  \n",
              "R55   60   64   61   55   63  \n",
              "R56   57   61   60   63   63  \n",
              "R57   58   62   56   58   56  \n",
              "R58   64   58   57   56   58  \n",
              "\n",
              "[58 rows x 99 columns]"
            ],
            "text/html": [
              "\n",
              "  <div id=\"df-1ee9d015-83ea-4e3d-991a-4d7c2fc96631\">\n",
              "    <div class=\"colab-df-container\">\n",
              "      <div>\n",
              "<style scoped>\n",
              "    .dataframe tbody tr th:only-of-type {\n",
              "        vertical-align: middle;\n",
              "    }\n",
              "\n",
              "    .dataframe tbody tr th {\n",
              "        vertical-align: top;\n",
              "    }\n",
              "\n",
              "    .dataframe thead th {\n",
              "        text-align: right;\n",
              "    }\n",
              "</style>\n",
              "<table border=\"1\" class=\"dataframe\">\n",
              "  <thead>\n",
              "    <tr style=\"text-align: right;\">\n",
              "      <th></th>\n",
              "      <th>C1</th>\n",
              "      <th>C2</th>\n",
              "      <th>C3</th>\n",
              "      <th>C4</th>\n",
              "      <th>C5</th>\n",
              "      <th>C6</th>\n",
              "      <th>C7</th>\n",
              "      <th>C8</th>\n",
              "      <th>C9</th>\n",
              "      <th>C10</th>\n",
              "      <th>...</th>\n",
              "      <th>C90</th>\n",
              "      <th>C91</th>\n",
              "      <th>C92</th>\n",
              "      <th>C93</th>\n",
              "      <th>C94</th>\n",
              "      <th>C95</th>\n",
              "      <th>C96</th>\n",
              "      <th>C97</th>\n",
              "      <th>C98</th>\n",
              "      <th>C99</th>\n",
              "    </tr>\n",
              "  </thead>\n",
              "  <tbody>\n",
              "    <tr>\n",
              "      <th>R1</th>\n",
              "      <td>57</td>\n",
              "      <td>57</td>\n",
              "      <td>64</td>\n",
              "      <td>62</td>\n",
              "      <td>64</td>\n",
              "      <td>62</td>\n",
              "      <td>57</td>\n",
              "      <td>57</td>\n",
              "      <td>55</td>\n",
              "      <td>57</td>\n",
              "      <td>...</td>\n",
              "      <td>57</td>\n",
              "      <td>63</td>\n",
              "      <td>63</td>\n",
              "      <td>64</td>\n",
              "      <td>61</td>\n",
              "      <td>57</td>\n",
              "      <td>62</td>\n",
              "      <td>62</td>\n",
              "      <td>62</td>\n",
              "      <td>63</td>\n",
              "    </tr>\n",
              "    <tr>\n",
              "      <th>R2</th>\n",
              "      <td>63</td>\n",
              "      <td>61</td>\n",
              "      <td>60</td>\n",
              "      <td>60</td>\n",
              "      <td>55</td>\n",
              "      <td>58</td>\n",
              "      <td>64</td>\n",
              "      <td>57</td>\n",
              "      <td>62</td>\n",
              "      <td>57</td>\n",
              "      <td>...</td>\n",
              "      <td>62</td>\n",
              "      <td>58</td>\n",
              "      <td>61</td>\n",
              "      <td>57</td>\n",
              "      <td>57</td>\n",
              "      <td>60</td>\n",
              "      <td>56</td>\n",
              "      <td>61</td>\n",
              "      <td>56</td>\n",
              "      <td>62</td>\n",
              "    </tr>\n",
              "    <tr>\n",
              "      <th>R3</th>\n",
              "      <td>63</td>\n",
              "      <td>57</td>\n",
              "      <td>63</td>\n",
              "      <td>64</td>\n",
              "      <td>58</td>\n",
              "      <td>64</td>\n",
              "      <td>64</td>\n",
              "      <td>62</td>\n",
              "      <td>62</td>\n",
              "      <td>62</td>\n",
              "      <td>...</td>\n",
              "      <td>63</td>\n",
              "      <td>62</td>\n",
              "      <td>55</td>\n",
              "      <td>62</td>\n",
              "      <td>55</td>\n",
              "      <td>63</td>\n",
              "      <td>55</td>\n",
              "      <td>56</td>\n",
              "      <td>64</td>\n",
              "      <td>60</td>\n",
              "    </tr>\n",
              "    <tr>\n",
              "      <th>R4</th>\n",
              "      <td>60</td>\n",
              "      <td>56</td>\n",
              "      <td>60</td>\n",
              "      <td>57</td>\n",
              "      <td>62</td>\n",
              "      <td>58</td>\n",
              "      <td>59</td>\n",
              "      <td>60</td>\n",
              "      <td>62</td>\n",
              "      <td>57</td>\n",
              "      <td>...</td>\n",
              "      <td>63</td>\n",
              "      <td>57</td>\n",
              "      <td>60</td>\n",
              "      <td>64</td>\n",
              "      <td>61</td>\n",
              "      <td>63</td>\n",
              "      <td>61</td>\n",
              "      <td>55</td>\n",
              "      <td>59</td>\n",
              "      <td>63</td>\n",
              "    </tr>\n",
              "    <tr>\n",
              "      <th>R5</th>\n",
              "      <td>60</td>\n",
              "      <td>64</td>\n",
              "      <td>60</td>\n",
              "      <td>63</td>\n",
              "      <td>58</td>\n",
              "      <td>60</td>\n",
              "      <td>62</td>\n",
              "      <td>58</td>\n",
              "      <td>59</td>\n",
              "      <td>60</td>\n",
              "      <td>...</td>\n",
              "      <td>56</td>\n",
              "      <td>60</td>\n",
              "      <td>61</td>\n",
              "      <td>58</td>\n",
              "      <td>61</td>\n",
              "      <td>58</td>\n",
              "      <td>61</td>\n",
              "      <td>62</td>\n",
              "      <td>55</td>\n",
              "      <td>64</td>\n",
              "    </tr>\n",
              "    <tr>\n",
              "      <th>R6</th>\n",
              "      <td>56</td>\n",
              "      <td>55</td>\n",
              "      <td>58</td>\n",
              "      <td>62</td>\n",
              "      <td>63</td>\n",
              "      <td>58</td>\n",
              "      <td>58</td>\n",
              "      <td>63</td>\n",
              "      <td>55</td>\n",
              "      <td>63</td>\n",
              "      <td>...</td>\n",
              "      <td>64</td>\n",
              "      <td>63</td>\n",
              "      <td>56</td>\n",
              "      <td>55</td>\n",
              "      <td>62</td>\n",
              "      <td>61</td>\n",
              "      <td>58</td>\n",
              "      <td>63</td>\n",
              "      <td>62</td>\n",
              "      <td>59</td>\n",
              "    </tr>\n",
              "    <tr>\n",
              "      <th>R7</th>\n",
              "      <td>58</td>\n",
              "      <td>55</td>\n",
              "      <td>57</td>\n",
              "      <td>64</td>\n",
              "      <td>62</td>\n",
              "      <td>61</td>\n",
              "      <td>55</td>\n",
              "      <td>56</td>\n",
              "      <td>55</td>\n",
              "      <td>64</td>\n",
              "      <td>...</td>\n",
              "      <td>58</td>\n",
              "      <td>58</td>\n",
              "      <td>57</td>\n",
              "      <td>64</td>\n",
              "      <td>56</td>\n",
              "      <td>60</td>\n",
              "      <td>60</td>\n",
              "      <td>60</td>\n",
              "      <td>56</td>\n",
              "      <td>64</td>\n",
              "    </tr>\n",
              "    <tr>\n",
              "      <th>R8</th>\n",
              "      <td>59</td>\n",
              "      <td>61</td>\n",
              "      <td>64</td>\n",
              "      <td>60</td>\n",
              "      <td>56</td>\n",
              "      <td>59</td>\n",
              "      <td>60</td>\n",
              "      <td>58</td>\n",
              "      <td>64</td>\n",
              "      <td>56</td>\n",
              "      <td>...</td>\n",
              "      <td>60</td>\n",
              "      <td>59</td>\n",
              "      <td>56</td>\n",
              "      <td>57</td>\n",
              "      <td>55</td>\n",
              "      <td>56</td>\n",
              "      <td>63</td>\n",
              "      <td>61</td>\n",
              "      <td>56</td>\n",
              "      <td>58</td>\n",
              "    </tr>\n",
              "    <tr>\n",
              "      <th>R9</th>\n",
              "      <td>56</td>\n",
              "      <td>59</td>\n",
              "      <td>56</td>\n",
              "      <td>56</td>\n",
              "      <td>56</td>\n",
              "      <td>62</td>\n",
              "      <td>58</td>\n",
              "      <td>58</td>\n",
              "      <td>63</td>\n",
              "      <td>58</td>\n",
              "      <td>...</td>\n",
              "      <td>55</td>\n",
              "      <td>62</td>\n",
              "      <td>63</td>\n",
              "      <td>64</td>\n",
              "      <td>64</td>\n",
              "      <td>62</td>\n",
              "      <td>55</td>\n",
              "      <td>56</td>\n",
              "      <td>60</td>\n",
              "      <td>62</td>\n",
              "    </tr>\n",
              "    <tr>\n",
              "      <th>R10</th>\n",
              "      <td>63</td>\n",
              "      <td>56</td>\n",
              "      <td>56</td>\n",
              "      <td>64</td>\n",
              "      <td>61</td>\n",
              "      <td>56</td>\n",
              "      <td>56</td>\n",
              "      <td>58</td>\n",
              "      <td>61</td>\n",
              "      <td>63</td>\n",
              "      <td>...</td>\n",
              "      <td>57</td>\n",
              "      <td>60</td>\n",
              "      <td>56</td>\n",
              "      <td>62</td>\n",
              "      <td>57</td>\n",
              "      <td>60</td>\n",
              "      <td>58</td>\n",
              "      <td>61</td>\n",
              "      <td>57</td>\n",
              "      <td>57</td>\n",
              "    </tr>\n",
              "    <tr>\n",
              "      <th>R11</th>\n",
              "      <td>64</td>\n",
              "      <td>59</td>\n",
              "      <td>59</td>\n",
              "      <td>57</td>\n",
              "      <td>62</td>\n",
              "      <td>62</td>\n",
              "      <td>60</td>\n",
              "      <td>59</td>\n",
              "      <td>61</td>\n",
              "      <td>63</td>\n",
              "      <td>...</td>\n",
              "      <td>55</td>\n",
              "      <td>64</td>\n",
              "      <td>61</td>\n",
              "      <td>64</td>\n",
              "      <td>63</td>\n",
              "      <td>57</td>\n",
              "      <td>62</td>\n",
              "      <td>56</td>\n",
              "      <td>61</td>\n",
              "      <td>63</td>\n",
              "    </tr>\n",
              "    <tr>\n",
              "      <th>R12</th>\n",
              "      <td>57</td>\n",
              "      <td>60</td>\n",
              "      <td>55</td>\n",
              "      <td>62</td>\n",
              "      <td>57</td>\n",
              "      <td>55</td>\n",
              "      <td>60</td>\n",
              "      <td>56</td>\n",
              "      <td>61</td>\n",
              "      <td>57</td>\n",
              "      <td>...</td>\n",
              "      <td>56</td>\n",
              "      <td>64</td>\n",
              "      <td>60</td>\n",
              "      <td>63</td>\n",
              "      <td>55</td>\n",
              "      <td>58</td>\n",
              "      <td>57</td>\n",
              "      <td>61</td>\n",
              "      <td>57</td>\n",
              "      <td>55</td>\n",
              "    </tr>\n",
              "    <tr>\n",
              "      <th>R13</th>\n",
              "      <td>61</td>\n",
              "      <td>56</td>\n",
              "      <td>64</td>\n",
              "      <td>61</td>\n",
              "      <td>62</td>\n",
              "      <td>61</td>\n",
              "      <td>59</td>\n",
              "      <td>58</td>\n",
              "      <td>62</td>\n",
              "      <td>60</td>\n",
              "      <td>...</td>\n",
              "      <td>55</td>\n",
              "      <td>57</td>\n",
              "      <td>57</td>\n",
              "      <td>61</td>\n",
              "      <td>55</td>\n",
              "      <td>56</td>\n",
              "      <td>60</td>\n",
              "      <td>58</td>\n",
              "      <td>57</td>\n",
              "      <td>64</td>\n",
              "    </tr>\n",
              "    <tr>\n",
              "      <th>R14</th>\n",
              "      <td>61</td>\n",
              "      <td>63</td>\n",
              "      <td>55</td>\n",
              "      <td>58</td>\n",
              "      <td>59</td>\n",
              "      <td>60</td>\n",
              "      <td>56</td>\n",
              "      <td>62</td>\n",
              "      <td>64</td>\n",
              "      <td>64</td>\n",
              "      <td>...</td>\n",
              "      <td>60</td>\n",
              "      <td>61</td>\n",
              "      <td>60</td>\n",
              "      <td>60</td>\n",
              "      <td>64</td>\n",
              "      <td>59</td>\n",
              "      <td>62</td>\n",
              "      <td>58</td>\n",
              "      <td>62</td>\n",
              "      <td>59</td>\n",
              "    </tr>\n",
              "    <tr>\n",
              "      <th>R15</th>\n",
              "      <td>55</td>\n",
              "      <td>61</td>\n",
              "      <td>60</td>\n",
              "      <td>56</td>\n",
              "      <td>63</td>\n",
              "      <td>58</td>\n",
              "      <td>64</td>\n",
              "      <td>59</td>\n",
              "      <td>57</td>\n",
              "      <td>55</td>\n",
              "      <td>...</td>\n",
              "      <td>64</td>\n",
              "      <td>59</td>\n",
              "      <td>58</td>\n",
              "      <td>55</td>\n",
              "      <td>55</td>\n",
              "      <td>64</td>\n",
              "      <td>61</td>\n",
              "      <td>64</td>\n",
              "      <td>59</td>\n",
              "      <td>59</td>\n",
              "    </tr>\n",
              "    <tr>\n",
              "      <th>R16</th>\n",
              "      <td>58</td>\n",
              "      <td>56</td>\n",
              "      <td>62</td>\n",
              "      <td>62</td>\n",
              "      <td>59</td>\n",
              "      <td>62</td>\n",
              "      <td>60</td>\n",
              "      <td>63</td>\n",
              "      <td>62</td>\n",
              "      <td>56</td>\n",
              "      <td>...</td>\n",
              "      <td>58</td>\n",
              "      <td>57</td>\n",
              "      <td>56</td>\n",
              "      <td>55</td>\n",
              "      <td>58</td>\n",
              "      <td>58</td>\n",
              "      <td>64</td>\n",
              "      <td>62</td>\n",
              "      <td>60</td>\n",
              "      <td>61</td>\n",
              "    </tr>\n",
              "    <tr>\n",
              "      <th>R17</th>\n",
              "      <td>58</td>\n",
              "      <td>57</td>\n",
              "      <td>56</td>\n",
              "      <td>59</td>\n",
              "      <td>60</td>\n",
              "      <td>59</td>\n",
              "      <td>61</td>\n",
              "      <td>62</td>\n",
              "      <td>63</td>\n",
              "      <td>62</td>\n",
              "      <td>...</td>\n",
              "      <td>55</td>\n",
              "      <td>56</td>\n",
              "      <td>60</td>\n",
              "      <td>55</td>\n",
              "      <td>59</td>\n",
              "      <td>55</td>\n",
              "      <td>61</td>\n",
              "      <td>64</td>\n",
              "      <td>61</td>\n",
              "      <td>62</td>\n",
              "    </tr>\n",
              "    <tr>\n",
              "      <th>R18</th>\n",
              "      <td>63</td>\n",
              "      <td>57</td>\n",
              "      <td>62</td>\n",
              "      <td>56</td>\n",
              "      <td>57</td>\n",
              "      <td>62</td>\n",
              "      <td>64</td>\n",
              "      <td>62</td>\n",
              "      <td>58</td>\n",
              "      <td>56</td>\n",
              "      <td>...</td>\n",
              "      <td>55</td>\n",
              "      <td>60</td>\n",
              "      <td>56</td>\n",
              "      <td>63</td>\n",
              "      <td>57</td>\n",
              "      <td>55</td>\n",
              "      <td>64</td>\n",
              "      <td>63</td>\n",
              "      <td>59</td>\n",
              "      <td>55</td>\n",
              "    </tr>\n",
              "    <tr>\n",
              "      <th>R19</th>\n",
              "      <td>57</td>\n",
              "      <td>58</td>\n",
              "      <td>61</td>\n",
              "      <td>56</td>\n",
              "      <td>63</td>\n",
              "      <td>61</td>\n",
              "      <td>58</td>\n",
              "      <td>56</td>\n",
              "      <td>55</td>\n",
              "      <td>61</td>\n",
              "      <td>...</td>\n",
              "      <td>60</td>\n",
              "      <td>62</td>\n",
              "      <td>60</td>\n",
              "      <td>55</td>\n",
              "      <td>55</td>\n",
              "      <td>55</td>\n",
              "      <td>55</td>\n",
              "      <td>55</td>\n",
              "      <td>58</td>\n",
              "      <td>64</td>\n",
              "    </tr>\n",
              "    <tr>\n",
              "      <th>R20</th>\n",
              "      <td>59</td>\n",
              "      <td>64</td>\n",
              "      <td>55</td>\n",
              "      <td>56</td>\n",
              "      <td>63</td>\n",
              "      <td>56</td>\n",
              "      <td>57</td>\n",
              "      <td>63</td>\n",
              "      <td>62</td>\n",
              "      <td>64</td>\n",
              "      <td>...</td>\n",
              "      <td>56</td>\n",
              "      <td>57</td>\n",
              "      <td>61</td>\n",
              "      <td>58</td>\n",
              "      <td>55</td>\n",
              "      <td>59</td>\n",
              "      <td>63</td>\n",
              "      <td>56</td>\n",
              "      <td>57</td>\n",
              "      <td>57</td>\n",
              "    </tr>\n",
              "    <tr>\n",
              "      <th>R21</th>\n",
              "      <td>58</td>\n",
              "      <td>59</td>\n",
              "      <td>62</td>\n",
              "      <td>62</td>\n",
              "      <td>55</td>\n",
              "      <td>64</td>\n",
              "      <td>61</td>\n",
              "      <td>55</td>\n",
              "      <td>60</td>\n",
              "      <td>62</td>\n",
              "      <td>...</td>\n",
              "      <td>63</td>\n",
              "      <td>58</td>\n",
              "      <td>60</td>\n",
              "      <td>57</td>\n",
              "      <td>63</td>\n",
              "      <td>64</td>\n",
              "      <td>55</td>\n",
              "      <td>64</td>\n",
              "      <td>62</td>\n",
              "      <td>64</td>\n",
              "    </tr>\n",
              "    <tr>\n",
              "      <th>R22</th>\n",
              "      <td>60</td>\n",
              "      <td>59</td>\n",
              "      <td>62</td>\n",
              "      <td>58</td>\n",
              "      <td>55</td>\n",
              "      <td>63</td>\n",
              "      <td>60</td>\n",
              "      <td>64</td>\n",
              "      <td>56</td>\n",
              "      <td>59</td>\n",
              "      <td>...</td>\n",
              "      <td>60</td>\n",
              "      <td>58</td>\n",
              "      <td>63</td>\n",
              "      <td>62</td>\n",
              "      <td>55</td>\n",
              "      <td>55</td>\n",
              "      <td>64</td>\n",
              "      <td>57</td>\n",
              "      <td>62</td>\n",
              "      <td>59</td>\n",
              "    </tr>\n",
              "    <tr>\n",
              "      <th>R23</th>\n",
              "      <td>63</td>\n",
              "      <td>57</td>\n",
              "      <td>59</td>\n",
              "      <td>55</td>\n",
              "      <td>56</td>\n",
              "      <td>55</td>\n",
              "      <td>57</td>\n",
              "      <td>56</td>\n",
              "      <td>56</td>\n",
              "      <td>58</td>\n",
              "      <td>...</td>\n",
              "      <td>63</td>\n",
              "      <td>60</td>\n",
              "      <td>63</td>\n",
              "      <td>58</td>\n",
              "      <td>56</td>\n",
              "      <td>55</td>\n",
              "      <td>64</td>\n",
              "      <td>62</td>\n",
              "      <td>61</td>\n",
              "      <td>57</td>\n",
              "    </tr>\n",
              "    <tr>\n",
              "      <th>R24</th>\n",
              "      <td>57</td>\n",
              "      <td>57</td>\n",
              "      <td>60</td>\n",
              "      <td>56</td>\n",
              "      <td>57</td>\n",
              "      <td>59</td>\n",
              "      <td>57</td>\n",
              "      <td>57</td>\n",
              "      <td>55</td>\n",
              "      <td>57</td>\n",
              "      <td>...</td>\n",
              "      <td>56</td>\n",
              "      <td>55</td>\n",
              "      <td>58</td>\n",
              "      <td>62</td>\n",
              "      <td>59</td>\n",
              "      <td>64</td>\n",
              "      <td>64</td>\n",
              "      <td>58</td>\n",
              "      <td>57</td>\n",
              "      <td>55</td>\n",
              "    </tr>\n",
              "    <tr>\n",
              "      <th>R25</th>\n",
              "      <td>61</td>\n",
              "      <td>55</td>\n",
              "      <td>55</td>\n",
              "      <td>57</td>\n",
              "      <td>64</td>\n",
              "      <td>58</td>\n",
              "      <td>59</td>\n",
              "      <td>57</td>\n",
              "      <td>56</td>\n",
              "      <td>60</td>\n",
              "      <td>...</td>\n",
              "      <td>56</td>\n",
              "      <td>63</td>\n",
              "      <td>58</td>\n",
              "      <td>56</td>\n",
              "      <td>56</td>\n",
              "      <td>63</td>\n",
              "      <td>59</td>\n",
              "      <td>57</td>\n",
              "      <td>63</td>\n",
              "      <td>64</td>\n",
              "    </tr>\n",
              "    <tr>\n",
              "      <th>R26</th>\n",
              "      <td>60</td>\n",
              "      <td>64</td>\n",
              "      <td>56</td>\n",
              "      <td>58</td>\n",
              "      <td>62</td>\n",
              "      <td>55</td>\n",
              "      <td>58</td>\n",
              "      <td>58</td>\n",
              "      <td>61</td>\n",
              "      <td>56</td>\n",
              "      <td>...</td>\n",
              "      <td>56</td>\n",
              "      <td>64</td>\n",
              "      <td>62</td>\n",
              "      <td>55</td>\n",
              "      <td>58</td>\n",
              "      <td>58</td>\n",
              "      <td>60</td>\n",
              "      <td>58</td>\n",
              "      <td>57</td>\n",
              "      <td>62</td>\n",
              "    </tr>\n",
              "    <tr>\n",
              "      <th>R27</th>\n",
              "      <td>62</td>\n",
              "      <td>64</td>\n",
              "      <td>61</td>\n",
              "      <td>62</td>\n",
              "      <td>55</td>\n",
              "      <td>60</td>\n",
              "      <td>59</td>\n",
              "      <td>61</td>\n",
              "      <td>63</td>\n",
              "      <td>63</td>\n",
              "      <td>...</td>\n",
              "      <td>55</td>\n",
              "      <td>64</td>\n",
              "      <td>60</td>\n",
              "      <td>60</td>\n",
              "      <td>60</td>\n",
              "      <td>62</td>\n",
              "      <td>59</td>\n",
              "      <td>61</td>\n",
              "      <td>58</td>\n",
              "      <td>60</td>\n",
              "    </tr>\n",
              "    <tr>\n",
              "      <th>R28</th>\n",
              "      <td>60</td>\n",
              "      <td>57</td>\n",
              "      <td>61</td>\n",
              "      <td>61</td>\n",
              "      <td>59</td>\n",
              "      <td>55</td>\n",
              "      <td>60</td>\n",
              "      <td>64</td>\n",
              "      <td>59</td>\n",
              "      <td>60</td>\n",
              "      <td>...</td>\n",
              "      <td>59</td>\n",
              "      <td>57</td>\n",
              "      <td>57</td>\n",
              "      <td>55</td>\n",
              "      <td>55</td>\n",
              "      <td>55</td>\n",
              "      <td>63</td>\n",
              "      <td>63</td>\n",
              "      <td>58</td>\n",
              "      <td>62</td>\n",
              "    </tr>\n",
              "    <tr>\n",
              "      <th>R29</th>\n",
              "      <td>58</td>\n",
              "      <td>59</td>\n",
              "      <td>62</td>\n",
              "      <td>55</td>\n",
              "      <td>62</td>\n",
              "      <td>55</td>\n",
              "      <td>62</td>\n",
              "      <td>60</td>\n",
              "      <td>61</td>\n",
              "      <td>62</td>\n",
              "      <td>...</td>\n",
              "      <td>60</td>\n",
              "      <td>58</td>\n",
              "      <td>58</td>\n",
              "      <td>62</td>\n",
              "      <td>58</td>\n",
              "      <td>58</td>\n",
              "      <td>60</td>\n",
              "      <td>57</td>\n",
              "      <td>57</td>\n",
              "      <td>63</td>\n",
              "    </tr>\n",
              "    <tr>\n",
              "      <th>R30</th>\n",
              "      <td>56</td>\n",
              "      <td>58</td>\n",
              "      <td>64</td>\n",
              "      <td>59</td>\n",
              "      <td>61</td>\n",
              "      <td>62</td>\n",
              "      <td>61</td>\n",
              "      <td>61</td>\n",
              "      <td>59</td>\n",
              "      <td>63</td>\n",
              "      <td>...</td>\n",
              "      <td>62</td>\n",
              "      <td>64</td>\n",
              "      <td>59</td>\n",
              "      <td>61</td>\n",
              "      <td>63</td>\n",
              "      <td>55</td>\n",
              "      <td>58</td>\n",
              "      <td>60</td>\n",
              "      <td>62</td>\n",
              "      <td>58</td>\n",
              "    </tr>\n",
              "    <tr>\n",
              "      <th>R31</th>\n",
              "      <td>60</td>\n",
              "      <td>61</td>\n",
              "      <td>58</td>\n",
              "      <td>59</td>\n",
              "      <td>56</td>\n",
              "      <td>62</td>\n",
              "      <td>64</td>\n",
              "      <td>62</td>\n",
              "      <td>64</td>\n",
              "      <td>60</td>\n",
              "      <td>...</td>\n",
              "      <td>56</td>\n",
              "      <td>58</td>\n",
              "      <td>57</td>\n",
              "      <td>55</td>\n",
              "      <td>62</td>\n",
              "      <td>55</td>\n",
              "      <td>58</td>\n",
              "      <td>55</td>\n",
              "      <td>62</td>\n",
              "      <td>61</td>\n",
              "    </tr>\n",
              "    <tr>\n",
              "      <th>R32</th>\n",
              "      <td>55</td>\n",
              "      <td>59</td>\n",
              "      <td>62</td>\n",
              "      <td>58</td>\n",
              "      <td>59</td>\n",
              "      <td>61</td>\n",
              "      <td>58</td>\n",
              "      <td>61</td>\n",
              "      <td>56</td>\n",
              "      <td>57</td>\n",
              "      <td>...</td>\n",
              "      <td>62</td>\n",
              "      <td>60</td>\n",
              "      <td>59</td>\n",
              "      <td>63</td>\n",
              "      <td>63</td>\n",
              "      <td>64</td>\n",
              "      <td>64</td>\n",
              "      <td>55</td>\n",
              "      <td>63</td>\n",
              "      <td>62</td>\n",
              "    </tr>\n",
              "    <tr>\n",
              "      <th>R33</th>\n",
              "      <td>59</td>\n",
              "      <td>63</td>\n",
              "      <td>57</td>\n",
              "      <td>63</td>\n",
              "      <td>64</td>\n",
              "      <td>58</td>\n",
              "      <td>64</td>\n",
              "      <td>58</td>\n",
              "      <td>55</td>\n",
              "      <td>58</td>\n",
              "      <td>...</td>\n",
              "      <td>62</td>\n",
              "      <td>60</td>\n",
              "      <td>57</td>\n",
              "      <td>61</td>\n",
              "      <td>58</td>\n",
              "      <td>55</td>\n",
              "      <td>62</td>\n",
              "      <td>64</td>\n",
              "      <td>63</td>\n",
              "      <td>64</td>\n",
              "    </tr>\n",
              "    <tr>\n",
              "      <th>R34</th>\n",
              "      <td>57</td>\n",
              "      <td>55</td>\n",
              "      <td>57</td>\n",
              "      <td>55</td>\n",
              "      <td>62</td>\n",
              "      <td>57</td>\n",
              "      <td>60</td>\n",
              "      <td>56</td>\n",
              "      <td>61</td>\n",
              "      <td>55</td>\n",
              "      <td>...</td>\n",
              "      <td>63</td>\n",
              "      <td>55</td>\n",
              "      <td>64</td>\n",
              "      <td>60</td>\n",
              "      <td>64</td>\n",
              "      <td>58</td>\n",
              "      <td>60</td>\n",
              "      <td>57</td>\n",
              "      <td>55</td>\n",
              "      <td>56</td>\n",
              "    </tr>\n",
              "    <tr>\n",
              "      <th>R35</th>\n",
              "      <td>59</td>\n",
              "      <td>62</td>\n",
              "      <td>59</td>\n",
              "      <td>59</td>\n",
              "      <td>60</td>\n",
              "      <td>55</td>\n",
              "      <td>61</td>\n",
              "      <td>58</td>\n",
              "      <td>59</td>\n",
              "      <td>64</td>\n",
              "      <td>...</td>\n",
              "      <td>56</td>\n",
              "      <td>62</td>\n",
              "      <td>59</td>\n",
              "      <td>63</td>\n",
              "      <td>61</td>\n",
              "      <td>59</td>\n",
              "      <td>62</td>\n",
              "      <td>64</td>\n",
              "      <td>58</td>\n",
              "      <td>59</td>\n",
              "    </tr>\n",
              "    <tr>\n",
              "      <th>R36</th>\n",
              "      <td>58</td>\n",
              "      <td>58</td>\n",
              "      <td>61</td>\n",
              "      <td>60</td>\n",
              "      <td>64</td>\n",
              "      <td>58</td>\n",
              "      <td>55</td>\n",
              "      <td>62</td>\n",
              "      <td>61</td>\n",
              "      <td>58</td>\n",
              "      <td>...</td>\n",
              "      <td>57</td>\n",
              "      <td>55</td>\n",
              "      <td>60</td>\n",
              "      <td>64</td>\n",
              "      <td>61</td>\n",
              "      <td>55</td>\n",
              "      <td>62</td>\n",
              "      <td>59</td>\n",
              "      <td>63</td>\n",
              "      <td>59</td>\n",
              "    </tr>\n",
              "    <tr>\n",
              "      <th>R37</th>\n",
              "      <td>63</td>\n",
              "      <td>63</td>\n",
              "      <td>64</td>\n",
              "      <td>57</td>\n",
              "      <td>60</td>\n",
              "      <td>63</td>\n",
              "      <td>55</td>\n",
              "      <td>62</td>\n",
              "      <td>63</td>\n",
              "      <td>62</td>\n",
              "      <td>...</td>\n",
              "      <td>56</td>\n",
              "      <td>59</td>\n",
              "      <td>61</td>\n",
              "      <td>62</td>\n",
              "      <td>61</td>\n",
              "      <td>63</td>\n",
              "      <td>61</td>\n",
              "      <td>59</td>\n",
              "      <td>57</td>\n",
              "      <td>57</td>\n",
              "    </tr>\n",
              "    <tr>\n",
              "      <th>R38</th>\n",
              "      <td>62</td>\n",
              "      <td>60</td>\n",
              "      <td>59</td>\n",
              "      <td>57</td>\n",
              "      <td>60</td>\n",
              "      <td>61</td>\n",
              "      <td>61</td>\n",
              "      <td>57</td>\n",
              "      <td>57</td>\n",
              "      <td>57</td>\n",
              "      <td>...</td>\n",
              "      <td>55</td>\n",
              "      <td>64</td>\n",
              "      <td>62</td>\n",
              "      <td>56</td>\n",
              "      <td>61</td>\n",
              "      <td>61</td>\n",
              "      <td>61</td>\n",
              "      <td>59</td>\n",
              "      <td>59</td>\n",
              "      <td>57</td>\n",
              "    </tr>\n",
              "    <tr>\n",
              "      <th>R39</th>\n",
              "      <td>64</td>\n",
              "      <td>60</td>\n",
              "      <td>57</td>\n",
              "      <td>58</td>\n",
              "      <td>55</td>\n",
              "      <td>55</td>\n",
              "      <td>57</td>\n",
              "      <td>60</td>\n",
              "      <td>59</td>\n",
              "      <td>62</td>\n",
              "      <td>...</td>\n",
              "      <td>59</td>\n",
              "      <td>62</td>\n",
              "      <td>57</td>\n",
              "      <td>56</td>\n",
              "      <td>63</td>\n",
              "      <td>57</td>\n",
              "      <td>58</td>\n",
              "      <td>62</td>\n",
              "      <td>55</td>\n",
              "      <td>63</td>\n",
              "    </tr>\n",
              "    <tr>\n",
              "      <th>R40</th>\n",
              "      <td>61</td>\n",
              "      <td>58</td>\n",
              "      <td>56</td>\n",
              "      <td>59</td>\n",
              "      <td>55</td>\n",
              "      <td>59</td>\n",
              "      <td>62</td>\n",
              "      <td>60</td>\n",
              "      <td>59</td>\n",
              "      <td>58</td>\n",
              "      <td>...</td>\n",
              "      <td>63</td>\n",
              "      <td>64</td>\n",
              "      <td>57</td>\n",
              "      <td>55</td>\n",
              "      <td>60</td>\n",
              "      <td>55</td>\n",
              "      <td>60</td>\n",
              "      <td>55</td>\n",
              "      <td>61</td>\n",
              "      <td>56</td>\n",
              "    </tr>\n",
              "    <tr>\n",
              "      <th>R41</th>\n",
              "      <td>58</td>\n",
              "      <td>61</td>\n",
              "      <td>62</td>\n",
              "      <td>62</td>\n",
              "      <td>58</td>\n",
              "      <td>58</td>\n",
              "      <td>62</td>\n",
              "      <td>57</td>\n",
              "      <td>60</td>\n",
              "      <td>64</td>\n",
              "      <td>...</td>\n",
              "      <td>62</td>\n",
              "      <td>60</td>\n",
              "      <td>62</td>\n",
              "      <td>62</td>\n",
              "      <td>56</td>\n",
              "      <td>57</td>\n",
              "      <td>60</td>\n",
              "      <td>64</td>\n",
              "      <td>63</td>\n",
              "      <td>63</td>\n",
              "    </tr>\n",
              "    <tr>\n",
              "      <th>R42</th>\n",
              "      <td>60</td>\n",
              "      <td>63</td>\n",
              "      <td>64</td>\n",
              "      <td>57</td>\n",
              "      <td>57</td>\n",
              "      <td>59</td>\n",
              "      <td>56</td>\n",
              "      <td>58</td>\n",
              "      <td>61</td>\n",
              "      <td>64</td>\n",
              "      <td>...</td>\n",
              "      <td>62</td>\n",
              "      <td>62</td>\n",
              "      <td>63</td>\n",
              "      <td>63</td>\n",
              "      <td>57</td>\n",
              "      <td>59</td>\n",
              "      <td>60</td>\n",
              "      <td>61</td>\n",
              "      <td>58</td>\n",
              "      <td>57</td>\n",
              "    </tr>\n",
              "    <tr>\n",
              "      <th>R43</th>\n",
              "      <td>58</td>\n",
              "      <td>64</td>\n",
              "      <td>59</td>\n",
              "      <td>60</td>\n",
              "      <td>56</td>\n",
              "      <td>62</td>\n",
              "      <td>57</td>\n",
              "      <td>59</td>\n",
              "      <td>58</td>\n",
              "      <td>62</td>\n",
              "      <td>...</td>\n",
              "      <td>58</td>\n",
              "      <td>57</td>\n",
              "      <td>55</td>\n",
              "      <td>60</td>\n",
              "      <td>58</td>\n",
              "      <td>63</td>\n",
              "      <td>58</td>\n",
              "      <td>63</td>\n",
              "      <td>58</td>\n",
              "      <td>63</td>\n",
              "    </tr>\n",
              "    <tr>\n",
              "      <th>R44</th>\n",
              "      <td>62</td>\n",
              "      <td>55</td>\n",
              "      <td>55</td>\n",
              "      <td>62</td>\n",
              "      <td>55</td>\n",
              "      <td>59</td>\n",
              "      <td>63</td>\n",
              "      <td>62</td>\n",
              "      <td>58</td>\n",
              "      <td>58</td>\n",
              "      <td>...</td>\n",
              "      <td>61</td>\n",
              "      <td>57</td>\n",
              "      <td>56</td>\n",
              "      <td>64</td>\n",
              "      <td>59</td>\n",
              "      <td>58</td>\n",
              "      <td>63</td>\n",
              "      <td>59</td>\n",
              "      <td>57</td>\n",
              "      <td>58</td>\n",
              "    </tr>\n",
              "    <tr>\n",
              "      <th>R45</th>\n",
              "      <td>64</td>\n",
              "      <td>62</td>\n",
              "      <td>62</td>\n",
              "      <td>64</td>\n",
              "      <td>62</td>\n",
              "      <td>58</td>\n",
              "      <td>60</td>\n",
              "      <td>60</td>\n",
              "      <td>59</td>\n",
              "      <td>62</td>\n",
              "      <td>...</td>\n",
              "      <td>62</td>\n",
              "      <td>57</td>\n",
              "      <td>56</td>\n",
              "      <td>60</td>\n",
              "      <td>63</td>\n",
              "      <td>57</td>\n",
              "      <td>57</td>\n",
              "      <td>57</td>\n",
              "      <td>57</td>\n",
              "      <td>64</td>\n",
              "    </tr>\n",
              "    <tr>\n",
              "      <th>R46</th>\n",
              "      <td>58</td>\n",
              "      <td>55</td>\n",
              "      <td>62</td>\n",
              "      <td>63</td>\n",
              "      <td>58</td>\n",
              "      <td>57</td>\n",
              "      <td>57</td>\n",
              "      <td>56</td>\n",
              "      <td>64</td>\n",
              "      <td>55</td>\n",
              "      <td>...</td>\n",
              "      <td>62</td>\n",
              "      <td>63</td>\n",
              "      <td>59</td>\n",
              "      <td>56</td>\n",
              "      <td>55</td>\n",
              "      <td>55</td>\n",
              "      <td>60</td>\n",
              "      <td>64</td>\n",
              "      <td>60</td>\n",
              "      <td>57</td>\n",
              "    </tr>\n",
              "    <tr>\n",
              "      <th>R47</th>\n",
              "      <td>58</td>\n",
              "      <td>57</td>\n",
              "      <td>63</td>\n",
              "      <td>56</td>\n",
              "      <td>55</td>\n",
              "      <td>59</td>\n",
              "      <td>56</td>\n",
              "      <td>61</td>\n",
              "      <td>58</td>\n",
              "      <td>58</td>\n",
              "      <td>...</td>\n",
              "      <td>58</td>\n",
              "      <td>61</td>\n",
              "      <td>61</td>\n",
              "      <td>57</td>\n",
              "      <td>63</td>\n",
              "      <td>63</td>\n",
              "      <td>63</td>\n",
              "      <td>55</td>\n",
              "      <td>55</td>\n",
              "      <td>55</td>\n",
              "    </tr>\n",
              "    <tr>\n",
              "      <th>R48</th>\n",
              "      <td>59</td>\n",
              "      <td>64</td>\n",
              "      <td>59</td>\n",
              "      <td>61</td>\n",
              "      <td>59</td>\n",
              "      <td>63</td>\n",
              "      <td>63</td>\n",
              "      <td>64</td>\n",
              "      <td>57</td>\n",
              "      <td>62</td>\n",
              "      <td>...</td>\n",
              "      <td>56</td>\n",
              "      <td>61</td>\n",
              "      <td>57</td>\n",
              "      <td>62</td>\n",
              "      <td>60</td>\n",
              "      <td>56</td>\n",
              "      <td>56</td>\n",
              "      <td>59</td>\n",
              "      <td>58</td>\n",
              "      <td>57</td>\n",
              "    </tr>\n",
              "    <tr>\n",
              "      <th>R49</th>\n",
              "      <td>57</td>\n",
              "      <td>60</td>\n",
              "      <td>58</td>\n",
              "      <td>63</td>\n",
              "      <td>64</td>\n",
              "      <td>56</td>\n",
              "      <td>60</td>\n",
              "      <td>60</td>\n",
              "      <td>56</td>\n",
              "      <td>63</td>\n",
              "      <td>...</td>\n",
              "      <td>57</td>\n",
              "      <td>60</td>\n",
              "      <td>64</td>\n",
              "      <td>64</td>\n",
              "      <td>55</td>\n",
              "      <td>62</td>\n",
              "      <td>55</td>\n",
              "      <td>57</td>\n",
              "      <td>60</td>\n",
              "      <td>56</td>\n",
              "    </tr>\n",
              "    <tr>\n",
              "      <th>R50</th>\n",
              "      <td>58</td>\n",
              "      <td>56</td>\n",
              "      <td>55</td>\n",
              "      <td>56</td>\n",
              "      <td>55</td>\n",
              "      <td>62</td>\n",
              "      <td>58</td>\n",
              "      <td>59</td>\n",
              "      <td>61</td>\n",
              "      <td>62</td>\n",
              "      <td>...</td>\n",
              "      <td>62</td>\n",
              "      <td>62</td>\n",
              "      <td>62</td>\n",
              "      <td>62</td>\n",
              "      <td>57</td>\n",
              "      <td>60</td>\n",
              "      <td>61</td>\n",
              "      <td>62</td>\n",
              "      <td>62</td>\n",
              "      <td>63</td>\n",
              "    </tr>\n",
              "    <tr>\n",
              "      <th>R51</th>\n",
              "      <td>62</td>\n",
              "      <td>56</td>\n",
              "      <td>55</td>\n",
              "      <td>55</td>\n",
              "      <td>60</td>\n",
              "      <td>59</td>\n",
              "      <td>60</td>\n",
              "      <td>64</td>\n",
              "      <td>61</td>\n",
              "      <td>59</td>\n",
              "      <td>...</td>\n",
              "      <td>62</td>\n",
              "      <td>55</td>\n",
              "      <td>63</td>\n",
              "      <td>56</td>\n",
              "      <td>57</td>\n",
              "      <td>62</td>\n",
              "      <td>61</td>\n",
              "      <td>63</td>\n",
              "      <td>62</td>\n",
              "      <td>59</td>\n",
              "    </tr>\n",
              "    <tr>\n",
              "      <th>R52</th>\n",
              "      <td>57</td>\n",
              "      <td>56</td>\n",
              "      <td>61</td>\n",
              "      <td>60</td>\n",
              "      <td>63</td>\n",
              "      <td>62</td>\n",
              "      <td>64</td>\n",
              "      <td>60</td>\n",
              "      <td>62</td>\n",
              "      <td>60</td>\n",
              "      <td>...</td>\n",
              "      <td>63</td>\n",
              "      <td>63</td>\n",
              "      <td>59</td>\n",
              "      <td>60</td>\n",
              "      <td>61</td>\n",
              "      <td>63</td>\n",
              "      <td>64</td>\n",
              "      <td>56</td>\n",
              "      <td>61</td>\n",
              "      <td>64</td>\n",
              "    </tr>\n",
              "    <tr>\n",
              "      <th>R53</th>\n",
              "      <td>57</td>\n",
              "      <td>57</td>\n",
              "      <td>57</td>\n",
              "      <td>57</td>\n",
              "      <td>59</td>\n",
              "      <td>60</td>\n",
              "      <td>55</td>\n",
              "      <td>57</td>\n",
              "      <td>59</td>\n",
              "      <td>59</td>\n",
              "      <td>...</td>\n",
              "      <td>63</td>\n",
              "      <td>55</td>\n",
              "      <td>55</td>\n",
              "      <td>63</td>\n",
              "      <td>63</td>\n",
              "      <td>63</td>\n",
              "      <td>62</td>\n",
              "      <td>63</td>\n",
              "      <td>59</td>\n",
              "      <td>55</td>\n",
              "    </tr>\n",
              "    <tr>\n",
              "      <th>R54</th>\n",
              "      <td>62</td>\n",
              "      <td>61</td>\n",
              "      <td>64</td>\n",
              "      <td>62</td>\n",
              "      <td>61</td>\n",
              "      <td>61</td>\n",
              "      <td>63</td>\n",
              "      <td>60</td>\n",
              "      <td>62</td>\n",
              "      <td>61</td>\n",
              "      <td>...</td>\n",
              "      <td>57</td>\n",
              "      <td>55</td>\n",
              "      <td>63</td>\n",
              "      <td>63</td>\n",
              "      <td>62</td>\n",
              "      <td>62</td>\n",
              "      <td>61</td>\n",
              "      <td>61</td>\n",
              "      <td>56</td>\n",
              "      <td>58</td>\n",
              "    </tr>\n",
              "    <tr>\n",
              "      <th>R55</th>\n",
              "      <td>59</td>\n",
              "      <td>64</td>\n",
              "      <td>62</td>\n",
              "      <td>64</td>\n",
              "      <td>56</td>\n",
              "      <td>55</td>\n",
              "      <td>59</td>\n",
              "      <td>59</td>\n",
              "      <td>59</td>\n",
              "      <td>62</td>\n",
              "      <td>...</td>\n",
              "      <td>57</td>\n",
              "      <td>59</td>\n",
              "      <td>62</td>\n",
              "      <td>59</td>\n",
              "      <td>57</td>\n",
              "      <td>60</td>\n",
              "      <td>64</td>\n",
              "      <td>61</td>\n",
              "      <td>55</td>\n",
              "      <td>63</td>\n",
              "    </tr>\n",
              "    <tr>\n",
              "      <th>R56</th>\n",
              "      <td>58</td>\n",
              "      <td>56</td>\n",
              "      <td>59</td>\n",
              "      <td>56</td>\n",
              "      <td>60</td>\n",
              "      <td>58</td>\n",
              "      <td>55</td>\n",
              "      <td>59</td>\n",
              "      <td>62</td>\n",
              "      <td>62</td>\n",
              "      <td>...</td>\n",
              "      <td>58</td>\n",
              "      <td>63</td>\n",
              "      <td>63</td>\n",
              "      <td>61</td>\n",
              "      <td>60</td>\n",
              "      <td>57</td>\n",
              "      <td>61</td>\n",
              "      <td>60</td>\n",
              "      <td>63</td>\n",
              "      <td>63</td>\n",
              "    </tr>\n",
              "    <tr>\n",
              "      <th>R57</th>\n",
              "      <td>63</td>\n",
              "      <td>55</td>\n",
              "      <td>62</td>\n",
              "      <td>64</td>\n",
              "      <td>55</td>\n",
              "      <td>58</td>\n",
              "      <td>59</td>\n",
              "      <td>60</td>\n",
              "      <td>55</td>\n",
              "      <td>62</td>\n",
              "      <td>...</td>\n",
              "      <td>60</td>\n",
              "      <td>63</td>\n",
              "      <td>59</td>\n",
              "      <td>57</td>\n",
              "      <td>61</td>\n",
              "      <td>58</td>\n",
              "      <td>62</td>\n",
              "      <td>56</td>\n",
              "      <td>58</td>\n",
              "      <td>56</td>\n",
              "    </tr>\n",
              "    <tr>\n",
              "      <th>R58</th>\n",
              "      <td>58</td>\n",
              "      <td>59</td>\n",
              "      <td>61</td>\n",
              "      <td>57</td>\n",
              "      <td>59</td>\n",
              "      <td>61</td>\n",
              "      <td>62</td>\n",
              "      <td>57</td>\n",
              "      <td>60</td>\n",
              "      <td>56</td>\n",
              "      <td>...</td>\n",
              "      <td>62</td>\n",
              "      <td>61</td>\n",
              "      <td>55</td>\n",
              "      <td>56</td>\n",
              "      <td>58</td>\n",
              "      <td>64</td>\n",
              "      <td>58</td>\n",
              "      <td>57</td>\n",
              "      <td>56</td>\n",
              "      <td>58</td>\n",
              "    </tr>\n",
              "  </tbody>\n",
              "</table>\n",
              "<p>58 rows × 99 columns</p>\n",
              "</div>\n",
              "      <button class=\"colab-df-convert\" onclick=\"convertToInteractive('df-1ee9d015-83ea-4e3d-991a-4d7c2fc96631')\"\n",
              "              title=\"Convert this dataframe to an interactive table.\"\n",
              "              style=\"display:none;\">\n",
              "        \n",
              "  <svg xmlns=\"http://www.w3.org/2000/svg\" height=\"24px\"viewBox=\"0 0 24 24\"\n",
              "       width=\"24px\">\n",
              "    <path d=\"M0 0h24v24H0V0z\" fill=\"none\"/>\n",
              "    <path d=\"M18.56 5.44l.94 2.06.94-2.06 2.06-.94-2.06-.94-.94-2.06-.94 2.06-2.06.94zm-11 1L8.5 8.5l.94-2.06 2.06-.94-2.06-.94L8.5 2.5l-.94 2.06-2.06.94zm10 10l.94 2.06.94-2.06 2.06-.94-2.06-.94-.94-2.06-.94 2.06-2.06.94z\"/><path d=\"M17.41 7.96l-1.37-1.37c-.4-.4-.92-.59-1.43-.59-.52 0-1.04.2-1.43.59L10.3 9.45l-7.72 7.72c-.78.78-.78 2.05 0 2.83L4 21.41c.39.39.9.59 1.41.59.51 0 1.02-.2 1.41-.59l7.78-7.78 2.81-2.81c.8-.78.8-2.07 0-2.86zM5.41 20L4 18.59l7.72-7.72 1.47 1.35L5.41 20z\"/>\n",
              "  </svg>\n",
              "      </button>\n",
              "      \n",
              "  <style>\n",
              "    .colab-df-container {\n",
              "      display:flex;\n",
              "      flex-wrap:wrap;\n",
              "      gap: 12px;\n",
              "    }\n",
              "\n",
              "    .colab-df-convert {\n",
              "      background-color: #E8F0FE;\n",
              "      border: none;\n",
              "      border-radius: 50%;\n",
              "      cursor: pointer;\n",
              "      display: none;\n",
              "      fill: #1967D2;\n",
              "      height: 32px;\n",
              "      padding: 0 0 0 0;\n",
              "      width: 32px;\n",
              "    }\n",
              "\n",
              "    .colab-df-convert:hover {\n",
              "      background-color: #E2EBFA;\n",
              "      box-shadow: 0px 1px 2px rgba(60, 64, 67, 0.3), 0px 1px 3px 1px rgba(60, 64, 67, 0.15);\n",
              "      fill: #174EA6;\n",
              "    }\n",
              "\n",
              "    [theme=dark] .colab-df-convert {\n",
              "      background-color: #3B4455;\n",
              "      fill: #D2E3FC;\n",
              "    }\n",
              "\n",
              "    [theme=dark] .colab-df-convert:hover {\n",
              "      background-color: #434B5C;\n",
              "      box-shadow: 0px 1px 3px 1px rgba(0, 0, 0, 0.15);\n",
              "      filter: drop-shadow(0px 1px 2px rgba(0, 0, 0, 0.3));\n",
              "      fill: #FFFFFF;\n",
              "    }\n",
              "  </style>\n",
              "\n",
              "      <script>\n",
              "        const buttonEl =\n",
              "          document.querySelector('#df-1ee9d015-83ea-4e3d-991a-4d7c2fc96631 button.colab-df-convert');\n",
              "        buttonEl.style.display =\n",
              "          google.colab.kernel.accessAllowed ? 'block' : 'none';\n",
              "\n",
              "        async function convertToInteractive(key) {\n",
              "          const element = document.querySelector('#df-1ee9d015-83ea-4e3d-991a-4d7c2fc96631');\n",
              "          const dataTable =\n",
              "            await google.colab.kernel.invokeFunction('convertToInteractive',\n",
              "                                                     [key], {});\n",
              "          if (!dataTable) return;\n",
              "\n",
              "          const docLinkHtml = 'Like what you see? Visit the ' +\n",
              "            '<a target=\"_blank\" href=https://colab.research.google.com/notebooks/data_table.ipynb>data table notebook</a>'\n",
              "            + ' to learn more about interactive tables.';\n",
              "          element.innerHTML = '';\n",
              "          dataTable['output_type'] = 'display_data';\n",
              "          await google.colab.output.renderOutput(dataTable, element);\n",
              "          const docLink = document.createElement('div');\n",
              "          docLink.innerHTML = docLinkHtml;\n",
              "          element.appendChild(docLink);\n",
              "        }\n",
              "      </script>\n",
              "    </div>\n",
              "  </div>\n",
              "  "
            ]
          },
          "metadata": {},
          "execution_count": 102
        }
      ]
    },
    {
      "cell_type": "code",
      "source": [
        "PlanteMass=pd.Series([0.330,4.87,5.97,0.073,0.642,1898,568,86.8,102,0.0130],index=[\"MERCURY\",\"VENUS\",\"EARTH\",\"MOON\",\"MARS\",\"JUPITER\",\"SATURN\",\"URANUS\",\"NEPTUNE\",\"PLUTO\"]) \n",
        "PlanteDiameter=pd.Series([4879,12104,12756,3475,6792,142984,120536,51118,49528,2376],index=[\"MERCURY\",\"VENUS\",\"EARTH\",\"MOON\",\"MARS\",\"JUPITER\",\"SATURN\",\"URANUS\",\"NEPTUNE\",\"PLUTO\"])\n",
        "PlanteDensity=pd.Series([5429,5243,5514,3340,3934,1326,687,1270,1638,1850],index=[\"MERCURY\",\"VENUS\",\"EARTH\",\"MOON\",\"MARS\",\"JUPITER\",\"SATURN\",\"URANUS\",\"NEPTUNE\",\"PLUTO\"])"
      ],
      "metadata": {
        "id": "4bPfdCqZp3hh"
      },
      "execution_count": null,
      "outputs": []
    },
    {
      "cell_type": "code",
      "source": [
        "df03=pd.DataFrame({\"Mass\":PlanteMass,\"Diameter\":PlanteDiameter,\"Density\":PlanteDensity})    \n",
        "df03  "
      ],
      "metadata": {
        "id": "z-Q8QHJvsVH7",
        "colab": {
          "base_uri": "https://localhost:8080/",
          "height": 363
        },
        "outputId": "bb253012-841c-4bb2-8fd9-5d2a3098443c"
      },
      "execution_count": null,
      "outputs": [
        {
          "output_type": "execute_result",
          "data": {
            "text/plain": [
              "             Mass  Diameter  Density\n",
              "MERCURY     0.330      4879     5429\n",
              "VENUS       4.870     12104     5243\n",
              "EARTH       5.970     12756     5514\n",
              "MOON        0.073      3475     3340\n",
              "MARS        0.642      6792     3934\n",
              "JUPITER  1898.000    142984     1326\n",
              "SATURN    568.000    120536      687\n",
              "URANUS     86.800     51118     1270\n",
              "NEPTUNE   102.000     49528     1638\n",
              "PLUTO       0.013      2376     1850"
            ],
            "text/html": [
              "\n",
              "  <div id=\"df-c9f2ec16-e4de-4eca-b8ce-7400288e48ab\">\n",
              "    <div class=\"colab-df-container\">\n",
              "      <div>\n",
              "<style scoped>\n",
              "    .dataframe tbody tr th:only-of-type {\n",
              "        vertical-align: middle;\n",
              "    }\n",
              "\n",
              "    .dataframe tbody tr th {\n",
              "        vertical-align: top;\n",
              "    }\n",
              "\n",
              "    .dataframe thead th {\n",
              "        text-align: right;\n",
              "    }\n",
              "</style>\n",
              "<table border=\"1\" class=\"dataframe\">\n",
              "  <thead>\n",
              "    <tr style=\"text-align: right;\">\n",
              "      <th></th>\n",
              "      <th>Mass</th>\n",
              "      <th>Diameter</th>\n",
              "      <th>Density</th>\n",
              "    </tr>\n",
              "  </thead>\n",
              "  <tbody>\n",
              "    <tr>\n",
              "      <th>MERCURY</th>\n",
              "      <td>0.330</td>\n",
              "      <td>4879</td>\n",
              "      <td>5429</td>\n",
              "    </tr>\n",
              "    <tr>\n",
              "      <th>VENUS</th>\n",
              "      <td>4.870</td>\n",
              "      <td>12104</td>\n",
              "      <td>5243</td>\n",
              "    </tr>\n",
              "    <tr>\n",
              "      <th>EARTH</th>\n",
              "      <td>5.970</td>\n",
              "      <td>12756</td>\n",
              "      <td>5514</td>\n",
              "    </tr>\n",
              "    <tr>\n",
              "      <th>MOON</th>\n",
              "      <td>0.073</td>\n",
              "      <td>3475</td>\n",
              "      <td>3340</td>\n",
              "    </tr>\n",
              "    <tr>\n",
              "      <th>MARS</th>\n",
              "      <td>0.642</td>\n",
              "      <td>6792</td>\n",
              "      <td>3934</td>\n",
              "    </tr>\n",
              "    <tr>\n",
              "      <th>JUPITER</th>\n",
              "      <td>1898.000</td>\n",
              "      <td>142984</td>\n",
              "      <td>1326</td>\n",
              "    </tr>\n",
              "    <tr>\n",
              "      <th>SATURN</th>\n",
              "      <td>568.000</td>\n",
              "      <td>120536</td>\n",
              "      <td>687</td>\n",
              "    </tr>\n",
              "    <tr>\n",
              "      <th>URANUS</th>\n",
              "      <td>86.800</td>\n",
              "      <td>51118</td>\n",
              "      <td>1270</td>\n",
              "    </tr>\n",
              "    <tr>\n",
              "      <th>NEPTUNE</th>\n",
              "      <td>102.000</td>\n",
              "      <td>49528</td>\n",
              "      <td>1638</td>\n",
              "    </tr>\n",
              "    <tr>\n",
              "      <th>PLUTO</th>\n",
              "      <td>0.013</td>\n",
              "      <td>2376</td>\n",
              "      <td>1850</td>\n",
              "    </tr>\n",
              "  </tbody>\n",
              "</table>\n",
              "</div>\n",
              "      <button class=\"colab-df-convert\" onclick=\"convertToInteractive('df-c9f2ec16-e4de-4eca-b8ce-7400288e48ab')\"\n",
              "              title=\"Convert this dataframe to an interactive table.\"\n",
              "              style=\"display:none;\">\n",
              "        \n",
              "  <svg xmlns=\"http://www.w3.org/2000/svg\" height=\"24px\"viewBox=\"0 0 24 24\"\n",
              "       width=\"24px\">\n",
              "    <path d=\"M0 0h24v24H0V0z\" fill=\"none\"/>\n",
              "    <path d=\"M18.56 5.44l.94 2.06.94-2.06 2.06-.94-2.06-.94-.94-2.06-.94 2.06-2.06.94zm-11 1L8.5 8.5l.94-2.06 2.06-.94-2.06-.94L8.5 2.5l-.94 2.06-2.06.94zm10 10l.94 2.06.94-2.06 2.06-.94-2.06-.94-.94-2.06-.94 2.06-2.06.94z\"/><path d=\"M17.41 7.96l-1.37-1.37c-.4-.4-.92-.59-1.43-.59-.52 0-1.04.2-1.43.59L10.3 9.45l-7.72 7.72c-.78.78-.78 2.05 0 2.83L4 21.41c.39.39.9.59 1.41.59.51 0 1.02-.2 1.41-.59l7.78-7.78 2.81-2.81c.8-.78.8-2.07 0-2.86zM5.41 20L4 18.59l7.72-7.72 1.47 1.35L5.41 20z\"/>\n",
              "  </svg>\n",
              "      </button>\n",
              "      \n",
              "  <style>\n",
              "    .colab-df-container {\n",
              "      display:flex;\n",
              "      flex-wrap:wrap;\n",
              "      gap: 12px;\n",
              "    }\n",
              "\n",
              "    .colab-df-convert {\n",
              "      background-color: #E8F0FE;\n",
              "      border: none;\n",
              "      border-radius: 50%;\n",
              "      cursor: pointer;\n",
              "      display: none;\n",
              "      fill: #1967D2;\n",
              "      height: 32px;\n",
              "      padding: 0 0 0 0;\n",
              "      width: 32px;\n",
              "    }\n",
              "\n",
              "    .colab-df-convert:hover {\n",
              "      background-color: #E2EBFA;\n",
              "      box-shadow: 0px 1px 2px rgba(60, 64, 67, 0.3), 0px 1px 3px 1px rgba(60, 64, 67, 0.15);\n",
              "      fill: #174EA6;\n",
              "    }\n",
              "\n",
              "    [theme=dark] .colab-df-convert {\n",
              "      background-color: #3B4455;\n",
              "      fill: #D2E3FC;\n",
              "    }\n",
              "\n",
              "    [theme=dark] .colab-df-convert:hover {\n",
              "      background-color: #434B5C;\n",
              "      box-shadow: 0px 1px 3px 1px rgba(0, 0, 0, 0.15);\n",
              "      filter: drop-shadow(0px 1px 2px rgba(0, 0, 0, 0.3));\n",
              "      fill: #FFFFFF;\n",
              "    }\n",
              "  </style>\n",
              "\n",
              "      <script>\n",
              "        const buttonEl =\n",
              "          document.querySelector('#df-c9f2ec16-e4de-4eca-b8ce-7400288e48ab button.colab-df-convert');\n",
              "        buttonEl.style.display =\n",
              "          google.colab.kernel.accessAllowed ? 'block' : 'none';\n",
              "\n",
              "        async function convertToInteractive(key) {\n",
              "          const element = document.querySelector('#df-c9f2ec16-e4de-4eca-b8ce-7400288e48ab');\n",
              "          const dataTable =\n",
              "            await google.colab.kernel.invokeFunction('convertToInteractive',\n",
              "                                                     [key], {});\n",
              "          if (!dataTable) return;\n",
              "\n",
              "          const docLinkHtml = 'Like what you see? Visit the ' +\n",
              "            '<a target=\"_blank\" href=https://colab.research.google.com/notebooks/data_table.ipynb>data table notebook</a>'\n",
              "            + ' to learn more about interactive tables.';\n",
              "          element.innerHTML = '';\n",
              "          dataTable['output_type'] = 'display_data';\n",
              "          await google.colab.output.renderOutput(dataTable, element);\n",
              "          const docLink = document.createElement('div');\n",
              "          docLink.innerHTML = docLinkHtml;\n",
              "          element.appendChild(docLink);\n",
              "        }\n",
              "      </script>\n",
              "    </div>\n",
              "  </div>\n",
              "  "
            ]
          },
          "metadata": {},
          "execution_count": 104
        }
      ]
    },
    {
      "cell_type": "code",
      "source": [
        "df03[\"Gravity\"]=[0.378,0.907,1,0.166,0.377,2.36,0.916,0.889,1.12,0.071]    "
      ],
      "metadata": {
        "id": "-PflIWLettYj"
      },
      "execution_count": null,
      "outputs": []
    },
    {
      "cell_type": "code",
      "source": [
        "df03[\"Dummy\"]=1     \n",
        "df03"
      ],
      "metadata": {
        "id": "o18Zg8pRIDOa",
        "colab": {
          "base_uri": "https://localhost:8080/",
          "height": 363
        },
        "outputId": "769e7f42-da27-45ec-ad03-80b78b0f34d8"
      },
      "execution_count": null,
      "outputs": [
        {
          "output_type": "execute_result",
          "data": {
            "text/plain": [
              "             Mass  Diameter  Density  Gravity  Dummy\n",
              "MERCURY     0.330      4879     5429    0.378      1\n",
              "VENUS       4.870     12104     5243    0.907      1\n",
              "EARTH       5.970     12756     5514    1.000      1\n",
              "MOON        0.073      3475     3340    0.166      1\n",
              "MARS        0.642      6792     3934    0.377      1\n",
              "JUPITER  1898.000    142984     1326    2.360      1\n",
              "SATURN    568.000    120536      687    0.916      1\n",
              "URANUS     86.800     51118     1270    0.889      1\n",
              "NEPTUNE   102.000     49528     1638    1.120      1\n",
              "PLUTO       0.013      2376     1850    0.071      1"
            ],
            "text/html": [
              "\n",
              "  <div id=\"df-c771bc65-9cbe-429a-a45a-b247add5ee5c\">\n",
              "    <div class=\"colab-df-container\">\n",
              "      <div>\n",
              "<style scoped>\n",
              "    .dataframe tbody tr th:only-of-type {\n",
              "        vertical-align: middle;\n",
              "    }\n",
              "\n",
              "    .dataframe tbody tr th {\n",
              "        vertical-align: top;\n",
              "    }\n",
              "\n",
              "    .dataframe thead th {\n",
              "        text-align: right;\n",
              "    }\n",
              "</style>\n",
              "<table border=\"1\" class=\"dataframe\">\n",
              "  <thead>\n",
              "    <tr style=\"text-align: right;\">\n",
              "      <th></th>\n",
              "      <th>Mass</th>\n",
              "      <th>Diameter</th>\n",
              "      <th>Density</th>\n",
              "      <th>Gravity</th>\n",
              "      <th>Dummy</th>\n",
              "    </tr>\n",
              "  </thead>\n",
              "  <tbody>\n",
              "    <tr>\n",
              "      <th>MERCURY</th>\n",
              "      <td>0.330</td>\n",
              "      <td>4879</td>\n",
              "      <td>5429</td>\n",
              "      <td>0.378</td>\n",
              "      <td>1</td>\n",
              "    </tr>\n",
              "    <tr>\n",
              "      <th>VENUS</th>\n",
              "      <td>4.870</td>\n",
              "      <td>12104</td>\n",
              "      <td>5243</td>\n",
              "      <td>0.907</td>\n",
              "      <td>1</td>\n",
              "    </tr>\n",
              "    <tr>\n",
              "      <th>EARTH</th>\n",
              "      <td>5.970</td>\n",
              "      <td>12756</td>\n",
              "      <td>5514</td>\n",
              "      <td>1.000</td>\n",
              "      <td>1</td>\n",
              "    </tr>\n",
              "    <tr>\n",
              "      <th>MOON</th>\n",
              "      <td>0.073</td>\n",
              "      <td>3475</td>\n",
              "      <td>3340</td>\n",
              "      <td>0.166</td>\n",
              "      <td>1</td>\n",
              "    </tr>\n",
              "    <tr>\n",
              "      <th>MARS</th>\n",
              "      <td>0.642</td>\n",
              "      <td>6792</td>\n",
              "      <td>3934</td>\n",
              "      <td>0.377</td>\n",
              "      <td>1</td>\n",
              "    </tr>\n",
              "    <tr>\n",
              "      <th>JUPITER</th>\n",
              "      <td>1898.000</td>\n",
              "      <td>142984</td>\n",
              "      <td>1326</td>\n",
              "      <td>2.360</td>\n",
              "      <td>1</td>\n",
              "    </tr>\n",
              "    <tr>\n",
              "      <th>SATURN</th>\n",
              "      <td>568.000</td>\n",
              "      <td>120536</td>\n",
              "      <td>687</td>\n",
              "      <td>0.916</td>\n",
              "      <td>1</td>\n",
              "    </tr>\n",
              "    <tr>\n",
              "      <th>URANUS</th>\n",
              "      <td>86.800</td>\n",
              "      <td>51118</td>\n",
              "      <td>1270</td>\n",
              "      <td>0.889</td>\n",
              "      <td>1</td>\n",
              "    </tr>\n",
              "    <tr>\n",
              "      <th>NEPTUNE</th>\n",
              "      <td>102.000</td>\n",
              "      <td>49528</td>\n",
              "      <td>1638</td>\n",
              "      <td>1.120</td>\n",
              "      <td>1</td>\n",
              "    </tr>\n",
              "    <tr>\n",
              "      <th>PLUTO</th>\n",
              "      <td>0.013</td>\n",
              "      <td>2376</td>\n",
              "      <td>1850</td>\n",
              "      <td>0.071</td>\n",
              "      <td>1</td>\n",
              "    </tr>\n",
              "  </tbody>\n",
              "</table>\n",
              "</div>\n",
              "      <button class=\"colab-df-convert\" onclick=\"convertToInteractive('df-c771bc65-9cbe-429a-a45a-b247add5ee5c')\"\n",
              "              title=\"Convert this dataframe to an interactive table.\"\n",
              "              style=\"display:none;\">\n",
              "        \n",
              "  <svg xmlns=\"http://www.w3.org/2000/svg\" height=\"24px\"viewBox=\"0 0 24 24\"\n",
              "       width=\"24px\">\n",
              "    <path d=\"M0 0h24v24H0V0z\" fill=\"none\"/>\n",
              "    <path d=\"M18.56 5.44l.94 2.06.94-2.06 2.06-.94-2.06-.94-.94-2.06-.94 2.06-2.06.94zm-11 1L8.5 8.5l.94-2.06 2.06-.94-2.06-.94L8.5 2.5l-.94 2.06-2.06.94zm10 10l.94 2.06.94-2.06 2.06-.94-2.06-.94-.94-2.06-.94 2.06-2.06.94z\"/><path d=\"M17.41 7.96l-1.37-1.37c-.4-.4-.92-.59-1.43-.59-.52 0-1.04.2-1.43.59L10.3 9.45l-7.72 7.72c-.78.78-.78 2.05 0 2.83L4 21.41c.39.39.9.59 1.41.59.51 0 1.02-.2 1.41-.59l7.78-7.78 2.81-2.81c.8-.78.8-2.07 0-2.86zM5.41 20L4 18.59l7.72-7.72 1.47 1.35L5.41 20z\"/>\n",
              "  </svg>\n",
              "      </button>\n",
              "      \n",
              "  <style>\n",
              "    .colab-df-container {\n",
              "      display:flex;\n",
              "      flex-wrap:wrap;\n",
              "      gap: 12px;\n",
              "    }\n",
              "\n",
              "    .colab-df-convert {\n",
              "      background-color: #E8F0FE;\n",
              "      border: none;\n",
              "      border-radius: 50%;\n",
              "      cursor: pointer;\n",
              "      display: none;\n",
              "      fill: #1967D2;\n",
              "      height: 32px;\n",
              "      padding: 0 0 0 0;\n",
              "      width: 32px;\n",
              "    }\n",
              "\n",
              "    .colab-df-convert:hover {\n",
              "      background-color: #E2EBFA;\n",
              "      box-shadow: 0px 1px 2px rgba(60, 64, 67, 0.3), 0px 1px 3px 1px rgba(60, 64, 67, 0.15);\n",
              "      fill: #174EA6;\n",
              "    }\n",
              "\n",
              "    [theme=dark] .colab-df-convert {\n",
              "      background-color: #3B4455;\n",
              "      fill: #D2E3FC;\n",
              "    }\n",
              "\n",
              "    [theme=dark] .colab-df-convert:hover {\n",
              "      background-color: #434B5C;\n",
              "      box-shadow: 0px 1px 3px 1px rgba(0, 0, 0, 0.15);\n",
              "      filter: drop-shadow(0px 1px 2px rgba(0, 0, 0, 0.3));\n",
              "      fill: #FFFFFF;\n",
              "    }\n",
              "  </style>\n",
              "\n",
              "      <script>\n",
              "        const buttonEl =\n",
              "          document.querySelector('#df-c771bc65-9cbe-429a-a45a-b247add5ee5c button.colab-df-convert');\n",
              "        buttonEl.style.display =\n",
              "          google.colab.kernel.accessAllowed ? 'block' : 'none';\n",
              "\n",
              "        async function convertToInteractive(key) {\n",
              "          const element = document.querySelector('#df-c771bc65-9cbe-429a-a45a-b247add5ee5c');\n",
              "          const dataTable =\n",
              "            await google.colab.kernel.invokeFunction('convertToInteractive',\n",
              "                                                     [key], {});\n",
              "          if (!dataTable) return;\n",
              "\n",
              "          const docLinkHtml = 'Like what you see? Visit the ' +\n",
              "            '<a target=\"_blank\" href=https://colab.research.google.com/notebooks/data_table.ipynb>data table notebook</a>'\n",
              "            + ' to learn more about interactive tables.';\n",
              "          element.innerHTML = '';\n",
              "          dataTable['output_type'] = 'display_data';\n",
              "          await google.colab.output.renderOutput(dataTable, element);\n",
              "          const docLink = document.createElement('div');\n",
              "          docLink.innerHTML = docLinkHtml;\n",
              "          element.appendChild(docLink);\n",
              "        }\n",
              "      </script>\n",
              "    </div>\n",
              "  </div>\n",
              "  "
            ]
          },
          "metadata": {},
          "execution_count": 106
        }
      ]
    },
    {
      "cell_type": "code",
      "source": [
        "df03.drop(\"Dummy\",axis=True,inplace=True)    \n",
        "#Here \"Inplace=True\" Means Update In Actual Data Frame\n",
        "df03"
      ],
      "metadata": {
        "id": "OCmbBEoqIDK5",
        "colab": {
          "base_uri": "https://localhost:8080/",
          "height": 363
        },
        "outputId": "313a46b5-a8b6-4ac7-c0a8-ebbe0182e671"
      },
      "execution_count": null,
      "outputs": [
        {
          "output_type": "execute_result",
          "data": {
            "text/plain": [
              "             Mass  Diameter  Density  Gravity\n",
              "MERCURY     0.330      4879     5429    0.378\n",
              "VENUS       4.870     12104     5243    0.907\n",
              "EARTH       5.970     12756     5514    1.000\n",
              "MOON        0.073      3475     3340    0.166\n",
              "MARS        0.642      6792     3934    0.377\n",
              "JUPITER  1898.000    142984     1326    2.360\n",
              "SATURN    568.000    120536      687    0.916\n",
              "URANUS     86.800     51118     1270    0.889\n",
              "NEPTUNE   102.000     49528     1638    1.120\n",
              "PLUTO       0.013      2376     1850    0.071"
            ],
            "text/html": [
              "\n",
              "  <div id=\"df-20d25da7-1f8a-4405-9063-71d3a931fd4f\">\n",
              "    <div class=\"colab-df-container\">\n",
              "      <div>\n",
              "<style scoped>\n",
              "    .dataframe tbody tr th:only-of-type {\n",
              "        vertical-align: middle;\n",
              "    }\n",
              "\n",
              "    .dataframe tbody tr th {\n",
              "        vertical-align: top;\n",
              "    }\n",
              "\n",
              "    .dataframe thead th {\n",
              "        text-align: right;\n",
              "    }\n",
              "</style>\n",
              "<table border=\"1\" class=\"dataframe\">\n",
              "  <thead>\n",
              "    <tr style=\"text-align: right;\">\n",
              "      <th></th>\n",
              "      <th>Mass</th>\n",
              "      <th>Diameter</th>\n",
              "      <th>Density</th>\n",
              "      <th>Gravity</th>\n",
              "    </tr>\n",
              "  </thead>\n",
              "  <tbody>\n",
              "    <tr>\n",
              "      <th>MERCURY</th>\n",
              "      <td>0.330</td>\n",
              "      <td>4879</td>\n",
              "      <td>5429</td>\n",
              "      <td>0.378</td>\n",
              "    </tr>\n",
              "    <tr>\n",
              "      <th>VENUS</th>\n",
              "      <td>4.870</td>\n",
              "      <td>12104</td>\n",
              "      <td>5243</td>\n",
              "      <td>0.907</td>\n",
              "    </tr>\n",
              "    <tr>\n",
              "      <th>EARTH</th>\n",
              "      <td>5.970</td>\n",
              "      <td>12756</td>\n",
              "      <td>5514</td>\n",
              "      <td>1.000</td>\n",
              "    </tr>\n",
              "    <tr>\n",
              "      <th>MOON</th>\n",
              "      <td>0.073</td>\n",
              "      <td>3475</td>\n",
              "      <td>3340</td>\n",
              "      <td>0.166</td>\n",
              "    </tr>\n",
              "    <tr>\n",
              "      <th>MARS</th>\n",
              "      <td>0.642</td>\n",
              "      <td>6792</td>\n",
              "      <td>3934</td>\n",
              "      <td>0.377</td>\n",
              "    </tr>\n",
              "    <tr>\n",
              "      <th>JUPITER</th>\n",
              "      <td>1898.000</td>\n",
              "      <td>142984</td>\n",
              "      <td>1326</td>\n",
              "      <td>2.360</td>\n",
              "    </tr>\n",
              "    <tr>\n",
              "      <th>SATURN</th>\n",
              "      <td>568.000</td>\n",
              "      <td>120536</td>\n",
              "      <td>687</td>\n",
              "      <td>0.916</td>\n",
              "    </tr>\n",
              "    <tr>\n",
              "      <th>URANUS</th>\n",
              "      <td>86.800</td>\n",
              "      <td>51118</td>\n",
              "      <td>1270</td>\n",
              "      <td>0.889</td>\n",
              "    </tr>\n",
              "    <tr>\n",
              "      <th>NEPTUNE</th>\n",
              "      <td>102.000</td>\n",
              "      <td>49528</td>\n",
              "      <td>1638</td>\n",
              "      <td>1.120</td>\n",
              "    </tr>\n",
              "    <tr>\n",
              "      <th>PLUTO</th>\n",
              "      <td>0.013</td>\n",
              "      <td>2376</td>\n",
              "      <td>1850</td>\n",
              "      <td>0.071</td>\n",
              "    </tr>\n",
              "  </tbody>\n",
              "</table>\n",
              "</div>\n",
              "      <button class=\"colab-df-convert\" onclick=\"convertToInteractive('df-20d25da7-1f8a-4405-9063-71d3a931fd4f')\"\n",
              "              title=\"Convert this dataframe to an interactive table.\"\n",
              "              style=\"display:none;\">\n",
              "        \n",
              "  <svg xmlns=\"http://www.w3.org/2000/svg\" height=\"24px\"viewBox=\"0 0 24 24\"\n",
              "       width=\"24px\">\n",
              "    <path d=\"M0 0h24v24H0V0z\" fill=\"none\"/>\n",
              "    <path d=\"M18.56 5.44l.94 2.06.94-2.06 2.06-.94-2.06-.94-.94-2.06-.94 2.06-2.06.94zm-11 1L8.5 8.5l.94-2.06 2.06-.94-2.06-.94L8.5 2.5l-.94 2.06-2.06.94zm10 10l.94 2.06.94-2.06 2.06-.94-2.06-.94-.94-2.06-.94 2.06-2.06.94z\"/><path d=\"M17.41 7.96l-1.37-1.37c-.4-.4-.92-.59-1.43-.59-.52 0-1.04.2-1.43.59L10.3 9.45l-7.72 7.72c-.78.78-.78 2.05 0 2.83L4 21.41c.39.39.9.59 1.41.59.51 0 1.02-.2 1.41-.59l7.78-7.78 2.81-2.81c.8-.78.8-2.07 0-2.86zM5.41 20L4 18.59l7.72-7.72 1.47 1.35L5.41 20z\"/>\n",
              "  </svg>\n",
              "      </button>\n",
              "      \n",
              "  <style>\n",
              "    .colab-df-container {\n",
              "      display:flex;\n",
              "      flex-wrap:wrap;\n",
              "      gap: 12px;\n",
              "    }\n",
              "\n",
              "    .colab-df-convert {\n",
              "      background-color: #E8F0FE;\n",
              "      border: none;\n",
              "      border-radius: 50%;\n",
              "      cursor: pointer;\n",
              "      display: none;\n",
              "      fill: #1967D2;\n",
              "      height: 32px;\n",
              "      padding: 0 0 0 0;\n",
              "      width: 32px;\n",
              "    }\n",
              "\n",
              "    .colab-df-convert:hover {\n",
              "      background-color: #E2EBFA;\n",
              "      box-shadow: 0px 1px 2px rgba(60, 64, 67, 0.3), 0px 1px 3px 1px rgba(60, 64, 67, 0.15);\n",
              "      fill: #174EA6;\n",
              "    }\n",
              "\n",
              "    [theme=dark] .colab-df-convert {\n",
              "      background-color: #3B4455;\n",
              "      fill: #D2E3FC;\n",
              "    }\n",
              "\n",
              "    [theme=dark] .colab-df-convert:hover {\n",
              "      background-color: #434B5C;\n",
              "      box-shadow: 0px 1px 3px 1px rgba(0, 0, 0, 0.15);\n",
              "      filter: drop-shadow(0px 1px 2px rgba(0, 0, 0, 0.3));\n",
              "      fill: #FFFFFF;\n",
              "    }\n",
              "  </style>\n",
              "\n",
              "      <script>\n",
              "        const buttonEl =\n",
              "          document.querySelector('#df-20d25da7-1f8a-4405-9063-71d3a931fd4f button.colab-df-convert');\n",
              "        buttonEl.style.display =\n",
              "          google.colab.kernel.accessAllowed ? 'block' : 'none';\n",
              "\n",
              "        async function convertToInteractive(key) {\n",
              "          const element = document.querySelector('#df-20d25da7-1f8a-4405-9063-71d3a931fd4f');\n",
              "          const dataTable =\n",
              "            await google.colab.kernel.invokeFunction('convertToInteractive',\n",
              "                                                     [key], {});\n",
              "          if (!dataTable) return;\n",
              "\n",
              "          const docLinkHtml = 'Like what you see? Visit the ' +\n",
              "            '<a target=\"_blank\" href=https://colab.research.google.com/notebooks/data_table.ipynb>data table notebook</a>'\n",
              "            + ' to learn more about interactive tables.';\n",
              "          element.innerHTML = '';\n",
              "          dataTable['output_type'] = 'display_data';\n",
              "          await google.colab.output.renderOutput(dataTable, element);\n",
              "          const docLink = document.createElement('div');\n",
              "          docLink.innerHTML = docLinkHtml;\n",
              "          element.appendChild(docLink);\n",
              "        }\n",
              "      </script>\n",
              "    </div>\n",
              "  </div>\n",
              "  "
            ]
          },
          "metadata": {},
          "execution_count": 107
        }
      ]
    },
    {
      "cell_type": "code",
      "source": [
        "df03.loc[\"Mean\"]=0     \n",
        "df03       "
      ],
      "metadata": {
        "id": "UaHZ-RKSGtLi",
        "colab": {
          "base_uri": "https://localhost:8080/",
          "height": 394
        },
        "outputId": "5146fce6-d01c-418d-c5e6-e3e460db5f5c"
      },
      "execution_count": null,
      "outputs": [
        {
          "output_type": "execute_result",
          "data": {
            "text/plain": [
              "             Mass  Diameter  Density  Gravity\n",
              "MERCURY     0.330      4879     5429    0.378\n",
              "VENUS       4.870     12104     5243    0.907\n",
              "EARTH       5.970     12756     5514    1.000\n",
              "MOON        0.073      3475     3340    0.166\n",
              "MARS        0.642      6792     3934    0.377\n",
              "JUPITER  1898.000    142984     1326    2.360\n",
              "SATURN    568.000    120536      687    0.916\n",
              "URANUS     86.800     51118     1270    0.889\n",
              "NEPTUNE   102.000     49528     1638    1.120\n",
              "PLUTO       0.013      2376     1850    0.071\n",
              "Mean        0.000         0        0    0.000"
            ],
            "text/html": [
              "\n",
              "  <div id=\"df-f4fc5a6a-b50b-4a33-8e0b-b158e3720123\">\n",
              "    <div class=\"colab-df-container\">\n",
              "      <div>\n",
              "<style scoped>\n",
              "    .dataframe tbody tr th:only-of-type {\n",
              "        vertical-align: middle;\n",
              "    }\n",
              "\n",
              "    .dataframe tbody tr th {\n",
              "        vertical-align: top;\n",
              "    }\n",
              "\n",
              "    .dataframe thead th {\n",
              "        text-align: right;\n",
              "    }\n",
              "</style>\n",
              "<table border=\"1\" class=\"dataframe\">\n",
              "  <thead>\n",
              "    <tr style=\"text-align: right;\">\n",
              "      <th></th>\n",
              "      <th>Mass</th>\n",
              "      <th>Diameter</th>\n",
              "      <th>Density</th>\n",
              "      <th>Gravity</th>\n",
              "    </tr>\n",
              "  </thead>\n",
              "  <tbody>\n",
              "    <tr>\n",
              "      <th>MERCURY</th>\n",
              "      <td>0.330</td>\n",
              "      <td>4879</td>\n",
              "      <td>5429</td>\n",
              "      <td>0.378</td>\n",
              "    </tr>\n",
              "    <tr>\n",
              "      <th>VENUS</th>\n",
              "      <td>4.870</td>\n",
              "      <td>12104</td>\n",
              "      <td>5243</td>\n",
              "      <td>0.907</td>\n",
              "    </tr>\n",
              "    <tr>\n",
              "      <th>EARTH</th>\n",
              "      <td>5.970</td>\n",
              "      <td>12756</td>\n",
              "      <td>5514</td>\n",
              "      <td>1.000</td>\n",
              "    </tr>\n",
              "    <tr>\n",
              "      <th>MOON</th>\n",
              "      <td>0.073</td>\n",
              "      <td>3475</td>\n",
              "      <td>3340</td>\n",
              "      <td>0.166</td>\n",
              "    </tr>\n",
              "    <tr>\n",
              "      <th>MARS</th>\n",
              "      <td>0.642</td>\n",
              "      <td>6792</td>\n",
              "      <td>3934</td>\n",
              "      <td>0.377</td>\n",
              "    </tr>\n",
              "    <tr>\n",
              "      <th>JUPITER</th>\n",
              "      <td>1898.000</td>\n",
              "      <td>142984</td>\n",
              "      <td>1326</td>\n",
              "      <td>2.360</td>\n",
              "    </tr>\n",
              "    <tr>\n",
              "      <th>SATURN</th>\n",
              "      <td>568.000</td>\n",
              "      <td>120536</td>\n",
              "      <td>687</td>\n",
              "      <td>0.916</td>\n",
              "    </tr>\n",
              "    <tr>\n",
              "      <th>URANUS</th>\n",
              "      <td>86.800</td>\n",
              "      <td>51118</td>\n",
              "      <td>1270</td>\n",
              "      <td>0.889</td>\n",
              "    </tr>\n",
              "    <tr>\n",
              "      <th>NEPTUNE</th>\n",
              "      <td>102.000</td>\n",
              "      <td>49528</td>\n",
              "      <td>1638</td>\n",
              "      <td>1.120</td>\n",
              "    </tr>\n",
              "    <tr>\n",
              "      <th>PLUTO</th>\n",
              "      <td>0.013</td>\n",
              "      <td>2376</td>\n",
              "      <td>1850</td>\n",
              "      <td>0.071</td>\n",
              "    </tr>\n",
              "    <tr>\n",
              "      <th>Mean</th>\n",
              "      <td>0.000</td>\n",
              "      <td>0</td>\n",
              "      <td>0</td>\n",
              "      <td>0.000</td>\n",
              "    </tr>\n",
              "  </tbody>\n",
              "</table>\n",
              "</div>\n",
              "      <button class=\"colab-df-convert\" onclick=\"convertToInteractive('df-f4fc5a6a-b50b-4a33-8e0b-b158e3720123')\"\n",
              "              title=\"Convert this dataframe to an interactive table.\"\n",
              "              style=\"display:none;\">\n",
              "        \n",
              "  <svg xmlns=\"http://www.w3.org/2000/svg\" height=\"24px\"viewBox=\"0 0 24 24\"\n",
              "       width=\"24px\">\n",
              "    <path d=\"M0 0h24v24H0V0z\" fill=\"none\"/>\n",
              "    <path d=\"M18.56 5.44l.94 2.06.94-2.06 2.06-.94-2.06-.94-.94-2.06-.94 2.06-2.06.94zm-11 1L8.5 8.5l.94-2.06 2.06-.94-2.06-.94L8.5 2.5l-.94 2.06-2.06.94zm10 10l.94 2.06.94-2.06 2.06-.94-2.06-.94-.94-2.06-.94 2.06-2.06.94z\"/><path d=\"M17.41 7.96l-1.37-1.37c-.4-.4-.92-.59-1.43-.59-.52 0-1.04.2-1.43.59L10.3 9.45l-7.72 7.72c-.78.78-.78 2.05 0 2.83L4 21.41c.39.39.9.59 1.41.59.51 0 1.02-.2 1.41-.59l7.78-7.78 2.81-2.81c.8-.78.8-2.07 0-2.86zM5.41 20L4 18.59l7.72-7.72 1.47 1.35L5.41 20z\"/>\n",
              "  </svg>\n",
              "      </button>\n",
              "      \n",
              "  <style>\n",
              "    .colab-df-container {\n",
              "      display:flex;\n",
              "      flex-wrap:wrap;\n",
              "      gap: 12px;\n",
              "    }\n",
              "\n",
              "    .colab-df-convert {\n",
              "      background-color: #E8F0FE;\n",
              "      border: none;\n",
              "      border-radius: 50%;\n",
              "      cursor: pointer;\n",
              "      display: none;\n",
              "      fill: #1967D2;\n",
              "      height: 32px;\n",
              "      padding: 0 0 0 0;\n",
              "      width: 32px;\n",
              "    }\n",
              "\n",
              "    .colab-df-convert:hover {\n",
              "      background-color: #E2EBFA;\n",
              "      box-shadow: 0px 1px 2px rgba(60, 64, 67, 0.3), 0px 1px 3px 1px rgba(60, 64, 67, 0.15);\n",
              "      fill: #174EA6;\n",
              "    }\n",
              "\n",
              "    [theme=dark] .colab-df-convert {\n",
              "      background-color: #3B4455;\n",
              "      fill: #D2E3FC;\n",
              "    }\n",
              "\n",
              "    [theme=dark] .colab-df-convert:hover {\n",
              "      background-color: #434B5C;\n",
              "      box-shadow: 0px 1px 3px 1px rgba(0, 0, 0, 0.15);\n",
              "      filter: drop-shadow(0px 1px 2px rgba(0, 0, 0, 0.3));\n",
              "      fill: #FFFFFF;\n",
              "    }\n",
              "  </style>\n",
              "\n",
              "      <script>\n",
              "        const buttonEl =\n",
              "          document.querySelector('#df-f4fc5a6a-b50b-4a33-8e0b-b158e3720123 button.colab-df-convert');\n",
              "        buttonEl.style.display =\n",
              "          google.colab.kernel.accessAllowed ? 'block' : 'none';\n",
              "\n",
              "        async function convertToInteractive(key) {\n",
              "          const element = document.querySelector('#df-f4fc5a6a-b50b-4a33-8e0b-b158e3720123');\n",
              "          const dataTable =\n",
              "            await google.colab.kernel.invokeFunction('convertToInteractive',\n",
              "                                                     [key], {});\n",
              "          if (!dataTable) return;\n",
              "\n",
              "          const docLinkHtml = 'Like what you see? Visit the ' +\n",
              "            '<a target=\"_blank\" href=https://colab.research.google.com/notebooks/data_table.ipynb>data table notebook</a>'\n",
              "            + ' to learn more about interactive tables.';\n",
              "          element.innerHTML = '';\n",
              "          dataTable['output_type'] = 'display_data';\n",
              "          await google.colab.output.renderOutput(dataTable, element);\n",
              "          const docLink = document.createElement('div');\n",
              "          docLink.innerHTML = docLinkHtml;\n",
              "          element.appendChild(docLink);\n",
              "        }\n",
              "      </script>\n",
              "    </div>\n",
              "  </div>\n",
              "  "
            ]
          },
          "metadata": {},
          "execution_count": 108
        }
      ]
    },
    {
      "cell_type": "code",
      "source": [
        "df03.drop(\"Mean\",inplace=True)    \n",
        "#Here \"Inplace=True\" Means Update In Main DataFrame \n",
        "df03"
      ],
      "metadata": {
        "id": "6X_SeeQOHnVf",
        "colab": {
          "base_uri": "https://localhost:8080/",
          "height": 363
        },
        "outputId": "f74a6362-14a7-4186-867c-23ee3be24392"
      },
      "execution_count": null,
      "outputs": [
        {
          "output_type": "execute_result",
          "data": {
            "text/plain": [
              "             Mass  Diameter  Density  Gravity\n",
              "MERCURY     0.330      4879     5429    0.378\n",
              "VENUS       4.870     12104     5243    0.907\n",
              "EARTH       5.970     12756     5514    1.000\n",
              "MOON        0.073      3475     3340    0.166\n",
              "MARS        0.642      6792     3934    0.377\n",
              "JUPITER  1898.000    142984     1326    2.360\n",
              "SATURN    568.000    120536      687    0.916\n",
              "URANUS     86.800     51118     1270    0.889\n",
              "NEPTUNE   102.000     49528     1638    1.120\n",
              "PLUTO       0.013      2376     1850    0.071"
            ],
            "text/html": [
              "\n",
              "  <div id=\"df-27fd3875-9e81-4abd-8913-28a452584dfe\">\n",
              "    <div class=\"colab-df-container\">\n",
              "      <div>\n",
              "<style scoped>\n",
              "    .dataframe tbody tr th:only-of-type {\n",
              "        vertical-align: middle;\n",
              "    }\n",
              "\n",
              "    .dataframe tbody tr th {\n",
              "        vertical-align: top;\n",
              "    }\n",
              "\n",
              "    .dataframe thead th {\n",
              "        text-align: right;\n",
              "    }\n",
              "</style>\n",
              "<table border=\"1\" class=\"dataframe\">\n",
              "  <thead>\n",
              "    <tr style=\"text-align: right;\">\n",
              "      <th></th>\n",
              "      <th>Mass</th>\n",
              "      <th>Diameter</th>\n",
              "      <th>Density</th>\n",
              "      <th>Gravity</th>\n",
              "    </tr>\n",
              "  </thead>\n",
              "  <tbody>\n",
              "    <tr>\n",
              "      <th>MERCURY</th>\n",
              "      <td>0.330</td>\n",
              "      <td>4879</td>\n",
              "      <td>5429</td>\n",
              "      <td>0.378</td>\n",
              "    </tr>\n",
              "    <tr>\n",
              "      <th>VENUS</th>\n",
              "      <td>4.870</td>\n",
              "      <td>12104</td>\n",
              "      <td>5243</td>\n",
              "      <td>0.907</td>\n",
              "    </tr>\n",
              "    <tr>\n",
              "      <th>EARTH</th>\n",
              "      <td>5.970</td>\n",
              "      <td>12756</td>\n",
              "      <td>5514</td>\n",
              "      <td>1.000</td>\n",
              "    </tr>\n",
              "    <tr>\n",
              "      <th>MOON</th>\n",
              "      <td>0.073</td>\n",
              "      <td>3475</td>\n",
              "      <td>3340</td>\n",
              "      <td>0.166</td>\n",
              "    </tr>\n",
              "    <tr>\n",
              "      <th>MARS</th>\n",
              "      <td>0.642</td>\n",
              "      <td>6792</td>\n",
              "      <td>3934</td>\n",
              "      <td>0.377</td>\n",
              "    </tr>\n",
              "    <tr>\n",
              "      <th>JUPITER</th>\n",
              "      <td>1898.000</td>\n",
              "      <td>142984</td>\n",
              "      <td>1326</td>\n",
              "      <td>2.360</td>\n",
              "    </tr>\n",
              "    <tr>\n",
              "      <th>SATURN</th>\n",
              "      <td>568.000</td>\n",
              "      <td>120536</td>\n",
              "      <td>687</td>\n",
              "      <td>0.916</td>\n",
              "    </tr>\n",
              "    <tr>\n",
              "      <th>URANUS</th>\n",
              "      <td>86.800</td>\n",
              "      <td>51118</td>\n",
              "      <td>1270</td>\n",
              "      <td>0.889</td>\n",
              "    </tr>\n",
              "    <tr>\n",
              "      <th>NEPTUNE</th>\n",
              "      <td>102.000</td>\n",
              "      <td>49528</td>\n",
              "      <td>1638</td>\n",
              "      <td>1.120</td>\n",
              "    </tr>\n",
              "    <tr>\n",
              "      <th>PLUTO</th>\n",
              "      <td>0.013</td>\n",
              "      <td>2376</td>\n",
              "      <td>1850</td>\n",
              "      <td>0.071</td>\n",
              "    </tr>\n",
              "  </tbody>\n",
              "</table>\n",
              "</div>\n",
              "      <button class=\"colab-df-convert\" onclick=\"convertToInteractive('df-27fd3875-9e81-4abd-8913-28a452584dfe')\"\n",
              "              title=\"Convert this dataframe to an interactive table.\"\n",
              "              style=\"display:none;\">\n",
              "        \n",
              "  <svg xmlns=\"http://www.w3.org/2000/svg\" height=\"24px\"viewBox=\"0 0 24 24\"\n",
              "       width=\"24px\">\n",
              "    <path d=\"M0 0h24v24H0V0z\" fill=\"none\"/>\n",
              "    <path d=\"M18.56 5.44l.94 2.06.94-2.06 2.06-.94-2.06-.94-.94-2.06-.94 2.06-2.06.94zm-11 1L8.5 8.5l.94-2.06 2.06-.94-2.06-.94L8.5 2.5l-.94 2.06-2.06.94zm10 10l.94 2.06.94-2.06 2.06-.94-2.06-.94-.94-2.06-.94 2.06-2.06.94z\"/><path d=\"M17.41 7.96l-1.37-1.37c-.4-.4-.92-.59-1.43-.59-.52 0-1.04.2-1.43.59L10.3 9.45l-7.72 7.72c-.78.78-.78 2.05 0 2.83L4 21.41c.39.39.9.59 1.41.59.51 0 1.02-.2 1.41-.59l7.78-7.78 2.81-2.81c.8-.78.8-2.07 0-2.86zM5.41 20L4 18.59l7.72-7.72 1.47 1.35L5.41 20z\"/>\n",
              "  </svg>\n",
              "      </button>\n",
              "      \n",
              "  <style>\n",
              "    .colab-df-container {\n",
              "      display:flex;\n",
              "      flex-wrap:wrap;\n",
              "      gap: 12px;\n",
              "    }\n",
              "\n",
              "    .colab-df-convert {\n",
              "      background-color: #E8F0FE;\n",
              "      border: none;\n",
              "      border-radius: 50%;\n",
              "      cursor: pointer;\n",
              "      display: none;\n",
              "      fill: #1967D2;\n",
              "      height: 32px;\n",
              "      padding: 0 0 0 0;\n",
              "      width: 32px;\n",
              "    }\n",
              "\n",
              "    .colab-df-convert:hover {\n",
              "      background-color: #E2EBFA;\n",
              "      box-shadow: 0px 1px 2px rgba(60, 64, 67, 0.3), 0px 1px 3px 1px rgba(60, 64, 67, 0.15);\n",
              "      fill: #174EA6;\n",
              "    }\n",
              "\n",
              "    [theme=dark] .colab-df-convert {\n",
              "      background-color: #3B4455;\n",
              "      fill: #D2E3FC;\n",
              "    }\n",
              "\n",
              "    [theme=dark] .colab-df-convert:hover {\n",
              "      background-color: #434B5C;\n",
              "      box-shadow: 0px 1px 3px 1px rgba(0, 0, 0, 0.15);\n",
              "      filter: drop-shadow(0px 1px 2px rgba(0, 0, 0, 0.3));\n",
              "      fill: #FFFFFF;\n",
              "    }\n",
              "  </style>\n",
              "\n",
              "      <script>\n",
              "        const buttonEl =\n",
              "          document.querySelector('#df-27fd3875-9e81-4abd-8913-28a452584dfe button.colab-df-convert');\n",
              "        buttonEl.style.display =\n",
              "          google.colab.kernel.accessAllowed ? 'block' : 'none';\n",
              "\n",
              "        async function convertToInteractive(key) {\n",
              "          const element = document.querySelector('#df-27fd3875-9e81-4abd-8913-28a452584dfe');\n",
              "          const dataTable =\n",
              "            await google.colab.kernel.invokeFunction('convertToInteractive',\n",
              "                                                     [key], {});\n",
              "          if (!dataTable) return;\n",
              "\n",
              "          const docLinkHtml = 'Like what you see? Visit the ' +\n",
              "            '<a target=\"_blank\" href=https://colab.research.google.com/notebooks/data_table.ipynb>data table notebook</a>'\n",
              "            + ' to learn more about interactive tables.';\n",
              "          element.innerHTML = '';\n",
              "          dataTable['output_type'] = 'display_data';\n",
              "          await google.colab.output.renderOutput(dataTable, element);\n",
              "          const docLink = document.createElement('div');\n",
              "          docLink.innerHTML = docLinkHtml;\n",
              "          element.appendChild(docLink);\n",
              "        }\n",
              "      </script>\n",
              "    </div>\n",
              "  </div>\n",
              "  "
            ]
          },
          "metadata": {},
          "execution_count": 109
        }
      ]
    },
    {
      "cell_type": "code",
      "source": [
        "df03['Diameter'][\"Moon\"]=0   "
      ],
      "metadata": {
        "id": "-9MnllnIETIx",
        "colab": {
          "base_uri": "https://localhost:8080/"
        },
        "outputId": "b238796d-d5e6-4c24-e6a4-bcb4d6c6fbb4"
      },
      "execution_count": null,
      "outputs": [
        {
          "output_type": "stream",
          "name": "stderr",
          "text": [
            "/usr/local/lib/python3.7/dist-packages/ipykernel_launcher.py:1: SettingWithCopyWarning: \n",
            "A value is trying to be set on a copy of a slice from a DataFrame\n",
            "\n",
            "See the caveats in the documentation: https://pandas.pydata.org/pandas-docs/stable/user_guide/indexing.html#returning-a-view-versus-a-copy\n",
            "  \"\"\"Entry point for launching an IPython kernel.\n"
          ]
        }
      ]
    },
    {
      "cell_type": "code",
      "source": [
        "df03"
      ],
      "metadata": {
        "id": "wfBWejVsFHSY",
        "colab": {
          "base_uri": "https://localhost:8080/",
          "height": 363
        },
        "outputId": "6a25365c-45ea-4b67-81c1-a71827560b4c"
      },
      "execution_count": null,
      "outputs": [
        {
          "output_type": "execute_result",
          "data": {
            "text/plain": [
              "             Mass  Diameter  Density  Gravity\n",
              "MERCURY     0.330      4879     5429    0.378\n",
              "VENUS       4.870     12104     5243    0.907\n",
              "EARTH       5.970     12756     5514    1.000\n",
              "MOON        0.073      3475     3340    0.166\n",
              "MARS        0.642      6792     3934    0.377\n",
              "JUPITER  1898.000    142984     1326    2.360\n",
              "SATURN    568.000    120536      687    0.916\n",
              "URANUS     86.800     51118     1270    0.889\n",
              "NEPTUNE   102.000     49528     1638    1.120\n",
              "PLUTO       0.013      2376     1850    0.071"
            ],
            "text/html": [
              "\n",
              "  <div id=\"df-e9fabe3f-03f6-45f5-b57e-51e4bbba43f8\">\n",
              "    <div class=\"colab-df-container\">\n",
              "      <div>\n",
              "<style scoped>\n",
              "    .dataframe tbody tr th:only-of-type {\n",
              "        vertical-align: middle;\n",
              "    }\n",
              "\n",
              "    .dataframe tbody tr th {\n",
              "        vertical-align: top;\n",
              "    }\n",
              "\n",
              "    .dataframe thead th {\n",
              "        text-align: right;\n",
              "    }\n",
              "</style>\n",
              "<table border=\"1\" class=\"dataframe\">\n",
              "  <thead>\n",
              "    <tr style=\"text-align: right;\">\n",
              "      <th></th>\n",
              "      <th>Mass</th>\n",
              "      <th>Diameter</th>\n",
              "      <th>Density</th>\n",
              "      <th>Gravity</th>\n",
              "    </tr>\n",
              "  </thead>\n",
              "  <tbody>\n",
              "    <tr>\n",
              "      <th>MERCURY</th>\n",
              "      <td>0.330</td>\n",
              "      <td>4879</td>\n",
              "      <td>5429</td>\n",
              "      <td>0.378</td>\n",
              "    </tr>\n",
              "    <tr>\n",
              "      <th>VENUS</th>\n",
              "      <td>4.870</td>\n",
              "      <td>12104</td>\n",
              "      <td>5243</td>\n",
              "      <td>0.907</td>\n",
              "    </tr>\n",
              "    <tr>\n",
              "      <th>EARTH</th>\n",
              "      <td>5.970</td>\n",
              "      <td>12756</td>\n",
              "      <td>5514</td>\n",
              "      <td>1.000</td>\n",
              "    </tr>\n",
              "    <tr>\n",
              "      <th>MOON</th>\n",
              "      <td>0.073</td>\n",
              "      <td>3475</td>\n",
              "      <td>3340</td>\n",
              "      <td>0.166</td>\n",
              "    </tr>\n",
              "    <tr>\n",
              "      <th>MARS</th>\n",
              "      <td>0.642</td>\n",
              "      <td>6792</td>\n",
              "      <td>3934</td>\n",
              "      <td>0.377</td>\n",
              "    </tr>\n",
              "    <tr>\n",
              "      <th>JUPITER</th>\n",
              "      <td>1898.000</td>\n",
              "      <td>142984</td>\n",
              "      <td>1326</td>\n",
              "      <td>2.360</td>\n",
              "    </tr>\n",
              "    <tr>\n",
              "      <th>SATURN</th>\n",
              "      <td>568.000</td>\n",
              "      <td>120536</td>\n",
              "      <td>687</td>\n",
              "      <td>0.916</td>\n",
              "    </tr>\n",
              "    <tr>\n",
              "      <th>URANUS</th>\n",
              "      <td>86.800</td>\n",
              "      <td>51118</td>\n",
              "      <td>1270</td>\n",
              "      <td>0.889</td>\n",
              "    </tr>\n",
              "    <tr>\n",
              "      <th>NEPTUNE</th>\n",
              "      <td>102.000</td>\n",
              "      <td>49528</td>\n",
              "      <td>1638</td>\n",
              "      <td>1.120</td>\n",
              "    </tr>\n",
              "    <tr>\n",
              "      <th>PLUTO</th>\n",
              "      <td>0.013</td>\n",
              "      <td>2376</td>\n",
              "      <td>1850</td>\n",
              "      <td>0.071</td>\n",
              "    </tr>\n",
              "  </tbody>\n",
              "</table>\n",
              "</div>\n",
              "      <button class=\"colab-df-convert\" onclick=\"convertToInteractive('df-e9fabe3f-03f6-45f5-b57e-51e4bbba43f8')\"\n",
              "              title=\"Convert this dataframe to an interactive table.\"\n",
              "              style=\"display:none;\">\n",
              "        \n",
              "  <svg xmlns=\"http://www.w3.org/2000/svg\" height=\"24px\"viewBox=\"0 0 24 24\"\n",
              "       width=\"24px\">\n",
              "    <path d=\"M0 0h24v24H0V0z\" fill=\"none\"/>\n",
              "    <path d=\"M18.56 5.44l.94 2.06.94-2.06 2.06-.94-2.06-.94-.94-2.06-.94 2.06-2.06.94zm-11 1L8.5 8.5l.94-2.06 2.06-.94-2.06-.94L8.5 2.5l-.94 2.06-2.06.94zm10 10l.94 2.06.94-2.06 2.06-.94-2.06-.94-.94-2.06-.94 2.06-2.06.94z\"/><path d=\"M17.41 7.96l-1.37-1.37c-.4-.4-.92-.59-1.43-.59-.52 0-1.04.2-1.43.59L10.3 9.45l-7.72 7.72c-.78.78-.78 2.05 0 2.83L4 21.41c.39.39.9.59 1.41.59.51 0 1.02-.2 1.41-.59l7.78-7.78 2.81-2.81c.8-.78.8-2.07 0-2.86zM5.41 20L4 18.59l7.72-7.72 1.47 1.35L5.41 20z\"/>\n",
              "  </svg>\n",
              "      </button>\n",
              "      \n",
              "  <style>\n",
              "    .colab-df-container {\n",
              "      display:flex;\n",
              "      flex-wrap:wrap;\n",
              "      gap: 12px;\n",
              "    }\n",
              "\n",
              "    .colab-df-convert {\n",
              "      background-color: #E8F0FE;\n",
              "      border: none;\n",
              "      border-radius: 50%;\n",
              "      cursor: pointer;\n",
              "      display: none;\n",
              "      fill: #1967D2;\n",
              "      height: 32px;\n",
              "      padding: 0 0 0 0;\n",
              "      width: 32px;\n",
              "    }\n",
              "\n",
              "    .colab-df-convert:hover {\n",
              "      background-color: #E2EBFA;\n",
              "      box-shadow: 0px 1px 2px rgba(60, 64, 67, 0.3), 0px 1px 3px 1px rgba(60, 64, 67, 0.15);\n",
              "      fill: #174EA6;\n",
              "    }\n",
              "\n",
              "    [theme=dark] .colab-df-convert {\n",
              "      background-color: #3B4455;\n",
              "      fill: #D2E3FC;\n",
              "    }\n",
              "\n",
              "    [theme=dark] .colab-df-convert:hover {\n",
              "      background-color: #434B5C;\n",
              "      box-shadow: 0px 1px 3px 1px rgba(0, 0, 0, 0.15);\n",
              "      filter: drop-shadow(0px 1px 2px rgba(0, 0, 0, 0.3));\n",
              "      fill: #FFFFFF;\n",
              "    }\n",
              "  </style>\n",
              "\n",
              "      <script>\n",
              "        const buttonEl =\n",
              "          document.querySelector('#df-e9fabe3f-03f6-45f5-b57e-51e4bbba43f8 button.colab-df-convert');\n",
              "        buttonEl.style.display =\n",
              "          google.colab.kernel.accessAllowed ? 'block' : 'none';\n",
              "\n",
              "        async function convertToInteractive(key) {\n",
              "          const element = document.querySelector('#df-e9fabe3f-03f6-45f5-b57e-51e4bbba43f8');\n",
              "          const dataTable =\n",
              "            await google.colab.kernel.invokeFunction('convertToInteractive',\n",
              "                                                     [key], {});\n",
              "          if (!dataTable) return;\n",
              "\n",
              "          const docLinkHtml = 'Like what you see? Visit the ' +\n",
              "            '<a target=\"_blank\" href=https://colab.research.google.com/notebooks/data_table.ipynb>data table notebook</a>'\n",
              "            + ' to learn more about interactive tables.';\n",
              "          element.innerHTML = '';\n",
              "          dataTable['output_type'] = 'display_data';\n",
              "          await google.colab.output.renderOutput(dataTable, element);\n",
              "          const docLink = document.createElement('div');\n",
              "          docLink.innerHTML = docLinkHtml;\n",
              "          element.appendChild(docLink);\n",
              "        }\n",
              "      </script>\n",
              "    </div>\n",
              "  </div>\n",
              "  "
            ]
          },
          "metadata": {},
          "execution_count": 111
        }
      ]
    },
    {
      "cell_type": "code",
      "source": [
        "#here I Calculated The Mean & medaian In Iterative Method\n",
        "#Here I Calculated  The Mean Of Column\n",
        "df03.loc[\"Mean of Column\"]=[np.mean(df03[\"Mass\"]),np.mean(df03[\"Diameter\"]),np.mean(df03[\"Density\"]),np.mean(df03[\"Gravity\"])]\n",
        "#Here I calculated The Median Of Column\n",
        "df03.loc[\"Median of Colunm\"]=[np.median(df03[\"Mass\"]),np.median(df03[\"Diameter\"]),np.median(df03[\"Density\"]),np.median(df03[\"Gravity\"])]"
      ],
      "metadata": {
        "id": "SfL8TJsZFJOU"
      },
      "execution_count": null,
      "outputs": []
    },
    {
      "cell_type": "code",
      "source": [
        "df03"
      ],
      "metadata": {
        "id": "EMLolgHgH3Zl",
        "colab": {
          "base_uri": "https://localhost:8080/",
          "height": 426
        },
        "outputId": "fbf48cfa-9adb-4fc6-e7d2-1967e00a4cfd"
      },
      "execution_count": null,
      "outputs": [
        {
          "output_type": "execute_result",
          "data": {
            "text/plain": [
              "                       Mass  Diameter  Density  Gravity\n",
              "MERCURY              0.3300    4879.0   5429.0   0.3780\n",
              "VENUS                4.8700   12104.0   5243.0   0.9070\n",
              "EARTH                5.9700   12756.0   5514.0   1.0000\n",
              "MOON                 0.0730    3475.0   3340.0   0.1660\n",
              "MARS                 0.6420    6792.0   3934.0   0.3770\n",
              "JUPITER           1898.0000  142984.0   1326.0   2.3600\n",
              "SATURN             568.0000  120536.0    687.0   0.9160\n",
              "URANUS              86.8000   51118.0   1270.0   0.8890\n",
              "NEPTUNE            102.0000   49528.0   1638.0   1.1200\n",
              "PLUTO                0.0130    2376.0   1850.0   0.0710\n",
              "Mean of Column     266.6698   40654.8   3023.1   0.8184\n",
              "Median of Colunm     5.9700   12756.0   3023.1   0.8890"
            ],
            "text/html": [
              "\n",
              "  <div id=\"df-2f095c47-08ed-4aac-809d-998203a6c5e7\">\n",
              "    <div class=\"colab-df-container\">\n",
              "      <div>\n",
              "<style scoped>\n",
              "    .dataframe tbody tr th:only-of-type {\n",
              "        vertical-align: middle;\n",
              "    }\n",
              "\n",
              "    .dataframe tbody tr th {\n",
              "        vertical-align: top;\n",
              "    }\n",
              "\n",
              "    .dataframe thead th {\n",
              "        text-align: right;\n",
              "    }\n",
              "</style>\n",
              "<table border=\"1\" class=\"dataframe\">\n",
              "  <thead>\n",
              "    <tr style=\"text-align: right;\">\n",
              "      <th></th>\n",
              "      <th>Mass</th>\n",
              "      <th>Diameter</th>\n",
              "      <th>Density</th>\n",
              "      <th>Gravity</th>\n",
              "    </tr>\n",
              "  </thead>\n",
              "  <tbody>\n",
              "    <tr>\n",
              "      <th>MERCURY</th>\n",
              "      <td>0.3300</td>\n",
              "      <td>4879.0</td>\n",
              "      <td>5429.0</td>\n",
              "      <td>0.3780</td>\n",
              "    </tr>\n",
              "    <tr>\n",
              "      <th>VENUS</th>\n",
              "      <td>4.8700</td>\n",
              "      <td>12104.0</td>\n",
              "      <td>5243.0</td>\n",
              "      <td>0.9070</td>\n",
              "    </tr>\n",
              "    <tr>\n",
              "      <th>EARTH</th>\n",
              "      <td>5.9700</td>\n",
              "      <td>12756.0</td>\n",
              "      <td>5514.0</td>\n",
              "      <td>1.0000</td>\n",
              "    </tr>\n",
              "    <tr>\n",
              "      <th>MOON</th>\n",
              "      <td>0.0730</td>\n",
              "      <td>3475.0</td>\n",
              "      <td>3340.0</td>\n",
              "      <td>0.1660</td>\n",
              "    </tr>\n",
              "    <tr>\n",
              "      <th>MARS</th>\n",
              "      <td>0.6420</td>\n",
              "      <td>6792.0</td>\n",
              "      <td>3934.0</td>\n",
              "      <td>0.3770</td>\n",
              "    </tr>\n",
              "    <tr>\n",
              "      <th>JUPITER</th>\n",
              "      <td>1898.0000</td>\n",
              "      <td>142984.0</td>\n",
              "      <td>1326.0</td>\n",
              "      <td>2.3600</td>\n",
              "    </tr>\n",
              "    <tr>\n",
              "      <th>SATURN</th>\n",
              "      <td>568.0000</td>\n",
              "      <td>120536.0</td>\n",
              "      <td>687.0</td>\n",
              "      <td>0.9160</td>\n",
              "    </tr>\n",
              "    <tr>\n",
              "      <th>URANUS</th>\n",
              "      <td>86.8000</td>\n",
              "      <td>51118.0</td>\n",
              "      <td>1270.0</td>\n",
              "      <td>0.8890</td>\n",
              "    </tr>\n",
              "    <tr>\n",
              "      <th>NEPTUNE</th>\n",
              "      <td>102.0000</td>\n",
              "      <td>49528.0</td>\n",
              "      <td>1638.0</td>\n",
              "      <td>1.1200</td>\n",
              "    </tr>\n",
              "    <tr>\n",
              "      <th>PLUTO</th>\n",
              "      <td>0.0130</td>\n",
              "      <td>2376.0</td>\n",
              "      <td>1850.0</td>\n",
              "      <td>0.0710</td>\n",
              "    </tr>\n",
              "    <tr>\n",
              "      <th>Mean of Column</th>\n",
              "      <td>266.6698</td>\n",
              "      <td>40654.8</td>\n",
              "      <td>3023.1</td>\n",
              "      <td>0.8184</td>\n",
              "    </tr>\n",
              "    <tr>\n",
              "      <th>Median of Colunm</th>\n",
              "      <td>5.9700</td>\n",
              "      <td>12756.0</td>\n",
              "      <td>3023.1</td>\n",
              "      <td>0.8890</td>\n",
              "    </tr>\n",
              "  </tbody>\n",
              "</table>\n",
              "</div>\n",
              "      <button class=\"colab-df-convert\" onclick=\"convertToInteractive('df-2f095c47-08ed-4aac-809d-998203a6c5e7')\"\n",
              "              title=\"Convert this dataframe to an interactive table.\"\n",
              "              style=\"display:none;\">\n",
              "        \n",
              "  <svg xmlns=\"http://www.w3.org/2000/svg\" height=\"24px\"viewBox=\"0 0 24 24\"\n",
              "       width=\"24px\">\n",
              "    <path d=\"M0 0h24v24H0V0z\" fill=\"none\"/>\n",
              "    <path d=\"M18.56 5.44l.94 2.06.94-2.06 2.06-.94-2.06-.94-.94-2.06-.94 2.06-2.06.94zm-11 1L8.5 8.5l.94-2.06 2.06-.94-2.06-.94L8.5 2.5l-.94 2.06-2.06.94zm10 10l.94 2.06.94-2.06 2.06-.94-2.06-.94-.94-2.06-.94 2.06-2.06.94z\"/><path d=\"M17.41 7.96l-1.37-1.37c-.4-.4-.92-.59-1.43-.59-.52 0-1.04.2-1.43.59L10.3 9.45l-7.72 7.72c-.78.78-.78 2.05 0 2.83L4 21.41c.39.39.9.59 1.41.59.51 0 1.02-.2 1.41-.59l7.78-7.78 2.81-2.81c.8-.78.8-2.07 0-2.86zM5.41 20L4 18.59l7.72-7.72 1.47 1.35L5.41 20z\"/>\n",
              "  </svg>\n",
              "      </button>\n",
              "      \n",
              "  <style>\n",
              "    .colab-df-container {\n",
              "      display:flex;\n",
              "      flex-wrap:wrap;\n",
              "      gap: 12px;\n",
              "    }\n",
              "\n",
              "    .colab-df-convert {\n",
              "      background-color: #E8F0FE;\n",
              "      border: none;\n",
              "      border-radius: 50%;\n",
              "      cursor: pointer;\n",
              "      display: none;\n",
              "      fill: #1967D2;\n",
              "      height: 32px;\n",
              "      padding: 0 0 0 0;\n",
              "      width: 32px;\n",
              "    }\n",
              "\n",
              "    .colab-df-convert:hover {\n",
              "      background-color: #E2EBFA;\n",
              "      box-shadow: 0px 1px 2px rgba(60, 64, 67, 0.3), 0px 1px 3px 1px rgba(60, 64, 67, 0.15);\n",
              "      fill: #174EA6;\n",
              "    }\n",
              "\n",
              "    [theme=dark] .colab-df-convert {\n",
              "      background-color: #3B4455;\n",
              "      fill: #D2E3FC;\n",
              "    }\n",
              "\n",
              "    [theme=dark] .colab-df-convert:hover {\n",
              "      background-color: #434B5C;\n",
              "      box-shadow: 0px 1px 3px 1px rgba(0, 0, 0, 0.15);\n",
              "      filter: drop-shadow(0px 1px 2px rgba(0, 0, 0, 0.3));\n",
              "      fill: #FFFFFF;\n",
              "    }\n",
              "  </style>\n",
              "\n",
              "      <script>\n",
              "        const buttonEl =\n",
              "          document.querySelector('#df-2f095c47-08ed-4aac-809d-998203a6c5e7 button.colab-df-convert');\n",
              "        buttonEl.style.display =\n",
              "          google.colab.kernel.accessAllowed ? 'block' : 'none';\n",
              "\n",
              "        async function convertToInteractive(key) {\n",
              "          const element = document.querySelector('#df-2f095c47-08ed-4aac-809d-998203a6c5e7');\n",
              "          const dataTable =\n",
              "            await google.colab.kernel.invokeFunction('convertToInteractive',\n",
              "                                                     [key], {});\n",
              "          if (!dataTable) return;\n",
              "\n",
              "          const docLinkHtml = 'Like what you see? Visit the ' +\n",
              "            '<a target=\"_blank\" href=https://colab.research.google.com/notebooks/data_table.ipynb>data table notebook</a>'\n",
              "            + ' to learn more about interactive tables.';\n",
              "          element.innerHTML = '';\n",
              "          dataTable['output_type'] = 'display_data';\n",
              "          await google.colab.output.renderOutput(dataTable, element);\n",
              "          const docLink = document.createElement('div');\n",
              "          docLink.innerHTML = docLinkHtml;\n",
              "          element.appendChild(docLink);\n",
              "        }\n",
              "      </script>\n",
              "    </div>\n",
              "  </div>\n",
              "  "
            ]
          },
          "metadata": {},
          "execution_count": 113
        }
      ]
    },
    {
      "cell_type": "code",
      "source": [
        "df03.drop(\"Mean of Column\",inplace=True)   \n",
        "df03.drop(\"Median of Colunm\",inplace=True) "
      ],
      "metadata": {
        "id": "A-jTi5Bp72Ld"
      },
      "execution_count": null,
      "outputs": []
    },
    {
      "cell_type": "code",
      "source": [
        "df03   "
      ],
      "metadata": {
        "id": "c-1Nl7J28i42",
        "colab": {
          "base_uri": "https://localhost:8080/",
          "height": 363
        },
        "outputId": "7aa4822e-3299-4832-c117-c3d90ead245d"
      },
      "execution_count": null,
      "outputs": [
        {
          "output_type": "execute_result",
          "data": {
            "text/plain": [
              "             Mass  Diameter  Density  Gravity\n",
              "MERCURY     0.330    4879.0   5429.0    0.378\n",
              "VENUS       4.870   12104.0   5243.0    0.907\n",
              "EARTH       5.970   12756.0   5514.0    1.000\n",
              "MOON        0.073    3475.0   3340.0    0.166\n",
              "MARS        0.642    6792.0   3934.0    0.377\n",
              "JUPITER  1898.000  142984.0   1326.0    2.360\n",
              "SATURN    568.000  120536.0    687.0    0.916\n",
              "URANUS     86.800   51118.0   1270.0    0.889\n",
              "NEPTUNE   102.000   49528.0   1638.0    1.120\n",
              "PLUTO       0.013    2376.0   1850.0    0.071"
            ],
            "text/html": [
              "\n",
              "  <div id=\"df-a3f250ac-4d81-4c17-96eb-784dc6910978\">\n",
              "    <div class=\"colab-df-container\">\n",
              "      <div>\n",
              "<style scoped>\n",
              "    .dataframe tbody tr th:only-of-type {\n",
              "        vertical-align: middle;\n",
              "    }\n",
              "\n",
              "    .dataframe tbody tr th {\n",
              "        vertical-align: top;\n",
              "    }\n",
              "\n",
              "    .dataframe thead th {\n",
              "        text-align: right;\n",
              "    }\n",
              "</style>\n",
              "<table border=\"1\" class=\"dataframe\">\n",
              "  <thead>\n",
              "    <tr style=\"text-align: right;\">\n",
              "      <th></th>\n",
              "      <th>Mass</th>\n",
              "      <th>Diameter</th>\n",
              "      <th>Density</th>\n",
              "      <th>Gravity</th>\n",
              "    </tr>\n",
              "  </thead>\n",
              "  <tbody>\n",
              "    <tr>\n",
              "      <th>MERCURY</th>\n",
              "      <td>0.330</td>\n",
              "      <td>4879.0</td>\n",
              "      <td>5429.0</td>\n",
              "      <td>0.378</td>\n",
              "    </tr>\n",
              "    <tr>\n",
              "      <th>VENUS</th>\n",
              "      <td>4.870</td>\n",
              "      <td>12104.0</td>\n",
              "      <td>5243.0</td>\n",
              "      <td>0.907</td>\n",
              "    </tr>\n",
              "    <tr>\n",
              "      <th>EARTH</th>\n",
              "      <td>5.970</td>\n",
              "      <td>12756.0</td>\n",
              "      <td>5514.0</td>\n",
              "      <td>1.000</td>\n",
              "    </tr>\n",
              "    <tr>\n",
              "      <th>MOON</th>\n",
              "      <td>0.073</td>\n",
              "      <td>3475.0</td>\n",
              "      <td>3340.0</td>\n",
              "      <td>0.166</td>\n",
              "    </tr>\n",
              "    <tr>\n",
              "      <th>MARS</th>\n",
              "      <td>0.642</td>\n",
              "      <td>6792.0</td>\n",
              "      <td>3934.0</td>\n",
              "      <td>0.377</td>\n",
              "    </tr>\n",
              "    <tr>\n",
              "      <th>JUPITER</th>\n",
              "      <td>1898.000</td>\n",
              "      <td>142984.0</td>\n",
              "      <td>1326.0</td>\n",
              "      <td>2.360</td>\n",
              "    </tr>\n",
              "    <tr>\n",
              "      <th>SATURN</th>\n",
              "      <td>568.000</td>\n",
              "      <td>120536.0</td>\n",
              "      <td>687.0</td>\n",
              "      <td>0.916</td>\n",
              "    </tr>\n",
              "    <tr>\n",
              "      <th>URANUS</th>\n",
              "      <td>86.800</td>\n",
              "      <td>51118.0</td>\n",
              "      <td>1270.0</td>\n",
              "      <td>0.889</td>\n",
              "    </tr>\n",
              "    <tr>\n",
              "      <th>NEPTUNE</th>\n",
              "      <td>102.000</td>\n",
              "      <td>49528.0</td>\n",
              "      <td>1638.0</td>\n",
              "      <td>1.120</td>\n",
              "    </tr>\n",
              "    <tr>\n",
              "      <th>PLUTO</th>\n",
              "      <td>0.013</td>\n",
              "      <td>2376.0</td>\n",
              "      <td>1850.0</td>\n",
              "      <td>0.071</td>\n",
              "    </tr>\n",
              "  </tbody>\n",
              "</table>\n",
              "</div>\n",
              "      <button class=\"colab-df-convert\" onclick=\"convertToInteractive('df-a3f250ac-4d81-4c17-96eb-784dc6910978')\"\n",
              "              title=\"Convert this dataframe to an interactive table.\"\n",
              "              style=\"display:none;\">\n",
              "        \n",
              "  <svg xmlns=\"http://www.w3.org/2000/svg\" height=\"24px\"viewBox=\"0 0 24 24\"\n",
              "       width=\"24px\">\n",
              "    <path d=\"M0 0h24v24H0V0z\" fill=\"none\"/>\n",
              "    <path d=\"M18.56 5.44l.94 2.06.94-2.06 2.06-.94-2.06-.94-.94-2.06-.94 2.06-2.06.94zm-11 1L8.5 8.5l.94-2.06 2.06-.94-2.06-.94L8.5 2.5l-.94 2.06-2.06.94zm10 10l.94 2.06.94-2.06 2.06-.94-2.06-.94-.94-2.06-.94 2.06-2.06.94z\"/><path d=\"M17.41 7.96l-1.37-1.37c-.4-.4-.92-.59-1.43-.59-.52 0-1.04.2-1.43.59L10.3 9.45l-7.72 7.72c-.78.78-.78 2.05 0 2.83L4 21.41c.39.39.9.59 1.41.59.51 0 1.02-.2 1.41-.59l7.78-7.78 2.81-2.81c.8-.78.8-2.07 0-2.86zM5.41 20L4 18.59l7.72-7.72 1.47 1.35L5.41 20z\"/>\n",
              "  </svg>\n",
              "      </button>\n",
              "      \n",
              "  <style>\n",
              "    .colab-df-container {\n",
              "      display:flex;\n",
              "      flex-wrap:wrap;\n",
              "      gap: 12px;\n",
              "    }\n",
              "\n",
              "    .colab-df-convert {\n",
              "      background-color: #E8F0FE;\n",
              "      border: none;\n",
              "      border-radius: 50%;\n",
              "      cursor: pointer;\n",
              "      display: none;\n",
              "      fill: #1967D2;\n",
              "      height: 32px;\n",
              "      padding: 0 0 0 0;\n",
              "      width: 32px;\n",
              "    }\n",
              "\n",
              "    .colab-df-convert:hover {\n",
              "      background-color: #E2EBFA;\n",
              "      box-shadow: 0px 1px 2px rgba(60, 64, 67, 0.3), 0px 1px 3px 1px rgba(60, 64, 67, 0.15);\n",
              "      fill: #174EA6;\n",
              "    }\n",
              "\n",
              "    [theme=dark] .colab-df-convert {\n",
              "      background-color: #3B4455;\n",
              "      fill: #D2E3FC;\n",
              "    }\n",
              "\n",
              "    [theme=dark] .colab-df-convert:hover {\n",
              "      background-color: #434B5C;\n",
              "      box-shadow: 0px 1px 3px 1px rgba(0, 0, 0, 0.15);\n",
              "      filter: drop-shadow(0px 1px 2px rgba(0, 0, 0, 0.3));\n",
              "      fill: #FFFFFF;\n",
              "    }\n",
              "  </style>\n",
              "\n",
              "      <script>\n",
              "        const buttonEl =\n",
              "          document.querySelector('#df-a3f250ac-4d81-4c17-96eb-784dc6910978 button.colab-df-convert');\n",
              "        buttonEl.style.display =\n",
              "          google.colab.kernel.accessAllowed ? 'block' : 'none';\n",
              "\n",
              "        async function convertToInteractive(key) {\n",
              "          const element = document.querySelector('#df-a3f250ac-4d81-4c17-96eb-784dc6910978');\n",
              "          const dataTable =\n",
              "            await google.colab.kernel.invokeFunction('convertToInteractive',\n",
              "                                                     [key], {});\n",
              "          if (!dataTable) return;\n",
              "\n",
              "          const docLinkHtml = 'Like what you see? Visit the ' +\n",
              "            '<a target=\"_blank\" href=https://colab.research.google.com/notebooks/data_table.ipynb>data table notebook</a>'\n",
              "            + ' to learn more about interactive tables.';\n",
              "          element.innerHTML = '';\n",
              "          dataTable['output_type'] = 'display_data';\n",
              "          await google.colab.output.renderOutput(dataTable, element);\n",
              "          const docLink = document.createElement('div');\n",
              "          docLink.innerHTML = docLinkHtml;\n",
              "          element.appendChild(docLink);\n",
              "        }\n",
              "      </script>\n",
              "    </div>\n",
              "  </div>\n",
              "  "
            ]
          },
          "metadata": {},
          "execution_count": 115
        }
      ]
    },
    {
      "cell_type": "markdown",
      "source": [
        "Here I Calculated The Mean And Median Column Wise"
      ],
      "metadata": {
        "id": "Y8A-lPSZZd3V"
      }
    },
    {
      "cell_type": "code",
      "source": [
        "def ColumnMeanandMedian(df):                          \n",
        "    df.loc[\"Mean Of column\"]=df.mean()            \n",
        "    df.loc[\"Median Of Column\"]=df.median()        \n",
        "    return df                                    "
      ],
      "metadata": {
        "id": "IJM9pNx5TnrF"
      },
      "execution_count": null,
      "outputs": []
    },
    {
      "cell_type": "code",
      "source": [
        "ColumnMeanandMedian(df03)      "
      ],
      "metadata": {
        "id": "bRt1QInAT2dm",
        "colab": {
          "base_uri": "https://localhost:8080/",
          "height": 426
        },
        "outputId": "55a0f99b-9911-407e-f3de-afefe91dc916"
      },
      "execution_count": null,
      "outputs": [
        {
          "output_type": "execute_result",
          "data": {
            "text/plain": [
              "                       Mass  Diameter  Density  Gravity\n",
              "MERCURY              0.3300    4879.0   5429.0   0.3780\n",
              "VENUS                4.8700   12104.0   5243.0   0.9070\n",
              "EARTH                5.9700   12756.0   5514.0   1.0000\n",
              "MOON                 0.0730    3475.0   3340.0   0.1660\n",
              "MARS                 0.6420    6792.0   3934.0   0.3770\n",
              "JUPITER           1898.0000  142984.0   1326.0   2.3600\n",
              "SATURN             568.0000  120536.0    687.0   0.9160\n",
              "URANUS              86.8000   51118.0   1270.0   0.8890\n",
              "NEPTUNE            102.0000   49528.0   1638.0   1.1200\n",
              "PLUTO                0.0130    2376.0   1850.0   0.0710\n",
              "Mean Of column     266.6698   40654.8   3023.1   0.8184\n",
              "Median Of Column     5.9700   12756.0   3023.1   0.8890"
            ],
            "text/html": [
              "\n",
              "  <div id=\"df-848464bd-8433-40fc-8881-768a361e42f8\">\n",
              "    <div class=\"colab-df-container\">\n",
              "      <div>\n",
              "<style scoped>\n",
              "    .dataframe tbody tr th:only-of-type {\n",
              "        vertical-align: middle;\n",
              "    }\n",
              "\n",
              "    .dataframe tbody tr th {\n",
              "        vertical-align: top;\n",
              "    }\n",
              "\n",
              "    .dataframe thead th {\n",
              "        text-align: right;\n",
              "    }\n",
              "</style>\n",
              "<table border=\"1\" class=\"dataframe\">\n",
              "  <thead>\n",
              "    <tr style=\"text-align: right;\">\n",
              "      <th></th>\n",
              "      <th>Mass</th>\n",
              "      <th>Diameter</th>\n",
              "      <th>Density</th>\n",
              "      <th>Gravity</th>\n",
              "    </tr>\n",
              "  </thead>\n",
              "  <tbody>\n",
              "    <tr>\n",
              "      <th>MERCURY</th>\n",
              "      <td>0.3300</td>\n",
              "      <td>4879.0</td>\n",
              "      <td>5429.0</td>\n",
              "      <td>0.3780</td>\n",
              "    </tr>\n",
              "    <tr>\n",
              "      <th>VENUS</th>\n",
              "      <td>4.8700</td>\n",
              "      <td>12104.0</td>\n",
              "      <td>5243.0</td>\n",
              "      <td>0.9070</td>\n",
              "    </tr>\n",
              "    <tr>\n",
              "      <th>EARTH</th>\n",
              "      <td>5.9700</td>\n",
              "      <td>12756.0</td>\n",
              "      <td>5514.0</td>\n",
              "      <td>1.0000</td>\n",
              "    </tr>\n",
              "    <tr>\n",
              "      <th>MOON</th>\n",
              "      <td>0.0730</td>\n",
              "      <td>3475.0</td>\n",
              "      <td>3340.0</td>\n",
              "      <td>0.1660</td>\n",
              "    </tr>\n",
              "    <tr>\n",
              "      <th>MARS</th>\n",
              "      <td>0.6420</td>\n",
              "      <td>6792.0</td>\n",
              "      <td>3934.0</td>\n",
              "      <td>0.3770</td>\n",
              "    </tr>\n",
              "    <tr>\n",
              "      <th>JUPITER</th>\n",
              "      <td>1898.0000</td>\n",
              "      <td>142984.0</td>\n",
              "      <td>1326.0</td>\n",
              "      <td>2.3600</td>\n",
              "    </tr>\n",
              "    <tr>\n",
              "      <th>SATURN</th>\n",
              "      <td>568.0000</td>\n",
              "      <td>120536.0</td>\n",
              "      <td>687.0</td>\n",
              "      <td>0.9160</td>\n",
              "    </tr>\n",
              "    <tr>\n",
              "      <th>URANUS</th>\n",
              "      <td>86.8000</td>\n",
              "      <td>51118.0</td>\n",
              "      <td>1270.0</td>\n",
              "      <td>0.8890</td>\n",
              "    </tr>\n",
              "    <tr>\n",
              "      <th>NEPTUNE</th>\n",
              "      <td>102.0000</td>\n",
              "      <td>49528.0</td>\n",
              "      <td>1638.0</td>\n",
              "      <td>1.1200</td>\n",
              "    </tr>\n",
              "    <tr>\n",
              "      <th>PLUTO</th>\n",
              "      <td>0.0130</td>\n",
              "      <td>2376.0</td>\n",
              "      <td>1850.0</td>\n",
              "      <td>0.0710</td>\n",
              "    </tr>\n",
              "    <tr>\n",
              "      <th>Mean Of column</th>\n",
              "      <td>266.6698</td>\n",
              "      <td>40654.8</td>\n",
              "      <td>3023.1</td>\n",
              "      <td>0.8184</td>\n",
              "    </tr>\n",
              "    <tr>\n",
              "      <th>Median Of Column</th>\n",
              "      <td>5.9700</td>\n",
              "      <td>12756.0</td>\n",
              "      <td>3023.1</td>\n",
              "      <td>0.8890</td>\n",
              "    </tr>\n",
              "  </tbody>\n",
              "</table>\n",
              "</div>\n",
              "      <button class=\"colab-df-convert\" onclick=\"convertToInteractive('df-848464bd-8433-40fc-8881-768a361e42f8')\"\n",
              "              title=\"Convert this dataframe to an interactive table.\"\n",
              "              style=\"display:none;\">\n",
              "        \n",
              "  <svg xmlns=\"http://www.w3.org/2000/svg\" height=\"24px\"viewBox=\"0 0 24 24\"\n",
              "       width=\"24px\">\n",
              "    <path d=\"M0 0h24v24H0V0z\" fill=\"none\"/>\n",
              "    <path d=\"M18.56 5.44l.94 2.06.94-2.06 2.06-.94-2.06-.94-.94-2.06-.94 2.06-2.06.94zm-11 1L8.5 8.5l.94-2.06 2.06-.94-2.06-.94L8.5 2.5l-.94 2.06-2.06.94zm10 10l.94 2.06.94-2.06 2.06-.94-2.06-.94-.94-2.06-.94 2.06-2.06.94z\"/><path d=\"M17.41 7.96l-1.37-1.37c-.4-.4-.92-.59-1.43-.59-.52 0-1.04.2-1.43.59L10.3 9.45l-7.72 7.72c-.78.78-.78 2.05 0 2.83L4 21.41c.39.39.9.59 1.41.59.51 0 1.02-.2 1.41-.59l7.78-7.78 2.81-2.81c.8-.78.8-2.07 0-2.86zM5.41 20L4 18.59l7.72-7.72 1.47 1.35L5.41 20z\"/>\n",
              "  </svg>\n",
              "      </button>\n",
              "      \n",
              "  <style>\n",
              "    .colab-df-container {\n",
              "      display:flex;\n",
              "      flex-wrap:wrap;\n",
              "      gap: 12px;\n",
              "    }\n",
              "\n",
              "    .colab-df-convert {\n",
              "      background-color: #E8F0FE;\n",
              "      border: none;\n",
              "      border-radius: 50%;\n",
              "      cursor: pointer;\n",
              "      display: none;\n",
              "      fill: #1967D2;\n",
              "      height: 32px;\n",
              "      padding: 0 0 0 0;\n",
              "      width: 32px;\n",
              "    }\n",
              "\n",
              "    .colab-df-convert:hover {\n",
              "      background-color: #E2EBFA;\n",
              "      box-shadow: 0px 1px 2px rgba(60, 64, 67, 0.3), 0px 1px 3px 1px rgba(60, 64, 67, 0.15);\n",
              "      fill: #174EA6;\n",
              "    }\n",
              "\n",
              "    [theme=dark] .colab-df-convert {\n",
              "      background-color: #3B4455;\n",
              "      fill: #D2E3FC;\n",
              "    }\n",
              "\n",
              "    [theme=dark] .colab-df-convert:hover {\n",
              "      background-color: #434B5C;\n",
              "      box-shadow: 0px 1px 3px 1px rgba(0, 0, 0, 0.15);\n",
              "      filter: drop-shadow(0px 1px 2px rgba(0, 0, 0, 0.3));\n",
              "      fill: #FFFFFF;\n",
              "    }\n",
              "  </style>\n",
              "\n",
              "      <script>\n",
              "        const buttonEl =\n",
              "          document.querySelector('#df-848464bd-8433-40fc-8881-768a361e42f8 button.colab-df-convert');\n",
              "        buttonEl.style.display =\n",
              "          google.colab.kernel.accessAllowed ? 'block' : 'none';\n",
              "\n",
              "        async function convertToInteractive(key) {\n",
              "          const element = document.querySelector('#df-848464bd-8433-40fc-8881-768a361e42f8');\n",
              "          const dataTable =\n",
              "            await google.colab.kernel.invokeFunction('convertToInteractive',\n",
              "                                                     [key], {});\n",
              "          if (!dataTable) return;\n",
              "\n",
              "          const docLinkHtml = 'Like what you see? Visit the ' +\n",
              "            '<a target=\"_blank\" href=https://colab.research.google.com/notebooks/data_table.ipynb>data table notebook</a>'\n",
              "            + ' to learn more about interactive tables.';\n",
              "          element.innerHTML = '';\n",
              "          dataTable['output_type'] = 'display_data';\n",
              "          await google.colab.output.renderOutput(dataTable, element);\n",
              "          const docLink = document.createElement('div');\n",
              "          docLink.innerHTML = docLinkHtml;\n",
              "          element.appendChild(docLink);\n",
              "        }\n",
              "      </script>\n",
              "    </div>\n",
              "  </div>\n",
              "  "
            ]
          },
          "metadata": {},
          "execution_count": 117
        }
      ]
    },
    {
      "cell_type": "markdown",
      "source": [
        "Here I Calculated The Mean And Median Row Wise"
      ],
      "metadata": {
        "id": "NhwHxsUCZp6N"
      }
    },
    {
      "cell_type": "code",
      "source": [
        "def RowMeanandMedian(df):                          \n",
        "    df[\"Mean Of Row\"]=df.mean(axis=1)           \n",
        "    df[\"Median Of Row\"]=df.median(axis=1)         \n",
        "    return df                                     "
      ],
      "metadata": {
        "id": "5H32-BWFWlRI"
      },
      "execution_count": null,
      "outputs": []
    },
    {
      "cell_type": "code",
      "source": [
        "RowMeanandMedian(df03)"
      ],
      "metadata": {
        "id": "_yIDxI0jY8Vf",
        "colab": {
          "base_uri": "https://localhost:8080/",
          "height": 426
        },
        "outputId": "8bf99238-41dc-455f-fdae-be22dcc14401"
      },
      "execution_count": null,
      "outputs": [
        {
          "output_type": "execute_result",
          "data": {
            "text/plain": [
              "                       Mass  Diameter  Density  Gravity  Mean Of Row  \\\n",
              "MERCURY              0.3300    4879.0   5429.0   0.3780   2577.17700   \n",
              "VENUS                4.8700   12104.0   5243.0   0.9070   4338.19425   \n",
              "EARTH                5.9700   12756.0   5514.0   1.0000   4569.24250   \n",
              "MOON                 0.0730    3475.0   3340.0   0.1660   1703.80975   \n",
              "MARS                 0.6420    6792.0   3934.0   0.3770   2681.75475   \n",
              "JUPITER           1898.0000  142984.0   1326.0   2.3600  36552.59000   \n",
              "SATURN             568.0000  120536.0    687.0   0.9160  30447.97900   \n",
              "URANUS              86.8000   51118.0   1270.0   0.8890  13118.92225   \n",
              "NEPTUNE            102.0000   49528.0   1638.0   1.1200  12817.28000   \n",
              "PLUTO                0.0130    2376.0   1850.0   0.0710   1056.52100   \n",
              "Mean Of column     266.6698   40654.8   3023.1   0.8184  10986.34705   \n",
              "Median Of Column     5.9700   12756.0   3023.1   0.8890   3946.48975   \n",
              "\n",
              "                  Median Of Row  \n",
              "MERCURY              2577.17700  \n",
              "VENUS                4338.19425  \n",
              "EARTH                4569.24250  \n",
              "MOON                 1703.80975  \n",
              "MARS                 2681.75475  \n",
              "JUPITER              1898.00000  \n",
              "SATURN                687.00000  \n",
              "URANUS               1270.00000  \n",
              "NEPTUNE              1638.00000  \n",
              "PLUTO                1056.52100  \n",
              "Mean Of column       3023.10000  \n",
              "Median Of Column     3023.10000  "
            ],
            "text/html": [
              "\n",
              "  <div id=\"df-003d32d5-c4b6-42d9-80f1-ee21036d5a25\">\n",
              "    <div class=\"colab-df-container\">\n",
              "      <div>\n",
              "<style scoped>\n",
              "    .dataframe tbody tr th:only-of-type {\n",
              "        vertical-align: middle;\n",
              "    }\n",
              "\n",
              "    .dataframe tbody tr th {\n",
              "        vertical-align: top;\n",
              "    }\n",
              "\n",
              "    .dataframe thead th {\n",
              "        text-align: right;\n",
              "    }\n",
              "</style>\n",
              "<table border=\"1\" class=\"dataframe\">\n",
              "  <thead>\n",
              "    <tr style=\"text-align: right;\">\n",
              "      <th></th>\n",
              "      <th>Mass</th>\n",
              "      <th>Diameter</th>\n",
              "      <th>Density</th>\n",
              "      <th>Gravity</th>\n",
              "      <th>Mean Of Row</th>\n",
              "      <th>Median Of Row</th>\n",
              "    </tr>\n",
              "  </thead>\n",
              "  <tbody>\n",
              "    <tr>\n",
              "      <th>MERCURY</th>\n",
              "      <td>0.3300</td>\n",
              "      <td>4879.0</td>\n",
              "      <td>5429.0</td>\n",
              "      <td>0.3780</td>\n",
              "      <td>2577.17700</td>\n",
              "      <td>2577.17700</td>\n",
              "    </tr>\n",
              "    <tr>\n",
              "      <th>VENUS</th>\n",
              "      <td>4.8700</td>\n",
              "      <td>12104.0</td>\n",
              "      <td>5243.0</td>\n",
              "      <td>0.9070</td>\n",
              "      <td>4338.19425</td>\n",
              "      <td>4338.19425</td>\n",
              "    </tr>\n",
              "    <tr>\n",
              "      <th>EARTH</th>\n",
              "      <td>5.9700</td>\n",
              "      <td>12756.0</td>\n",
              "      <td>5514.0</td>\n",
              "      <td>1.0000</td>\n",
              "      <td>4569.24250</td>\n",
              "      <td>4569.24250</td>\n",
              "    </tr>\n",
              "    <tr>\n",
              "      <th>MOON</th>\n",
              "      <td>0.0730</td>\n",
              "      <td>3475.0</td>\n",
              "      <td>3340.0</td>\n",
              "      <td>0.1660</td>\n",
              "      <td>1703.80975</td>\n",
              "      <td>1703.80975</td>\n",
              "    </tr>\n",
              "    <tr>\n",
              "      <th>MARS</th>\n",
              "      <td>0.6420</td>\n",
              "      <td>6792.0</td>\n",
              "      <td>3934.0</td>\n",
              "      <td>0.3770</td>\n",
              "      <td>2681.75475</td>\n",
              "      <td>2681.75475</td>\n",
              "    </tr>\n",
              "    <tr>\n",
              "      <th>JUPITER</th>\n",
              "      <td>1898.0000</td>\n",
              "      <td>142984.0</td>\n",
              "      <td>1326.0</td>\n",
              "      <td>2.3600</td>\n",
              "      <td>36552.59000</td>\n",
              "      <td>1898.00000</td>\n",
              "    </tr>\n",
              "    <tr>\n",
              "      <th>SATURN</th>\n",
              "      <td>568.0000</td>\n",
              "      <td>120536.0</td>\n",
              "      <td>687.0</td>\n",
              "      <td>0.9160</td>\n",
              "      <td>30447.97900</td>\n",
              "      <td>687.00000</td>\n",
              "    </tr>\n",
              "    <tr>\n",
              "      <th>URANUS</th>\n",
              "      <td>86.8000</td>\n",
              "      <td>51118.0</td>\n",
              "      <td>1270.0</td>\n",
              "      <td>0.8890</td>\n",
              "      <td>13118.92225</td>\n",
              "      <td>1270.00000</td>\n",
              "    </tr>\n",
              "    <tr>\n",
              "      <th>NEPTUNE</th>\n",
              "      <td>102.0000</td>\n",
              "      <td>49528.0</td>\n",
              "      <td>1638.0</td>\n",
              "      <td>1.1200</td>\n",
              "      <td>12817.28000</td>\n",
              "      <td>1638.00000</td>\n",
              "    </tr>\n",
              "    <tr>\n",
              "      <th>PLUTO</th>\n",
              "      <td>0.0130</td>\n",
              "      <td>2376.0</td>\n",
              "      <td>1850.0</td>\n",
              "      <td>0.0710</td>\n",
              "      <td>1056.52100</td>\n",
              "      <td>1056.52100</td>\n",
              "    </tr>\n",
              "    <tr>\n",
              "      <th>Mean Of column</th>\n",
              "      <td>266.6698</td>\n",
              "      <td>40654.8</td>\n",
              "      <td>3023.1</td>\n",
              "      <td>0.8184</td>\n",
              "      <td>10986.34705</td>\n",
              "      <td>3023.10000</td>\n",
              "    </tr>\n",
              "    <tr>\n",
              "      <th>Median Of Column</th>\n",
              "      <td>5.9700</td>\n",
              "      <td>12756.0</td>\n",
              "      <td>3023.1</td>\n",
              "      <td>0.8890</td>\n",
              "      <td>3946.48975</td>\n",
              "      <td>3023.10000</td>\n",
              "    </tr>\n",
              "  </tbody>\n",
              "</table>\n",
              "</div>\n",
              "      <button class=\"colab-df-convert\" onclick=\"convertToInteractive('df-003d32d5-c4b6-42d9-80f1-ee21036d5a25')\"\n",
              "              title=\"Convert this dataframe to an interactive table.\"\n",
              "              style=\"display:none;\">\n",
              "        \n",
              "  <svg xmlns=\"http://www.w3.org/2000/svg\" height=\"24px\"viewBox=\"0 0 24 24\"\n",
              "       width=\"24px\">\n",
              "    <path d=\"M0 0h24v24H0V0z\" fill=\"none\"/>\n",
              "    <path d=\"M18.56 5.44l.94 2.06.94-2.06 2.06-.94-2.06-.94-.94-2.06-.94 2.06-2.06.94zm-11 1L8.5 8.5l.94-2.06 2.06-.94-2.06-.94L8.5 2.5l-.94 2.06-2.06.94zm10 10l.94 2.06.94-2.06 2.06-.94-2.06-.94-.94-2.06-.94 2.06-2.06.94z\"/><path d=\"M17.41 7.96l-1.37-1.37c-.4-.4-.92-.59-1.43-.59-.52 0-1.04.2-1.43.59L10.3 9.45l-7.72 7.72c-.78.78-.78 2.05 0 2.83L4 21.41c.39.39.9.59 1.41.59.51 0 1.02-.2 1.41-.59l7.78-7.78 2.81-2.81c.8-.78.8-2.07 0-2.86zM5.41 20L4 18.59l7.72-7.72 1.47 1.35L5.41 20z\"/>\n",
              "  </svg>\n",
              "      </button>\n",
              "      \n",
              "  <style>\n",
              "    .colab-df-container {\n",
              "      display:flex;\n",
              "      flex-wrap:wrap;\n",
              "      gap: 12px;\n",
              "    }\n",
              "\n",
              "    .colab-df-convert {\n",
              "      background-color: #E8F0FE;\n",
              "      border: none;\n",
              "      border-radius: 50%;\n",
              "      cursor: pointer;\n",
              "      display: none;\n",
              "      fill: #1967D2;\n",
              "      height: 32px;\n",
              "      padding: 0 0 0 0;\n",
              "      width: 32px;\n",
              "    }\n",
              "\n",
              "    .colab-df-convert:hover {\n",
              "      background-color: #E2EBFA;\n",
              "      box-shadow: 0px 1px 2px rgba(60, 64, 67, 0.3), 0px 1px 3px 1px rgba(60, 64, 67, 0.15);\n",
              "      fill: #174EA6;\n",
              "    }\n",
              "\n",
              "    [theme=dark] .colab-df-convert {\n",
              "      background-color: #3B4455;\n",
              "      fill: #D2E3FC;\n",
              "    }\n",
              "\n",
              "    [theme=dark] .colab-df-convert:hover {\n",
              "      background-color: #434B5C;\n",
              "      box-shadow: 0px 1px 3px 1px rgba(0, 0, 0, 0.15);\n",
              "      filter: drop-shadow(0px 1px 2px rgba(0, 0, 0, 0.3));\n",
              "      fill: #FFFFFF;\n",
              "    }\n",
              "  </style>\n",
              "\n",
              "      <script>\n",
              "        const buttonEl =\n",
              "          document.querySelector('#df-003d32d5-c4b6-42d9-80f1-ee21036d5a25 button.colab-df-convert');\n",
              "        buttonEl.style.display =\n",
              "          google.colab.kernel.accessAllowed ? 'block' : 'none';\n",
              "\n",
              "        async function convertToInteractive(key) {\n",
              "          const element = document.querySelector('#df-003d32d5-c4b6-42d9-80f1-ee21036d5a25');\n",
              "          const dataTable =\n",
              "            await google.colab.kernel.invokeFunction('convertToInteractive',\n",
              "                                                     [key], {});\n",
              "          if (!dataTable) return;\n",
              "\n",
              "          const docLinkHtml = 'Like what you see? Visit the ' +\n",
              "            '<a target=\"_blank\" href=https://colab.research.google.com/notebooks/data_table.ipynb>data table notebook</a>'\n",
              "            + ' to learn more about interactive tables.';\n",
              "          element.innerHTML = '';\n",
              "          dataTable['output_type'] = 'display_data';\n",
              "          await google.colab.output.renderOutput(dataTable, element);\n",
              "          const docLink = document.createElement('div');\n",
              "          docLink.innerHTML = docLinkHtml;\n",
              "          element.appendChild(docLink);\n",
              "        }\n",
              "      </script>\n",
              "    </div>\n",
              "  </div>\n",
              "  "
            ]
          },
          "metadata": {},
          "execution_count": 119
        }
      ]
    },
    {
      "cell_type": "code",
      "source": [
        "df03.min()    "
      ],
      "metadata": {
        "id": "S_KoqTnYZQ3_",
        "colab": {
          "base_uri": "https://localhost:8080/"
        },
        "outputId": "1a31be89-f9be-4c68-f6f7-5993437972f3"
      },
      "execution_count": null,
      "outputs": [
        {
          "output_type": "execute_result",
          "data": {
            "text/plain": [
              "Mass                0.013\n",
              "Diameter         2376.000\n",
              "Density           687.000\n",
              "Gravity             0.071\n",
              "Mean Of Row      1056.521\n",
              "Median Of Row     687.000\n",
              "dtype: float64"
            ]
          },
          "metadata": {},
          "execution_count": 120
        }
      ]
    },
    {
      "cell_type": "code",
      "source": [
        "df03.max(axis=1)   "
      ],
      "metadata": {
        "id": "cVMlumVaaFtA",
        "colab": {
          "base_uri": "https://localhost:8080/"
        },
        "outputId": "50d90df4-f5f4-45b6-86a0-8e4e1825862a"
      },
      "execution_count": null,
      "outputs": [
        {
          "output_type": "execute_result",
          "data": {
            "text/plain": [
              "MERCURY               5429.0\n",
              "VENUS                12104.0\n",
              "EARTH                12756.0\n",
              "MOON                  3475.0\n",
              "MARS                  6792.0\n",
              "JUPITER             142984.0\n",
              "SATURN              120536.0\n",
              "URANUS               51118.0\n",
              "NEPTUNE              49528.0\n",
              "PLUTO                 2376.0\n",
              "Mean Of column       40654.8\n",
              "Median Of Column     12756.0\n",
              "dtype: float64"
            ]
          },
          "metadata": {},
          "execution_count": 121
        }
      ]
    },
    {
      "cell_type": "code",
      "source": [
        "df03.quantile()   "
      ],
      "metadata": {
        "id": "VMkR89kTaXgk",
        "colab": {
          "base_uri": "https://localhost:8080/"
        },
        "outputId": "e4974ed3-512f-458c-a26a-bbb3b91da3dd"
      },
      "execution_count": null,
      "outputs": [
        {
          "output_type": "execute_result",
          "data": {
            "text/plain": [
              "Mass                 5.970000\n",
              "Diameter         12756.000000\n",
              "Density           3023.100000\n",
              "Gravity              0.889000\n",
              "Mean Of Row       4453.718375\n",
              "Median Of Row     2237.588500\n",
              "Name: 0.5, dtype: float64"
            ]
          },
          "metadata": {},
          "execution_count": 122
        }
      ]
    },
    {
      "cell_type": "code",
      "source": [
        "df03.quantile(axis=1)   "
      ],
      "metadata": {
        "id": "Udg6jZN5awd0",
        "colab": {
          "base_uri": "https://localhost:8080/"
        },
        "outputId": "8dfe2e0a-eb99-46c7-863d-9c62e26925c0"
      },
      "execution_count": null,
      "outputs": [
        {
          "output_type": "execute_result",
          "data": {
            "text/plain": [
              "MERCURY             2577.17700\n",
              "VENUS               4338.19425\n",
              "EARTH               4569.24250\n",
              "MOON                1703.80975\n",
              "MARS                2681.75475\n",
              "JUPITER             1898.00000\n",
              "SATURN               687.00000\n",
              "URANUS              1270.00000\n",
              "NEPTUNE             1638.00000\n",
              "PLUTO               1056.52100\n",
              "Mean Of column      3023.10000\n",
              "Median Of Column    3023.10000\n",
              "Name: 0.5, dtype: float64"
            ]
          },
          "metadata": {},
          "execution_count": 123
        }
      ]
    },
    {
      "cell_type": "code",
      "source": [
        "def QuantileMeanandMedian(df):                        \n",
        "    df.loc[\"Quantile Of column\"]=df.quantile()             \n",
        "    df[\"Quantile Of Row\"]=df.quantile(axis=1)          \n",
        "    return df                                      "
      ],
      "metadata": {
        "id": "aLk5kWbqa53u"
      },
      "execution_count": null,
      "outputs": []
    },
    {
      "cell_type": "code",
      "source": [
        "QuantileMeanandMedian(df03)"
      ],
      "metadata": {
        "id": "7ptrIBdOboYM",
        "colab": {
          "base_uri": "https://localhost:8080/",
          "height": 457
        },
        "outputId": "546a65a3-f6f5-43aa-dd75-1755a0e2b599"
      },
      "execution_count": null,
      "outputs": [
        {
          "output_type": "execute_result",
          "data": {
            "text/plain": [
              "                         Mass  Diameter  Density  Gravity   Mean Of Row  \\\n",
              "MERCURY                0.3300    4879.0   5429.0   0.3780   2577.177000   \n",
              "VENUS                  4.8700   12104.0   5243.0   0.9070   4338.194250   \n",
              "EARTH                  5.9700   12756.0   5514.0   1.0000   4569.242500   \n",
              "MOON                   0.0730    3475.0   3340.0   0.1660   1703.809750   \n",
              "MARS                   0.6420    6792.0   3934.0   0.3770   2681.754750   \n",
              "JUPITER             1898.0000  142984.0   1326.0   2.3600  36552.590000   \n",
              "SATURN               568.0000  120536.0    687.0   0.9160  30447.979000   \n",
              "URANUS                86.8000   51118.0   1270.0   0.8890  13118.922250   \n",
              "NEPTUNE              102.0000   49528.0   1638.0   1.1200  12817.280000   \n",
              "PLUTO                  0.0130    2376.0   1850.0   0.0710   1056.521000   \n",
              "Mean Of column       266.6698   40654.8   3023.1   0.8184  10986.347050   \n",
              "Median Of Column       5.9700   12756.0   3023.1   0.8890   3946.489750   \n",
              "Quantile Of column     5.9700   12756.0   3023.1   0.8890   4453.718375   \n",
              "\n",
              "                    Median Of Row  Quantile Of Row  \n",
              "MERCURY                2577.17700       2577.17700  \n",
              "VENUS                  4338.19425       4338.19425  \n",
              "EARTH                  4569.24250       4569.24250  \n",
              "MOON                   1703.80975       1703.80975  \n",
              "MARS                   2681.75475       2681.75475  \n",
              "JUPITER                1898.00000       1898.00000  \n",
              "SATURN                  687.00000        687.00000  \n",
              "URANUS                 1270.00000       1270.00000  \n",
              "NEPTUNE                1638.00000       1638.00000  \n",
              "PLUTO                  1056.52100       1056.52100  \n",
              "Mean Of column         3023.10000       3023.10000  \n",
              "Median Of Column       3023.10000       3023.10000  \n",
              "Quantile Of column     2237.58850       2630.34425  "
            ],
            "text/html": [
              "\n",
              "  <div id=\"df-de97d305-cede-4b72-a3da-60e807dbc79e\">\n",
              "    <div class=\"colab-df-container\">\n",
              "      <div>\n",
              "<style scoped>\n",
              "    .dataframe tbody tr th:only-of-type {\n",
              "        vertical-align: middle;\n",
              "    }\n",
              "\n",
              "    .dataframe tbody tr th {\n",
              "        vertical-align: top;\n",
              "    }\n",
              "\n",
              "    .dataframe thead th {\n",
              "        text-align: right;\n",
              "    }\n",
              "</style>\n",
              "<table border=\"1\" class=\"dataframe\">\n",
              "  <thead>\n",
              "    <tr style=\"text-align: right;\">\n",
              "      <th></th>\n",
              "      <th>Mass</th>\n",
              "      <th>Diameter</th>\n",
              "      <th>Density</th>\n",
              "      <th>Gravity</th>\n",
              "      <th>Mean Of Row</th>\n",
              "      <th>Median Of Row</th>\n",
              "      <th>Quantile Of Row</th>\n",
              "    </tr>\n",
              "  </thead>\n",
              "  <tbody>\n",
              "    <tr>\n",
              "      <th>MERCURY</th>\n",
              "      <td>0.3300</td>\n",
              "      <td>4879.0</td>\n",
              "      <td>5429.0</td>\n",
              "      <td>0.3780</td>\n",
              "      <td>2577.177000</td>\n",
              "      <td>2577.17700</td>\n",
              "      <td>2577.17700</td>\n",
              "    </tr>\n",
              "    <tr>\n",
              "      <th>VENUS</th>\n",
              "      <td>4.8700</td>\n",
              "      <td>12104.0</td>\n",
              "      <td>5243.0</td>\n",
              "      <td>0.9070</td>\n",
              "      <td>4338.194250</td>\n",
              "      <td>4338.19425</td>\n",
              "      <td>4338.19425</td>\n",
              "    </tr>\n",
              "    <tr>\n",
              "      <th>EARTH</th>\n",
              "      <td>5.9700</td>\n",
              "      <td>12756.0</td>\n",
              "      <td>5514.0</td>\n",
              "      <td>1.0000</td>\n",
              "      <td>4569.242500</td>\n",
              "      <td>4569.24250</td>\n",
              "      <td>4569.24250</td>\n",
              "    </tr>\n",
              "    <tr>\n",
              "      <th>MOON</th>\n",
              "      <td>0.0730</td>\n",
              "      <td>3475.0</td>\n",
              "      <td>3340.0</td>\n",
              "      <td>0.1660</td>\n",
              "      <td>1703.809750</td>\n",
              "      <td>1703.80975</td>\n",
              "      <td>1703.80975</td>\n",
              "    </tr>\n",
              "    <tr>\n",
              "      <th>MARS</th>\n",
              "      <td>0.6420</td>\n",
              "      <td>6792.0</td>\n",
              "      <td>3934.0</td>\n",
              "      <td>0.3770</td>\n",
              "      <td>2681.754750</td>\n",
              "      <td>2681.75475</td>\n",
              "      <td>2681.75475</td>\n",
              "    </tr>\n",
              "    <tr>\n",
              "      <th>JUPITER</th>\n",
              "      <td>1898.0000</td>\n",
              "      <td>142984.0</td>\n",
              "      <td>1326.0</td>\n",
              "      <td>2.3600</td>\n",
              "      <td>36552.590000</td>\n",
              "      <td>1898.00000</td>\n",
              "      <td>1898.00000</td>\n",
              "    </tr>\n",
              "    <tr>\n",
              "      <th>SATURN</th>\n",
              "      <td>568.0000</td>\n",
              "      <td>120536.0</td>\n",
              "      <td>687.0</td>\n",
              "      <td>0.9160</td>\n",
              "      <td>30447.979000</td>\n",
              "      <td>687.00000</td>\n",
              "      <td>687.00000</td>\n",
              "    </tr>\n",
              "    <tr>\n",
              "      <th>URANUS</th>\n",
              "      <td>86.8000</td>\n",
              "      <td>51118.0</td>\n",
              "      <td>1270.0</td>\n",
              "      <td>0.8890</td>\n",
              "      <td>13118.922250</td>\n",
              "      <td>1270.00000</td>\n",
              "      <td>1270.00000</td>\n",
              "    </tr>\n",
              "    <tr>\n",
              "      <th>NEPTUNE</th>\n",
              "      <td>102.0000</td>\n",
              "      <td>49528.0</td>\n",
              "      <td>1638.0</td>\n",
              "      <td>1.1200</td>\n",
              "      <td>12817.280000</td>\n",
              "      <td>1638.00000</td>\n",
              "      <td>1638.00000</td>\n",
              "    </tr>\n",
              "    <tr>\n",
              "      <th>PLUTO</th>\n",
              "      <td>0.0130</td>\n",
              "      <td>2376.0</td>\n",
              "      <td>1850.0</td>\n",
              "      <td>0.0710</td>\n",
              "      <td>1056.521000</td>\n",
              "      <td>1056.52100</td>\n",
              "      <td>1056.52100</td>\n",
              "    </tr>\n",
              "    <tr>\n",
              "      <th>Mean Of column</th>\n",
              "      <td>266.6698</td>\n",
              "      <td>40654.8</td>\n",
              "      <td>3023.1</td>\n",
              "      <td>0.8184</td>\n",
              "      <td>10986.347050</td>\n",
              "      <td>3023.10000</td>\n",
              "      <td>3023.10000</td>\n",
              "    </tr>\n",
              "    <tr>\n",
              "      <th>Median Of Column</th>\n",
              "      <td>5.9700</td>\n",
              "      <td>12756.0</td>\n",
              "      <td>3023.1</td>\n",
              "      <td>0.8890</td>\n",
              "      <td>3946.489750</td>\n",
              "      <td>3023.10000</td>\n",
              "      <td>3023.10000</td>\n",
              "    </tr>\n",
              "    <tr>\n",
              "      <th>Quantile Of column</th>\n",
              "      <td>5.9700</td>\n",
              "      <td>12756.0</td>\n",
              "      <td>3023.1</td>\n",
              "      <td>0.8890</td>\n",
              "      <td>4453.718375</td>\n",
              "      <td>2237.58850</td>\n",
              "      <td>2630.34425</td>\n",
              "    </tr>\n",
              "  </tbody>\n",
              "</table>\n",
              "</div>\n",
              "      <button class=\"colab-df-convert\" onclick=\"convertToInteractive('df-de97d305-cede-4b72-a3da-60e807dbc79e')\"\n",
              "              title=\"Convert this dataframe to an interactive table.\"\n",
              "              style=\"display:none;\">\n",
              "        \n",
              "  <svg xmlns=\"http://www.w3.org/2000/svg\" height=\"24px\"viewBox=\"0 0 24 24\"\n",
              "       width=\"24px\">\n",
              "    <path d=\"M0 0h24v24H0V0z\" fill=\"none\"/>\n",
              "    <path d=\"M18.56 5.44l.94 2.06.94-2.06 2.06-.94-2.06-.94-.94-2.06-.94 2.06-2.06.94zm-11 1L8.5 8.5l.94-2.06 2.06-.94-2.06-.94L8.5 2.5l-.94 2.06-2.06.94zm10 10l.94 2.06.94-2.06 2.06-.94-2.06-.94-.94-2.06-.94 2.06-2.06.94z\"/><path d=\"M17.41 7.96l-1.37-1.37c-.4-.4-.92-.59-1.43-.59-.52 0-1.04.2-1.43.59L10.3 9.45l-7.72 7.72c-.78.78-.78 2.05 0 2.83L4 21.41c.39.39.9.59 1.41.59.51 0 1.02-.2 1.41-.59l7.78-7.78 2.81-2.81c.8-.78.8-2.07 0-2.86zM5.41 20L4 18.59l7.72-7.72 1.47 1.35L5.41 20z\"/>\n",
              "  </svg>\n",
              "      </button>\n",
              "      \n",
              "  <style>\n",
              "    .colab-df-container {\n",
              "      display:flex;\n",
              "      flex-wrap:wrap;\n",
              "      gap: 12px;\n",
              "    }\n",
              "\n",
              "    .colab-df-convert {\n",
              "      background-color: #E8F0FE;\n",
              "      border: none;\n",
              "      border-radius: 50%;\n",
              "      cursor: pointer;\n",
              "      display: none;\n",
              "      fill: #1967D2;\n",
              "      height: 32px;\n",
              "      padding: 0 0 0 0;\n",
              "      width: 32px;\n",
              "    }\n",
              "\n",
              "    .colab-df-convert:hover {\n",
              "      background-color: #E2EBFA;\n",
              "      box-shadow: 0px 1px 2px rgba(60, 64, 67, 0.3), 0px 1px 3px 1px rgba(60, 64, 67, 0.15);\n",
              "      fill: #174EA6;\n",
              "    }\n",
              "\n",
              "    [theme=dark] .colab-df-convert {\n",
              "      background-color: #3B4455;\n",
              "      fill: #D2E3FC;\n",
              "    }\n",
              "\n",
              "    [theme=dark] .colab-df-convert:hover {\n",
              "      background-color: #434B5C;\n",
              "      box-shadow: 0px 1px 3px 1px rgba(0, 0, 0, 0.15);\n",
              "      filter: drop-shadow(0px 1px 2px rgba(0, 0, 0, 0.3));\n",
              "      fill: #FFFFFF;\n",
              "    }\n",
              "  </style>\n",
              "\n",
              "      <script>\n",
              "        const buttonEl =\n",
              "          document.querySelector('#df-de97d305-cede-4b72-a3da-60e807dbc79e button.colab-df-convert');\n",
              "        buttonEl.style.display =\n",
              "          google.colab.kernel.accessAllowed ? 'block' : 'none';\n",
              "\n",
              "        async function convertToInteractive(key) {\n",
              "          const element = document.querySelector('#df-de97d305-cede-4b72-a3da-60e807dbc79e');\n",
              "          const dataTable =\n",
              "            await google.colab.kernel.invokeFunction('convertToInteractive',\n",
              "                                                     [key], {});\n",
              "          if (!dataTable) return;\n",
              "\n",
              "          const docLinkHtml = 'Like what you see? Visit the ' +\n",
              "            '<a target=\"_blank\" href=https://colab.research.google.com/notebooks/data_table.ipynb>data table notebook</a>'\n",
              "            + ' to learn more about interactive tables.';\n",
              "          element.innerHTML = '';\n",
              "          dataTable['output_type'] = 'display_data';\n",
              "          await google.colab.output.renderOutput(dataTable, element);\n",
              "          const docLink = document.createElement('div');\n",
              "          docLink.innerHTML = docLinkHtml;\n",
              "          element.appendChild(docLink);\n",
              "        }\n",
              "      </script>\n",
              "    </div>\n",
              "  </div>\n",
              "  "
            ]
          },
          "metadata": {},
          "execution_count": 125
        }
      ]
    },
    {
      "cell_type": "markdown",
      "source": [
        "###Characteristics Using Panda's Libaray"
      ],
      "metadata": {
        "id": "rbNKn_uicphz"
      }
    },
    {
      "cell_type": "code",
      "source": [
        "df03.describe()  "
      ],
      "metadata": {
        "id": "KXTiEfX6bw9U",
        "colab": {
          "base_uri": "https://localhost:8080/",
          "height": 300
        },
        "outputId": "4a1d2841-060c-4902-f7dc-1d28419ebd4a"
      },
      "execution_count": null,
      "outputs": [
        {
          "output_type": "execute_result",
          "data": {
            "text/plain": [
              "              Mass       Diameter      Density    Gravity   Mean Of Row  \\\n",
              "count    13.000000      13.000000    13.000000  13.000000     13.000000   \n",
              "mean    226.562138   36362.676923  3023.100000   0.829262   9942.309667   \n",
              "std     528.118907   45848.820236  1647.133745   0.570401  11284.861687   \n",
              "min       0.013000    2376.000000   687.000000   0.071000   1056.521000   \n",
              "25%       0.642000    6792.000000  1638.000000   0.378000   2681.754750   \n",
              "50%       5.970000   12756.000000  3023.100000   0.889000   4453.718375   \n",
              "75%     102.000000   49528.000000  3934.000000   0.916000  12817.280000   \n",
              "max    1898.000000  142984.000000  5514.000000   2.360000  36552.590000   \n",
              "\n",
              "       Median Of Row  Quantile Of Row  \n",
              "count      13.000000        13.000000  \n",
              "mean     2361.806750      2392.018731  \n",
              "std      1179.351601      1180.933906  \n",
              "min       687.000000       687.000000  \n",
              "25%      1638.000000      1638.000000  \n",
              "50%      2237.588500      2577.177000  \n",
              "75%      3023.100000      3023.100000  \n",
              "max      4569.242500      4569.242500  "
            ],
            "text/html": [
              "\n",
              "  <div id=\"df-1368e3fe-3342-4e91-b804-9f4774708f67\">\n",
              "    <div class=\"colab-df-container\">\n",
              "      <div>\n",
              "<style scoped>\n",
              "    .dataframe tbody tr th:only-of-type {\n",
              "        vertical-align: middle;\n",
              "    }\n",
              "\n",
              "    .dataframe tbody tr th {\n",
              "        vertical-align: top;\n",
              "    }\n",
              "\n",
              "    .dataframe thead th {\n",
              "        text-align: right;\n",
              "    }\n",
              "</style>\n",
              "<table border=\"1\" class=\"dataframe\">\n",
              "  <thead>\n",
              "    <tr style=\"text-align: right;\">\n",
              "      <th></th>\n",
              "      <th>Mass</th>\n",
              "      <th>Diameter</th>\n",
              "      <th>Density</th>\n",
              "      <th>Gravity</th>\n",
              "      <th>Mean Of Row</th>\n",
              "      <th>Median Of Row</th>\n",
              "      <th>Quantile Of Row</th>\n",
              "    </tr>\n",
              "  </thead>\n",
              "  <tbody>\n",
              "    <tr>\n",
              "      <th>count</th>\n",
              "      <td>13.000000</td>\n",
              "      <td>13.000000</td>\n",
              "      <td>13.000000</td>\n",
              "      <td>13.000000</td>\n",
              "      <td>13.000000</td>\n",
              "      <td>13.000000</td>\n",
              "      <td>13.000000</td>\n",
              "    </tr>\n",
              "    <tr>\n",
              "      <th>mean</th>\n",
              "      <td>226.562138</td>\n",
              "      <td>36362.676923</td>\n",
              "      <td>3023.100000</td>\n",
              "      <td>0.829262</td>\n",
              "      <td>9942.309667</td>\n",
              "      <td>2361.806750</td>\n",
              "      <td>2392.018731</td>\n",
              "    </tr>\n",
              "    <tr>\n",
              "      <th>std</th>\n",
              "      <td>528.118907</td>\n",
              "      <td>45848.820236</td>\n",
              "      <td>1647.133745</td>\n",
              "      <td>0.570401</td>\n",
              "      <td>11284.861687</td>\n",
              "      <td>1179.351601</td>\n",
              "      <td>1180.933906</td>\n",
              "    </tr>\n",
              "    <tr>\n",
              "      <th>min</th>\n",
              "      <td>0.013000</td>\n",
              "      <td>2376.000000</td>\n",
              "      <td>687.000000</td>\n",
              "      <td>0.071000</td>\n",
              "      <td>1056.521000</td>\n",
              "      <td>687.000000</td>\n",
              "      <td>687.000000</td>\n",
              "    </tr>\n",
              "    <tr>\n",
              "      <th>25%</th>\n",
              "      <td>0.642000</td>\n",
              "      <td>6792.000000</td>\n",
              "      <td>1638.000000</td>\n",
              "      <td>0.378000</td>\n",
              "      <td>2681.754750</td>\n",
              "      <td>1638.000000</td>\n",
              "      <td>1638.000000</td>\n",
              "    </tr>\n",
              "    <tr>\n",
              "      <th>50%</th>\n",
              "      <td>5.970000</td>\n",
              "      <td>12756.000000</td>\n",
              "      <td>3023.100000</td>\n",
              "      <td>0.889000</td>\n",
              "      <td>4453.718375</td>\n",
              "      <td>2237.588500</td>\n",
              "      <td>2577.177000</td>\n",
              "    </tr>\n",
              "    <tr>\n",
              "      <th>75%</th>\n",
              "      <td>102.000000</td>\n",
              "      <td>49528.000000</td>\n",
              "      <td>3934.000000</td>\n",
              "      <td>0.916000</td>\n",
              "      <td>12817.280000</td>\n",
              "      <td>3023.100000</td>\n",
              "      <td>3023.100000</td>\n",
              "    </tr>\n",
              "    <tr>\n",
              "      <th>max</th>\n",
              "      <td>1898.000000</td>\n",
              "      <td>142984.000000</td>\n",
              "      <td>5514.000000</td>\n",
              "      <td>2.360000</td>\n",
              "      <td>36552.590000</td>\n",
              "      <td>4569.242500</td>\n",
              "      <td>4569.242500</td>\n",
              "    </tr>\n",
              "  </tbody>\n",
              "</table>\n",
              "</div>\n",
              "      <button class=\"colab-df-convert\" onclick=\"convertToInteractive('df-1368e3fe-3342-4e91-b804-9f4774708f67')\"\n",
              "              title=\"Convert this dataframe to an interactive table.\"\n",
              "              style=\"display:none;\">\n",
              "        \n",
              "  <svg xmlns=\"http://www.w3.org/2000/svg\" height=\"24px\"viewBox=\"0 0 24 24\"\n",
              "       width=\"24px\">\n",
              "    <path d=\"M0 0h24v24H0V0z\" fill=\"none\"/>\n",
              "    <path d=\"M18.56 5.44l.94 2.06.94-2.06 2.06-.94-2.06-.94-.94-2.06-.94 2.06-2.06.94zm-11 1L8.5 8.5l.94-2.06 2.06-.94-2.06-.94L8.5 2.5l-.94 2.06-2.06.94zm10 10l.94 2.06.94-2.06 2.06-.94-2.06-.94-.94-2.06-.94 2.06-2.06.94z\"/><path d=\"M17.41 7.96l-1.37-1.37c-.4-.4-.92-.59-1.43-.59-.52 0-1.04.2-1.43.59L10.3 9.45l-7.72 7.72c-.78.78-.78 2.05 0 2.83L4 21.41c.39.39.9.59 1.41.59.51 0 1.02-.2 1.41-.59l7.78-7.78 2.81-2.81c.8-.78.8-2.07 0-2.86zM5.41 20L4 18.59l7.72-7.72 1.47 1.35L5.41 20z\"/>\n",
              "  </svg>\n",
              "      </button>\n",
              "      \n",
              "  <style>\n",
              "    .colab-df-container {\n",
              "      display:flex;\n",
              "      flex-wrap:wrap;\n",
              "      gap: 12px;\n",
              "    }\n",
              "\n",
              "    .colab-df-convert {\n",
              "      background-color: #E8F0FE;\n",
              "      border: none;\n",
              "      border-radius: 50%;\n",
              "      cursor: pointer;\n",
              "      display: none;\n",
              "      fill: #1967D2;\n",
              "      height: 32px;\n",
              "      padding: 0 0 0 0;\n",
              "      width: 32px;\n",
              "    }\n",
              "\n",
              "    .colab-df-convert:hover {\n",
              "      background-color: #E2EBFA;\n",
              "      box-shadow: 0px 1px 2px rgba(60, 64, 67, 0.3), 0px 1px 3px 1px rgba(60, 64, 67, 0.15);\n",
              "      fill: #174EA6;\n",
              "    }\n",
              "\n",
              "    [theme=dark] .colab-df-convert {\n",
              "      background-color: #3B4455;\n",
              "      fill: #D2E3FC;\n",
              "    }\n",
              "\n",
              "    [theme=dark] .colab-df-convert:hover {\n",
              "      background-color: #434B5C;\n",
              "      box-shadow: 0px 1px 3px 1px rgba(0, 0, 0, 0.15);\n",
              "      filter: drop-shadow(0px 1px 2px rgba(0, 0, 0, 0.3));\n",
              "      fill: #FFFFFF;\n",
              "    }\n",
              "  </style>\n",
              "\n",
              "      <script>\n",
              "        const buttonEl =\n",
              "          document.querySelector('#df-1368e3fe-3342-4e91-b804-9f4774708f67 button.colab-df-convert');\n",
              "        buttonEl.style.display =\n",
              "          google.colab.kernel.accessAllowed ? 'block' : 'none';\n",
              "\n",
              "        async function convertToInteractive(key) {\n",
              "          const element = document.querySelector('#df-1368e3fe-3342-4e91-b804-9f4774708f67');\n",
              "          const dataTable =\n",
              "            await google.colab.kernel.invokeFunction('convertToInteractive',\n",
              "                                                     [key], {});\n",
              "          if (!dataTable) return;\n",
              "\n",
              "          const docLinkHtml = 'Like what you see? Visit the ' +\n",
              "            '<a target=\"_blank\" href=https://colab.research.google.com/notebooks/data_table.ipynb>data table notebook</a>'\n",
              "            + ' to learn more about interactive tables.';\n",
              "          element.innerHTML = '';\n",
              "          dataTable['output_type'] = 'display_data';\n",
              "          await google.colab.output.renderOutput(dataTable, element);\n",
              "          const docLink = document.createElement('div');\n",
              "          docLink.innerHTML = docLinkHtml;\n",
              "          element.appendChild(docLink);\n",
              "        }\n",
              "      </script>\n",
              "    </div>\n",
              "  </div>\n",
              "  "
            ]
          },
          "metadata": {},
          "execution_count": 126
        }
      ]
    },
    {
      "cell_type": "code",
      "source": [
        "print (\"The End  \\n Thank You\")"
      ],
      "metadata": {
        "colab": {
          "base_uri": "https://localhost:8080/"
        },
        "id": "4pRRm0dkOjbX",
        "outputId": "cfdc0b35-6b6a-4de4-cefe-59b6f0c3be53"
      },
      "execution_count": null,
      "outputs": [
        {
          "output_type": "stream",
          "name": "stdout",
          "text": [
            "The End  \n",
            " Thank You\n"
          ]
        }
      ]
    }
  ]
}